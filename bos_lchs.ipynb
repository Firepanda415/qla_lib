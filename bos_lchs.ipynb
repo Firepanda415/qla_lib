{
 "cells": [
  {
   "cell_type": "code",
   "execution_count": 1,
   "metadata": {},
   "outputs": [],
   "source": [
    "import numpy as np\n",
    "import numpy.linalg as nl\n",
    "import scipy\n",
    "import scipy.linalg as sl\n",
    "import matplotlib.pyplot as plt\n",
    "import sys\n",
    "sys.path.append('./src')\n",
    "\n",
    "np.set_printoptions(suppress=True)\n",
    "\n",
    "import pauli2qumode\n",
    "import importlib\n",
    "importlib.reload(pauli2qumode)\n",
    "from pauli2qumode import *"
   ]
  },
  {
   "cell_type": "code",
   "execution_count": 5,
   "metadata": {},
   "outputs": [
    {
     "name": "stdout",
     "output_type": "stream",
     "text": [
      "[[ 0.99984742-0.01562389j  0.00012206+0.00781139j -0.00003051+0.00000048j\n",
      "  -0.        -0.00000008j]\n",
      " [ 0.00012206+0.00781139j  0.99981691-0.01562341j  0.00012206+0.00781131j\n",
      "  -0.00003051+0.00000048j]\n",
      " [-0.00003051+0.00000048j  0.00012206+0.00781131j  0.99981691-0.01562341j\n",
      "   0.00012206+0.00781139j]\n",
      " [-0.        -0.00000008j -0.00003051+0.00000048j  0.00012206+0.00781139j\n",
      "   0.99984742-0.01562389j]]\n",
      "Optimization terminated successfully.\n",
      "         Current function value: 0.000008\n",
      "         Iterations: 159\n",
      "         Function evaluations: 3784\n",
      "         Gradient evaluations: 172\n"
     ]
    },
    {
     "data": {
      "text/plain": [
       "{'W': array([[ 0.99984742-0.01562389j,  0.00012206+0.00781139j,\n",
       "         -0.00003051+0.00000048j, -0.        -0.00000008j],\n",
       "        [ 0.00012206+0.00781139j,  0.99981691-0.01562341j,\n",
       "          0.00012206+0.00781131j, -0.00003051+0.00000048j],\n",
       "        [-0.00003051+0.00000048j,  0.00012206+0.00781131j,\n",
       "          0.99981691-0.01562341j,  0.00012206+0.00781139j],\n",
       "        [-0.        -0.00000008j, -0.00003051+0.00000048j,\n",
       "          0.00012206+0.00781139j,  0.99984742-0.01562389j]]),\n",
       " 'fun': 7.702325695033441e-06,\n",
       " 'full_params': array([ 1.        ,  3.20100697,  0.22395412, -0.08428219,  0.99247415,\n",
       "         3.19512068,  3.37015354,  3.08073384, -0.69337357, -0.00773862,\n",
       "         5.21764389,  3.29816556, -0.49915409, -2.84373666,  1.5084845 ,\n",
       "         0.10168551, -2.66053356,  2.84586607,  1.50357084,  3.19978305,\n",
       "         3.50491643]),\n",
       " 'lambdas': array([1.]),\n",
       " 'betas_mag': array([[ 3.20100697,  3.19512068, -0.00773862, -2.84373666,  2.84586607]]),\n",
       " 'betas_ang': array([[0.22395412, 3.37015354, 5.21764389, 1.5084845 , 1.50357084]]),\n",
       " 'thetas': array([[-0.08428219,  3.08073384,  3.29816556,  0.10168551,  3.19978305]]),\n",
       " 'phis': array([[ 0.99247415, -0.69337357, -0.49915409, -2.66053356,  3.50491643]]),\n",
       " 'circuit': <c2qa.circuit.CVCircuit at 0x1044dd760>}"
      ]
     },
     "execution_count": 5,
     "metadata": {},
     "output_type": "execute_result"
    }
   ],
   "source": [
    "# pauli_terms = [\"IYY\"]\n",
    "# coefficients = [1]\n",
    "\n",
    "# # Pauli matrices for constructing target operator.\n",
    "# I = np.array([[1, 0], [0, 1]], dtype=complex)\n",
    "# X = np.array([[0, 1], [1, 0]], dtype=complex)\n",
    "# Y = np.array([[0, -1j], [1j, 0]], dtype=complex)\n",
    "# Z = np.array([[1, 0], [0, -1]], dtype=complex)\n",
    "# pauli_map = {'I': I, 'X': X, 'Y': Y, 'Z': Z}\n",
    "\n",
    "# W = 1\n",
    "# for term, coeff in zip(pauli_terms, coefficients):\n",
    "#     for p in term:\n",
    "#         W = np.kron(pauli_map[p],W)\n",
    "#     W = coeff * W\n",
    "\n",
    "from lchs_pauli import pauli_arr_to_mat\n",
    "use_circuit = True\n",
    "hf = 8\n",
    "A_pauli_arr = ['II', 'IX', 'XX', 'YY']\n",
    "A_coef_arr = np.array([2, -1, -0.5, -0.5]) * 1/(hf**2)\n",
    "L_pauli_arr = A_pauli_arr\n",
    "L_coef_arr = A_coef_arr.copy()\n",
    "H_pauli_arr = []\n",
    "H_coef_arr = np.array([])\n",
    "#\n",
    "A = pauli_arr_to_mat(A_coef_arr, A_pauli_arr)\n",
    "\n",
    "import numpy\n",
    "nq = 2 #2\n",
    "## Define random A and u0\n",
    "dim = 2**nq\n",
    "rng = numpy.random.Generator(numpy.random.PCG64(178984893489))\n",
    "\n",
    "\n",
    "## Random numpy\n",
    "from lchs import cart_decomp\n",
    "# A = (numpy.matrix(rng.random((dim,dim)),dtype=complex)-0.5)  + 1j*(numpy.matrix(rng.random((dim,dim)),dtype=complex)-0.5)\n",
    "# A = 0.5*A + 0.5*numpy.identity(dim)\n",
    "L,H = cart_decomp(A)\n",
    "\n",
    "N_t = 1\n",
    "N_d = 5\n",
    "\n",
    "res_dict = var_recd(A, N_t=N_t, N_d=N_d, exp_coeff=-1j*0.5, use_circuit=use_circuit)\n",
    "res_dict"
   ]
  },
  {
   "cell_type": "code",
   "execution_count": null,
   "metadata": {},
   "outputs": [],
   "source": [
    "res_dict['circuit'].draw()"
   ]
  },
  {
   "cell_type": "markdown",
   "metadata": {},
   "source": [
    "## Compare gates in the paper and in the Bosonic Qiskit"
   ]
  },
  {
   "cell_type": "code",
   "execution_count": null,
   "metadata": {},
   "outputs": [],
   "source": [
    "import c2qa\n",
    "from c2qa.operators import CVOperators\n",
    "\n",
    "L = 2\n",
    "beta = 2 ## use the manner\n",
    "\n",
    "Xgate = np.array([[0,1],[1,0]])\n",
    "Id = np.identity(L)\n",
    "XI = np.kron(Xgate, Id)\n",
    "\n",
    "ECDbq = CVOperators().ecd(beta/2, L).todense()\n",
    "XI.dot(ECDbq)"
   ]
  },
  {
   "cell_type": "code",
   "execution_count": null,
   "metadata": {},
   "outputs": [],
   "source": [
    "b = np.zeros((L, L), dtype=complex)\n",
    "for m in range(1, L):\n",
    "    b[m - 1, m] = np.sqrt(m)\n",
    "b_dag = b.T\n",
    "\n",
    "ecd_gate(beta, b, b_dag).real"
   ]
  },
  {
   "cell_type": "code",
   "execution_count": null,
   "metadata": {},
   "outputs": [],
   "source": [
    "theta = 0.5\n",
    "phi = 0.2\n",
    "\n",
    "import qiskit\n",
    "rz1 = qiskit.circuit.library.RZGate(phi).to_matrix()\n",
    "rx = qiskit.circuit.library.RXGate(theta).to_matrix()\n",
    "rz2 = qiskit.circuit.library.RZGate(-phi).to_matrix()\n",
    "\n",
    "rz1 @ rx @ rz2"
   ]
  },
  {
   "cell_type": "code",
   "execution_count": null,
   "metadata": {},
   "outputs": [],
   "source": [
    "rotation_gate(theta, phi)"
   ]
  },
  {
   "cell_type": "code",
   "execution_count": null,
   "metadata": {},
   "outputs": [],
   "source": [
    "import qiskit.quantum_info\n",
    "from utils_synth import qiskit_normal_order_switch\n",
    "\n",
    "\n",
    "L = 2\n",
    "beta_mag = 2\n",
    "beta_ang = 1\n",
    "theta = 0.5\n",
    "phi = 0.2\n",
    "\n",
    "beta = beta_mag * np.exp(1j * beta_ang)\n",
    "param_test = [beta_mag, beta_ang, theta, phi]\n",
    "\n",
    "qr = qiskit.QuantumRegister(size=1)\n",
    "qmr = c2qa.QumodeRegister(num_qumodes=1, num_qubits_per_qumode=int( np.log2(L) ))\n",
    "circuit = c2qa.CVCircuit(qr, qmr)\n",
    "\n",
    "## Rotation\n",
    "circuit.rz(-phi, qr[0])\n",
    "circuit.rx(theta, qr[0])\n",
    "circuit.rz(phi, qr[0])\n",
    "## ECD\n",
    "circuit.cv_ecd(beta/2, qmr[0], qr[0], duration=100, unit=\"ns\")\n",
    "circuit.x(qr)\n",
    "\n",
    "print(circuit.draw())\n",
    "qiskit_normal_order_switch( qiskit.quantum_info.Operator(circuit).to_matrix() )"
   ]
  },
  {
   "cell_type": "code",
   "execution_count": null,
   "metadata": {},
   "outputs": [],
   "source": [
    "b = np.zeros((L, L), dtype=complex)\n",
    "for m in range(1, L):\n",
    "    b[m - 1, m] = np.sqrt(m)\n",
    "b_dag = b.T\n",
    "\n",
    "simulate_unitary_sequence([param_test], 1, b, b_dag, L)"
   ]
  },
  {
   "cell_type": "code",
   "execution_count": null,
   "metadata": {},
   "outputs": [],
   "source": []
  }
 ],
 "metadata": {
  "kernelspec": {
   "display_name": "qbos",
   "language": "python",
   "name": "python3"
  },
  "language_info": {
   "codemirror_mode": {
    "name": "ipython",
    "version": 3
   },
   "file_extension": ".py",
   "mimetype": "text/x-python",
   "name": "python",
   "nbconvert_exporter": "python",
   "pygments_lexer": "ipython3",
   "version": "3.12.8"
  }
 },
 "nbformat": 4,
 "nbformat_minor": 2
}
