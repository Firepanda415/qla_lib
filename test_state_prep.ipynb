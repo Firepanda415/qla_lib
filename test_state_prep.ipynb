{
 "cells": [
  {
   "cell_type": "code",
   "execution_count": 5,
   "metadata": {},
   "outputs": [],
   "source": [
    "import numpy as np\n",
    "import numpy\n",
    "import scipy\n",
    "import qiskit\n",
    "from qiskit import transpile\n",
    "import scipy.linalg as sl\n",
    "import numpy.linalg as nl\n",
    "\n",
    "from scipy.linalg import cossin\n",
    "from qiskit.quantum_info import Operator, Statevector\n",
    "from qiskit import QuantumCircuit\n",
    "from qiskit.circuit.library import UGate,UCPauliRotGate\n",
    "\n",
    "import sys\n",
    "sys.path.append('./src')\n",
    "\n",
    "from lchs import *\n",
    "from lcu import *\n",
    "\n",
    "import utils_sp\n",
    "import importlib\n",
    "importlib.reload(utils_sp)\n",
    "from utils_sp import *\n",
    "\n",
    "\n",
    "np.set_printoptions(precision=8, suppress=True)"
   ]
  },
  {
   "cell_type": "code",
   "execution_count": 144,
   "metadata": {},
   "outputs": [],
   "source": [
    "def second_decomp(block_u1:numpy.ndarray, block_u2:numpy.ndarray, enable_debug:bool=True) -> (numpy.ndarray, numpy.ndarray, numpy.ndarray):\n",
    "    ## Accoding to Eq. (16) in 10.1109/TCAD.2005.855930\n",
    "    ## Cosine-Sine decompsotion gives \n",
    "    ## U = [ A_1     ] [C    -S ] [A_2     ]\n",
    "    ##     [     B_1 ] [S     C ] [    B_2 ]\n",
    "    ## where A_1, B_1, A_2, B_2 are unitary matrices in equal shapes\n",
    "    ## Then, this function construct the 2nd decompsotion for each left and right block diagonal matrices\n",
    "    ## [ U_1    ] = [V   ] [D          ] [W   ]\n",
    "    ## [     U_2]   [   V] [   D^dagger] [   W]\n",
    "    ## the constructon is like the following  => U_1 = VDW, U_2 = VD^dagger W\n",
    "    ## We cancel out W terms and get U_1 U_2^\\dagger = V D^2 V^\\dagger\n",
    "    ## Then we diagonalize U_1 U_2^\\dagger to obtain V (eigenvector matrix) and D^2 (eigenvalue matrix)\n",
    "    ## Then D = sqrt(D^2), W = D V^\\dagger U_2 -> this is the equation in paper, but W = D^{-1} V^\\dagger U_1 is correct\n",
    "    ## Note that [D          ] is a R_z multiplexer\n",
    "    ##           [   D^dagger]\n",
    "\n",
    "    if block_u1.shape[0] != block_u1.shape[1] or block_u2.shape[0] != block_u2.shape[1]:\n",
    "        raise ValueError('Input matrices must be square, but', block_u1.shape, block_u2.shape, 'were given')\n",
    "    if block_u1.shape[0] != block_u2.shape[0]:\n",
    "        raise ValueError('Input matrices must have the same size, but', block_u1.shape[0], block_u2.shape[0], 'were given')\n",
    "    \n",
    "    bu_evals, bu_v = scipy.linalg.eig(block_u1.dot( block_u2.T.conj() ) )\n",
    "    bu_d_inv = np.diag( 1/np.sqrt(bu_evals) )\n",
    "    bu_w = bu_d_inv @ bu_v.T.conj() @ block_u1\n",
    "\n",
    "    if enable_debug:\n",
    "        bu_d = np.diag( np.sqrt(bu_evals) )\n",
    "        zeroes = np.zeros_like(block_u1)\n",
    "        prod_mat = np.array([[bu_v, zeroes], [zeroes, bu_v]]) @ np.array([[bu_d, zeroes], [zeroes, bu_d.conj().T]]) @ np.array([[bu_w, zeroes],[zeroes, bu_w]])\n",
    "        ans = np.array([[block_u1, zeroes], [zeroes, block_u2]])\n",
    "        print(\"2nd decomp error\", nl.norm(prod_mat - ans))  \n",
    "\n",
    "    return bu_v, np.sqrt(bu_evals), bu_w\n",
    "\n",
    "\n",
    "\n",
    "def unitary_synthesis(unitary:numpy.ndarray, circuit:qiskit.QuantumCircuit, bottom_control:list[int], top_target:int, debug=False):\n",
    "    ## Use uniformly controlled rotations to synthesize a unitary matrix\n",
    "    ## Based on Quantum Shannon Decomposition (QSD) in [1]\n",
    "    ##\n",
    "    ## QSD decomposition gives U = U CS V, \n",
    "    ## 2nd decomposition gives U = U_V U_D U_W   and   V = V_V V_D V_W\n",
    "    ## So the Circuit order: |\\phi> [v1 v2] [C S] [u1 u2]\n",
    "    ##                    -> |\\phi> (V_W V_D V_V) CS (U_W U_D U_V)\n",
    "    ## V_D and U_D are diagonal matrices, so we can use multiplexer R_z gates\n",
    "    ## CS is multiplexer R_y gates\n",
    "    ## Each V_W, V_V, U_W, U_V are unitaries, so do the decompsoition recursively\n",
    "    ##\n",
    "    ## [1] 10.1109/TCAD.2005.855930\n",
    "    ## NOTE: For Multiplexer\n",
    "    ##                      0 ----|R_y|--\n",
    "    ##                    n-1 -/---ctrl-\n",
    "    ## bottom_control is [1,2,3,...,n-1], top_target is 0\n",
    "\n",
    "    (u1,u2), thetas_cs, (v1h, v2h) = scipy.linalg.cossin(unitary, p=unitary.shape[0]//2, q=unitary.shape[1]//2, separate=True)\n",
    "    # _, cs_mat, _ = scipy.linalg.cossin(unitary, p=unitary.shape[0]//2, q=unitary.shape[1]//2)\n",
    "    u_v, u_dd, u_w = second_decomp(u1, u2, enable_debug=debug)\n",
    "    # v_v, v_dd, v_w = second_decomp(v1h.T.conj(), v2h.T.conj(), enable_debug=debug)\n",
    "    v_v, v_dd, v_w = second_decomp(v1h, v2h, enable_debug=debug)\n",
    "    thetas_cs = list(thetas_cs*2) ##  WARNING: based on Qiskit implementation, the angles are multiplied by 2 for Multiplexer\n",
    "\n",
    "    u_zangle = list(np.angle(u_dd)* (-2)) ## R_z(lambda) = exp(-i lambda Z/2)\n",
    "    v_zangle = list(np.angle(v_dd)* (-2)) ## R_z(lambda) = exp(-i lambda Z/2)\n",
    "\n",
    "    if debug:\n",
    "        u1err = nl.norm(u_v @ np.diag(u_dd) @ u_w - u1)\n",
    "        u2err = nl.norm(u_v @ np.diag(u_dd).conj() @ u_w - u2)\n",
    "        if u1err > 1e-12:\n",
    "            raise ValueError('Invalid 2nd decomposition for U, the error is', u1err)\n",
    "        if u2err > 1e-12:\n",
    "            raise ValueError('Invalid 2nd decomposition for U, the error is', u2err)\n",
    "    \n",
    "    # print(\"\\n\", bottom_control, top_target)\n",
    "    ## Recursively synthesize the unitaries\n",
    "    if len(bottom_control) == 0:\n",
    "        circuit.unitary(unitary, top_target)\n",
    "        return\n",
    "    ## v\n",
    "    unitary_synthesis(v_w, circuit, bottom_control[1:], bottom_control[0])\n",
    "    multiplexer_pauli(circuit, v_zangle, bottom_control, top_target, axis='Z') ## V_D\n",
    "    unitary_synthesis(v_v, circuit, bottom_control[1:], bottom_control[0])\n",
    "    # CS\n",
    "    circuit.barrier()\n",
    "    multiplexer_pauli(circuit, thetas_cs, bottom_control, top_target, axis='Y') ## V_D\n",
    "    circuit.barrier()\n",
    "    ## u\n",
    "    unitary_synthesis(u_w, circuit, bottom_control[1:], bottom_control[0])\n",
    "    multiplexer_pauli(circuit, u_zangle, bottom_control, top_target, axis='Z') ## V_D\n",
    "    unitary_synthesis(u_v, circuit, bottom_control[1:], bottom_control[0])\n",
    "\n",
    "    # ## v\n",
    "    # circuit.unitary(scipy.linalg.block_diag(v_w, v_w), bottom_control+[top_target])\n",
    "    # circuit.unitary(scipy.linalg.block_diag(np.diag(v_dd),np.diag(v_dd).conj()), bottom_control+[top_target])\n",
    "    # circuit.unitary(scipy.linalg.block_diag(v_v, v_v), bottom_control+[top_target])\n",
    "    # ## CS\n",
    "    # circuit.unitary(cs_mat, bottom_control+[top_target])\n",
    "    # ## u    \n",
    "    # circuit.unitary(scipy.linalg.block_diag(u_w, u_w), bottom_control+[top_target])\n",
    "    # circuit.unitary(scipy.linalg.block_diag(np.diag(u_dd),np.diag(u_dd).T), bottom_control+[top_target])\n",
    "    # circuit.unitary(scipy.linalg.block_diag(u_v, u_v), bottom_control+[top_target])"
   ]
  },
  {
   "cell_type": "code",
   "execution_count": 152,
   "metadata": {},
   "outputs": [
    {
     "name": "stdout",
     "output_type": "stream",
     "text": [
      "Ideal error 2.1300398239941415e-16\n",
      "State [0.20432423 0.13516195 0.09312569 0.1702143  0.07317011 0.06456402\n",
      " 0.05776223 0.07473044 0.22633805 0.12989821 0.05974905 0.20642486\n",
      " 0.01464517 0.21527556 0.26529004 0.09393781 0.26699801 0.11785323\n",
      " 0.11869949 0.27421717 0.24747546 0.2250407  0.21252766 0.13163754\n",
      " 0.28612975 0.04667651 0.02858606 0.20383938 0.19148548 0.06969939\n",
      " 0.28430822 0.21501397]\n",
      "Qiskit circuit {'rz': 93, 'rx': 62, 'cx': 26, 'reset': 5}\n"
     ]
    }
   ],
   "source": [
    "n = 5\n",
    "\n",
    "##\n",
    "rng = np.random.default_rng(9322825479999827034282302141)\n",
    "psi = rng.random(2**n)\n",
    "# psi = np.array([0,0.5,0.5,0])\n",
    "psi = psi / np.linalg.norm(psi, ord=2)#\n",
    "state0 = numpy.zeros(2**n,dtype=int)\n",
    "state0[0] = 1 #\n",
    "##\n",
    "U = np.eye(2**n, dtype=complex)\n",
    "U[:, 0] = psi\n",
    "U,r = numpy.linalg.qr(U, mode='complete')\n",
    "if numpy.linalg.norm(U[:, 0] - psi[0]) > 1e-8:\n",
    "    U = -U\n",
    "\n",
    "print(\"Ideal error\", numpy.linalg.norm(U.dot(state0) - psi))\n",
    "print(\"State\", psi)\n",
    "\n",
    "##\n",
    "qiscirc = QuantumCircuit(n)\n",
    "qiscirc.initialize(psi)\n",
    "\n",
    "qiscirc_trans = transpile(qiscirc, basis_gates=['rz','ry','rx', 'cx'], optimization_level=0)\n",
    "print(\"Qiskit circuit\", dict(qiscirc_trans.count_ops()) )\n",
    "# qiscirc_trans.draw()"
   ]
  },
  {
   "cell_type": "code",
   "execution_count": 153,
   "metadata": {},
   "outputs": [
    {
     "name": "stdout",
     "output_type": "stream",
     "text": [
      "My Implementation {'cx': 720, 'rz': 479, 'unitary': 256, 'ry': 240, 'barrier': 170}\n",
      "Optimized Implemntation {'rz': 991, 'cx': 720, 'ry': 496, 'barrier': 170}\n",
      "My error 1.0383025598085432e-13\n"
     ]
    }
   ],
   "source": [
    "my_circuit = QuantumCircuit(n)\n",
    "unitary_synthesis(U, my_circuit, list(range(n))[1:], 0)\n",
    "my_circuit = my_circuit.reverse_bits()\n",
    "my_circ_mat = Operator(my_circuit).data\n",
    "\n",
    "my_circuit_trans = transpile(my_circuit, basis_gates=['rz','ry','rx', 'cx'], optimization_level=1)\n",
    "\n",
    "print(\"My Implementation\", dict(my_circuit.count_ops()) )\n",
    "print(\"Optimized Implemntation\", dict(my_circuit_trans.count_ops()) )\n",
    "print(\"My error\", numpy.linalg.norm(my_circ_mat - U) )\n",
    "\n",
    "# my_circuit.draw()"
   ]
  },
  {
   "cell_type": "code",
   "execution_count": null,
   "metadata": {},
   "outputs": [],
   "source": []
  },
  {
   "cell_type": "code",
   "execution_count": 143,
   "metadata": {},
   "outputs": [
    {
     "data": {
      "text/plain": [
       "(array([[ 0.        , -0.        , -0.        ,  1.        ,  0.        ,\n",
       "          0.        ,  0.        ,  0.        ],\n",
       "        [-0.57160229, -0.74857125,  0.33602367, -0.        ,  0.        ,\n",
       "          0.        ,  0.        ,  0.        ],\n",
       "        [-0.39383019, -0.10897397, -0.91270064, -0.        ,  0.        ,\n",
       "          0.        ,  0.        ,  0.        ],\n",
       "        [-0.71983929,  0.65403804,  0.23252019, -0.        ,  0.        ,\n",
       "          0.        ,  0.        ,  0.        ],\n",
       "        [ 0.        ,  0.        ,  0.        ,  0.        , -0.71953454,\n",
       "          0.28751996, -0.33063201,  0.53878084],\n",
       "        [ 0.        ,  0.        ,  0.        ,  0.        , -0.13039714,\n",
       "         -0.26377747,  0.82909748,  0.47541076],\n",
       "        [ 0.        ,  0.        ,  0.        ,  0.        ,  0.22342404,\n",
       "         -0.75366147, -0.44852367,  0.42532647],\n",
       "        [ 0.        ,  0.        ,  0.        ,  0.        ,  0.64447523,\n",
       "          0.52891219, -0.04589508,  0.55027013]]),\n",
       " array([[ 1.        ,  0.        ,  0.        ,  0.        , -0.        ,\n",
       "         -0.        , -0.        , -0.        ],\n",
       "        [ 0.        ,  1.        ,  0.        ,  0.        , -0.        ,\n",
       "         -0.        , -0.        , -0.        ],\n",
       "        [ 0.        ,  0.        ,  1.        ,  0.        , -0.        ,\n",
       "         -0.        , -0.        , -0.        ],\n",
       "        [ 0.        ,  0.        ,  0.        ,  0.83281954, -0.        ,\n",
       "         -0.        , -0.        , -0.55354459],\n",
       "        [ 0.        ,  0.        ,  0.        ,  0.        ,  1.        ,\n",
       "          0.        ,  0.        ,  0.        ],\n",
       "        [ 0.        ,  0.        ,  0.        ,  0.        ,  0.        ,\n",
       "          1.        ,  0.        ,  0.        ],\n",
       "        [ 0.        ,  0.        ,  0.        ,  0.        ,  0.        ,\n",
       "          0.        ,  1.        ,  0.        ],\n",
       "        [ 0.        ,  0.        ,  0.        ,  0.55354459,  0.        ,\n",
       "          0.        ,  0.        ,  0.83281954]]),\n",
       " array([[-0.69395815, -0.32281425, -0.25380388, -0.59143608,  0.        ,\n",
       "          0.        ,  0.        ,  0.        ],\n",
       "        [ 0.        , -0.81547075, -0.21503134,  0.5373723 ,  0.        ,\n",
       "          0.        ,  0.        ,  0.        ],\n",
       "        [ 0.        ,  0.36605396, -0.91077262,  0.19104379,  0.        ,\n",
       "          0.        ,  0.        ,  0.        ],\n",
       "        [ 0.72001534, -0.31113168, -0.24461878, -0.57003215,  0.        ,\n",
       "          0.        ,  0.        ,  0.        ],\n",
       "        [ 0.        ,  0.        ,  0.        ,  0.        , -0.75384097,\n",
       "         -0.20014039,  0.15913705, -0.60526276],\n",
       "        [ 0.        ,  0.        ,  0.        ,  0.        ,  0.30122852,\n",
       "         -0.24864551, -0.7750452 , -0.49673104],\n",
       "        [ 0.        ,  0.        ,  0.        ,  0.        , -0.34639609,\n",
       "          0.83289629, -0.42945976,  0.04310264],\n",
       "        [ 0.        ,  0.        ,  0.        ,  0.        ,  0.47010096,\n",
       "          0.45210951,  0.43536726, -0.62052996]]))"
      ]
     },
     "execution_count": 143,
     "metadata": {},
     "output_type": "execute_result"
    }
   ],
   "source": [
    "u_sp, cs_sp, v_sp = scipy.linalg.cossin(U, p=U.shape[0]//2, q=U.shape[1]//2)\n",
    "u_sp.real, cs_sp.real, v_sp.real"
   ]
  },
  {
   "cell_type": "code",
   "execution_count": 122,
   "metadata": {},
   "outputs": [
    {
     "data": {
      "text/plain": [
       "array([[ 0.65381679, -0.31362995, -0.62085702,  0.29781944],\n",
       "       [ 0.43250453,  0.90163176,  0.        ,  0.        ],\n",
       "       [ 0.62085702, -0.29781944,  0.65381679, -0.31362995],\n",
       "       [-0.        ,  0.        ,  0.43250453,  0.90163176]])"
      ]
     },
     "execution_count": 122,
     "metadata": {},
     "output_type": "execute_result"
    }
   ],
   "source": [
    "my_circ_mat.real"
   ]
  },
  {
   "cell_type": "code",
   "execution_count": 123,
   "metadata": {},
   "outputs": [
    {
     "data": {
      "text/plain": [
       "array([[ 0.65381679, -0.31362995, -0.25393423,  0.64006036],\n",
       "       [ 0.43250453,  0.90163176, -0.        , -0.        ],\n",
       "       [ 0.29799275, -0.1429444 ,  0.94380465,  0.        ],\n",
       "       [ 0.54466848, -0.2612725 , -0.2115424 , -0.76832463]])"
      ]
     },
     "execution_count": 123,
     "metadata": {},
     "output_type": "execute_result"
    }
   ],
   "source": [
    "U.real"
   ]
  },
  {
   "cell_type": "code",
   "execution_count": null,
   "metadata": {},
   "outputs": [],
   "source": []
  },
  {
   "cell_type": "code",
   "execution_count": 100,
   "metadata": {},
   "outputs": [
    {
     "data": {
      "text/plain": [
       "array([[1., 0., 0., 0.],\n",
       "       [0., 1., 0., 0.],\n",
       "       [0., 0., 1., 0.],\n",
       "       [0., 0., 0., 1.]])"
      ]
     },
     "execution_count": 100,
     "metadata": {},
     "output_type": "execute_result"
    }
   ],
   "source": [
    "scipy.linalg.block_diag(np.eye(2), np.eye(2))"
   ]
  },
  {
   "cell_type": "code",
   "execution_count": null,
   "metadata": {},
   "outputs": [],
   "source": []
  }
 ],
 "metadata": {
  "kernelspec": {
   "display_name": "qnew",
   "language": "python",
   "name": "python3"
  },
  "language_info": {
   "codemirror_mode": {
    "name": "ipython",
    "version": 3
   },
   "file_extension": ".py",
   "mimetype": "text/x-python",
   "name": "python",
   "nbconvert_exporter": "python",
   "pygments_lexer": "ipython3",
   "version": "3.12.4"
  }
 },
 "nbformat": 4,
 "nbformat_minor": 2
}
