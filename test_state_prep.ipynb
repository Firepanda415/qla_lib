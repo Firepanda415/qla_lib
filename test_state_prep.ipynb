{
 "cells": [
  {
   "cell_type": "code",
   "execution_count": 1,
   "metadata": {},
   "outputs": [],
   "source": [
    "import numpy as np\n",
    "import numpy\n",
    "import scipy\n",
    "import qiskit\n",
    "from qiskit import transpile\n",
    "import scipy.linalg as sl\n",
    "import numpy.linalg as nl\n",
    "\n",
    "from scipy.linalg import cossin\n",
    "from qiskit.quantum_info import Operator, Statevector\n",
    "from qiskit import QuantumCircuit\n",
    "from qiskit.circuit.library import UGate,UCPauliRotGate\n",
    "\n",
    "import sys\n",
    "sys.path.append('./src')\n",
    "\n",
    "from lchs import *\n",
    "from lcu import *\n",
    "\n",
    "import utils_synth\n",
    "import importlib\n",
    "importlib.reload(utils_synth)\n",
    "from utils_synth import *\n",
    "\n",
    "from qiskit import QuantumCircuit, transpile\n",
    "from qiskit.quantum_info import Operator\n",
    "\n",
    "\n",
    "import oracle_synth\n",
    "import importlib\n",
    "importlib.reload(oracle_synth)\n",
    "from oracle_synth import *\n",
    "\n",
    "rng = numpy.random.default_rng(4290962056973923694427)\n",
    "np.set_printoptions(precision=8, suppress=True)"
   ]
  },
  {
   "cell_type": "code",
   "execution_count": null,
   "metadata": {},
   "outputs": [],
   "source": [
    "n = 3\n",
    "\n",
    "psi = rng.random(2**n) - 0.5\n",
    "psi = psi / numpy.linalg.norm(psi, ord=2)\n",
    "print(\"state\", psi)\n",
    "##\n",
    "state0 = numpy.zeros(2**n,dtype=int)\n",
    "state0[0] = 1 #\n",
    "\n",
    "my_ucr_circuit = QuantumCircuit(n)\n",
    "stateprep_ucr(psi, my_ucr_circuit, debug=True)\n",
    "my_ucr_circuit = my_ucr_circuit.reverse_bits() ## Hi, not gonna follow qiskit rule in my implementation\n",
    "\n",
    "my_ucr_circuit_trans = transpile(my_ucr_circuit, basis_gates=['rz','ry','rx', 'cx'], optimization_level=0)\n",
    "my_ucr_circuit_trans_opt = transpile(my_ucr_circuit, basis_gates=['rz','ry','rx', 'cx'], optimization_level=3)\n",
    "print(my_ucr_circuit_trans.count_ops()['cx'], my_ucr_circuit_trans_opt.count_ops()['cx'])"
   ]
  },
  {
   "cell_type": "code",
   "execution_count": null,
   "metadata": {},
   "outputs": [],
   "source": [
    "my_ucr_circuit.draw()"
   ]
  },
  {
   "cell_type": "code",
   "execution_count": null,
   "metadata": {},
   "outputs": [],
   "source": [
    "my_ucr_circuit_trans_opt.draw()"
   ]
  },
  {
   "cell_type": "code",
   "execution_count": null,
   "metadata": {},
   "outputs": [],
   "source": []
  },
  {
   "cell_type": "code",
   "execution_count": null,
   "metadata": {},
   "outputs": [],
   "source": []
  },
  {
   "cell_type": "code",
   "execution_count": null,
   "metadata": {},
   "outputs": [],
   "source": []
  },
  {
   "cell_type": "code",
   "execution_count": 13,
   "metadata": {},
   "outputs": [
    {
     "data": {
      "text/html": [
       "<pre style=\"word-wrap: normal;white-space: pre;background: #fff0;line-height: 1.1;font-family: &quot;Courier New&quot;,Courier,monospace\">     ┌──────────┐   ┌───────────┐      ┌──────────┐            ┌──────────┐\n",
       "q_0: ┤ Ry(0.45) ├─■─┤ Ry(-0.05) ├─■──■─┤ Ry(-0.1) ├─■──■──■──■─┤ Ry(-0.2) ├\n",
       "     └──────────┘ │ └───────────┘ │  │ └──────────┘ │  │  │  │ └──────────┘\n",
       "q_1: ─────────────┼───────────────┼──┼──────────────■──┼──┼──┼─────────────\n",
       "                  │               │  │                 │  │  │             \n",
       "q_2: ─────────────┼───────────────■──┼─────────────────┼──■──┼─────────────\n",
       "                  │                  │                 │     │             \n",
       "q_3: ─────────────■──────────────────■─────────────────■─────■─────────────\n",
       "                                                                           </pre>"
      ],
      "text/plain": [
       "     ┌──────────┐   ┌───────────┐      ┌──────────┐            ┌──────────┐\n",
       "q_0: ┤ Ry(0.45) ├─■─┤ Ry(-0.05) ├─■──■─┤ Ry(-0.1) ├─■──■──■──■─┤ Ry(-0.2) ├\n",
       "     └──────────┘ │ └───────────┘ │  │ └──────────┘ │  │  │  │ └──────────┘\n",
       "q_1: ─────────────┼───────────────┼──┼──────────────■──┼──┼──┼─────────────\n",
       "                  │               │  │                 │  │  │             \n",
       "q_2: ─────────────┼───────────────■──┼─────────────────┼──■──┼─────────────\n",
       "                  │                  │                 │     │             \n",
       "q_3: ─────────────■──────────────────■─────────────────■─────■─────────────\n",
       "                                                                           "
      ]
     },
     "execution_count": 13,
     "metadata": {},
     "output_type": "execute_result"
    }
   ],
   "source": [
    "from qiskit.synthesis.unitary.qsd import _get_ucry_cz\n",
    "\n",
    "nqubits = 4\n",
    "angles = [0.1, 0.2, 0.3, 0.4, 0.5, 0.6, 0.7,0.8]\n",
    "\n",
    "test_circ = _get_ucry_cz(nqubits, angles)\n",
    "test_circ = test_circ.reverse_bits()\n",
    "test_circ.draw()"
   ]
  },
  {
   "cell_type": "code",
   "execution_count": 14,
   "metadata": {},
   "outputs": [
    {
     "data": {
      "text/html": [
       "<pre style=\"word-wrap: normal;white-space: pre;background: #fff0;line-height: 1.1;font-family: &quot;Courier New&quot;,Courier,monospace\">     ┌──────────┐   ┌───────────┐      ┌──────────┐            ┌──────────┐\n",
       "q_0: ┤ Ry(0.45) ├─■─┤ Ry(-0.05) ├─■──■─┤ Ry(-0.1) ├─■──■──■──■─┤ Ry(-0.2) ├\n",
       "     └──────────┘ │ └───────────┘ │  │ └──────────┘ │  │  │  │ └──────────┘\n",
       "q_1: ─────────────┼───────────────┼──┼──────────────■──┼──┼──┼─────────────\n",
       "                  │               │  │                 │  │  │             \n",
       "q_2: ─────────────┼───────────────■──┼─────────────────┼──■──┼─────────────\n",
       "                  │                  │                 │     │             \n",
       "q_3: ─────────────■──────────────────■─────────────────■─────■─────────────\n",
       "                                                                           </pre>"
      ],
      "text/plain": [
       "     ┌──────────┐   ┌───────────┐      ┌──────────┐            ┌──────────┐\n",
       "q_0: ┤ Ry(0.45) ├─■─┤ Ry(-0.05) ├─■──■─┤ Ry(-0.1) ├─■──■──■──■─┤ Ry(-0.2) ├\n",
       "     └──────────┘ │ └───────────┘ │  │ └──────────┘ │  │  │  │ └──────────┘\n",
       "q_1: ─────────────┼───────────────┼──┼──────────────■──┼──┼──┼─────────────\n",
       "                  │               │  │                 │  │  │             \n",
       "q_2: ─────────────┼───────────────■──┼─────────────────┼──■──┼─────────────\n",
       "                  │                  │                 │     │             \n",
       "q_3: ─────────────■──────────────────■─────────────────■─────■─────────────\n",
       "                                                                           "
      ]
     },
     "execution_count": 14,
     "metadata": {},
     "output_type": "execute_result"
    }
   ],
   "source": [
    "import oracle_synth\n",
    "import importlib\n",
    "importlib.reload(oracle_synth)\n",
    "from oracle_synth import *\n",
    "\n",
    "## my implementation\n",
    "circ2 = qiskit.QuantumCircuit(nqubits)\n",
    "muxry_cz(circ2, angles, list(range(nqubits-1))[::-1], nqubits-1, angle_convert_flag=True)\n",
    "circ2 = circ2.reverse_bits() ## not gonna follow qiskit rule in my implementation\n",
    "circ2.draw()"
   ]
  },
  {
   "cell_type": "code",
   "execution_count": null,
   "metadata": {},
   "outputs": [],
   "source": []
  },
  {
   "cell_type": "code",
   "execution_count": null,
   "metadata": {},
   "outputs": [],
   "source": []
  },
  {
   "cell_type": "code",
   "execution_count": null,
   "metadata": {},
   "outputs": [],
   "source": []
  },
  {
   "cell_type": "code",
   "execution_count": null,
   "metadata": {},
   "outputs": [],
   "source": []
  },
  {
   "cell_type": "code",
   "execution_count": null,
   "metadata": {},
   "outputs": [],
   "source": []
  },
  {
   "cell_type": "code",
   "execution_count": 4,
   "metadata": {},
   "outputs": [
    {
     "data": {
      "text/html": [
       "<pre style=\"word-wrap: normal;white-space: pre;background: #fff0;line-height: 1.1;font-family: &quot;Courier New&quot;,Courier,monospace\">     ┌──────────┐┌───┐┌───────────┐┌───┐┌───┐┌──────────┐┌───┐┌───┐┌───┐┌───┐»\n",
       "q_0: ┤ Ry(0.45) ├┤ X ├┤ Ry(-0.05) ├┤ X ├┤ X ├┤ Ry(-0.1) ├┤ X ├┤ X ├┤ X ├┤ X ├»\n",
       "     └──────────┘└─┬─┘└───────────┘└─┬─┘└─┬─┘└──────────┘└─┬─┘└─┬─┘└─┬─┘└─┬─┘»\n",
       "q_1: ──────────────■─────────────────┼────■────────────────┼────■────┼────■──»\n",
       "                                     │                     │         │       »\n",
       "q_2: ────────────────────────────────■─────────────────────┼─────────■───────»\n",
       "                                                           │                 »\n",
       "q_3: ──────────────────────────────────────────────────────■─────────────────»\n",
       "                                                                             »\n",
       "«     ┌──────────┐┌───┐\n",
       "«q_0: ┤ Ry(-0.2) ├┤ X ├\n",
       "«     └──────────┘└─┬─┘\n",
       "«q_1: ──────────────┼──\n",
       "«                   │  \n",
       "«q_2: ──────────────┼──\n",
       "«                   │  \n",
       "«q_3: ──────────────■──\n",
       "«                      </pre>"
      ],
      "text/plain": [
       "     ┌──────────┐┌───┐┌───────────┐┌───┐┌───┐┌──────────┐┌───┐┌───┐┌───┐┌───┐»\n",
       "q_0: ┤ Ry(0.45) ├┤ X ├┤ Ry(-0.05) ├┤ X ├┤ X ├┤ Ry(-0.1) ├┤ X ├┤ X ├┤ X ├┤ X ├»\n",
       "     └──────────┘└─┬─┘└───────────┘└─┬─┘└─┬─┘└──────────┘└─┬─┘└─┬─┘└─┬─┘└─┬─┘»\n",
       "q_1: ──────────────■─────────────────┼────■────────────────┼────■────┼────■──»\n",
       "                                     │                     │         │       »\n",
       "q_2: ────────────────────────────────■─────────────────────┼─────────■───────»\n",
       "                                                           │                 »\n",
       "q_3: ──────────────────────────────────────────────────────■─────────────────»\n",
       "                                                                             »\n",
       "«     ┌──────────┐┌───┐\n",
       "«q_0: ┤ Ry(-0.2) ├┤ X ├\n",
       "«     └──────────┘└─┬─┘\n",
       "«q_1: ──────────────┼──\n",
       "«                   │  \n",
       "«q_2: ──────────────┼──\n",
       "«                   │  \n",
       "«q_3: ──────────────■──\n",
       "«                      "
      ]
     },
     "execution_count": 4,
     "metadata": {},
     "output_type": "execute_result"
    }
   ],
   "source": [
    "## qiskit implementation\n",
    "circ_qiskit = qiskit.QuantumCircuit(nqubits)\n",
    "circ_qiskit.append(UCPauliRotGate(angles, 'Y'), list(range(nqubits)))\n",
    "circ_qiskit.decompose(reps=2).draw()"
   ]
  },
  {
   "cell_type": "code",
   "execution_count": 5,
   "metadata": {},
   "outputs": [
    {
     "data": {
      "text/html": [
       "<pre style=\"word-wrap: normal;white-space: pre;background: #fff0;line-height: 1.1;font-family: &quot;Courier New&quot;,Courier,monospace\">     ┌──────────┐┌───┐┌───────────┐┌───┐┌───┐┌──────────┐┌───┐┌───┐┌───┐┌───┐»\n",
       "q_0: ┤ Ry(0.45) ├┤ X ├┤ Ry(-0.05) ├┤ X ├┤ X ├┤ Ry(-0.1) ├┤ X ├┤ X ├┤ X ├┤ X ├»\n",
       "     └──────────┘└─┬─┘└───────────┘└─┬─┘└─┬─┘└──────────┘└─┬─┘└─┬─┘└─┬─┘└─┬─┘»\n",
       "q_1: ──────────────■─────────────────┼────■────────────────┼────■────┼────■──»\n",
       "                                     │                     │         │       »\n",
       "q_2: ────────────────────────────────■─────────────────────┼─────────■───────»\n",
       "                                                           │                 »\n",
       "q_3: ──────────────────────────────────────────────────────■─────────────────»\n",
       "                                                                             »\n",
       "«     ┌──────────┐┌───┐\n",
       "«q_0: ┤ Ry(-0.2) ├┤ X ├\n",
       "«     └──────────┘└─┬─┘\n",
       "«q_1: ──────────────┼──\n",
       "«                   │  \n",
       "«q_2: ──────────────┼──\n",
       "«                   │  \n",
       "«q_3: ──────────────■──\n",
       "«                      </pre>"
      ],
      "text/plain": [
       "     ┌──────────┐┌───┐┌───────────┐┌───┐┌───┐┌──────────┐┌───┐┌───┐┌───┐┌───┐»\n",
       "q_0: ┤ Ry(0.45) ├┤ X ├┤ Ry(-0.05) ├┤ X ├┤ X ├┤ Ry(-0.1) ├┤ X ├┤ X ├┤ X ├┤ X ├»\n",
       "     └──────────┘└─┬─┘└───────────┘└─┬─┘└─┬─┘└──────────┘└─┬─┘└─┬─┘└─┬─┘└─┬─┘»\n",
       "q_1: ──────────────■─────────────────┼────■────────────────┼────■────┼────■──»\n",
       "                                     │                     │         │       »\n",
       "q_2: ────────────────────────────────■─────────────────────┼─────────■───────»\n",
       "                                                           │                 »\n",
       "q_3: ──────────────────────────────────────────────────────■─────────────────»\n",
       "                                                                             »\n",
       "«     ┌──────────┐┌───┐\n",
       "«q_0: ┤ Ry(-0.2) ├┤ X ├\n",
       "«     └──────────┘└─┬─┘\n",
       "«q_1: ──────────────┼──\n",
       "«                   │  \n",
       "«q_2: ──────────────┼──\n",
       "«                   │  \n",
       "«q_3: ──────────────■──\n",
       "«                      "
      ]
     },
     "execution_count": 5,
     "metadata": {},
     "output_type": "execute_result"
    }
   ],
   "source": [
    "\n",
    "## my implementation\n",
    "circ = qiskit.QuantumCircuit(nqubits)\n",
    "multiplexer_pauli(circ, angles, list(range(nqubits-1)), nqubits-1, \"Y\")\n",
    "circ = circ.reverse_bits() ## not gonna follow qiskit rule in my implementation\n",
    "circ.draw()"
   ]
  },
  {
   "cell_type": "code",
   "execution_count": null,
   "metadata": {},
   "outputs": [],
   "source": []
  },
  {
   "cell_type": "code",
   "execution_count": null,
   "metadata": {},
   "outputs": [],
   "source": []
  }
 ],
 "metadata": {
  "kernelspec": {
   "display_name": "qnew",
   "language": "python",
   "name": "python3"
  },
  "language_info": {
   "codemirror_mode": {
    "name": "ipython",
    "version": 3
   },
   "file_extension": ".py",
   "mimetype": "text/x-python",
   "name": "python",
   "nbconvert_exporter": "python",
   "pygments_lexer": "ipython3",
   "version": "3.12.4"
  }
 },
 "nbformat": 4,
 "nbformat_minor": 2
}
