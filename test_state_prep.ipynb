{
 "cells": [
  {
   "cell_type": "code",
   "execution_count": 48,
   "metadata": {},
   "outputs": [
    {
     "name": "stderr",
     "output_type": "stream",
     "text": [
      "/Users/zhen002/GitHub/qla_lib/src/lcu.py:63: SyntaxWarning: invalid escape sequence '\\s'\n",
      "  '''\n"
     ]
    }
   ],
   "source": [
    "import numpy as np\n",
    "import numpy\n",
    "import scipy\n",
    "import qiskit\n",
    "from qiskit import transpile\n",
    "import scipy.linalg as sl\n",
    "import numpy.linalg as nl\n",
    "from scipy.linalg import cossin\n",
    "from qiskit.quantum_info import Operator, Statevector\n",
    "from qiskit import QuantumCircuit\n",
    "from qiskit.circuit.library import UGate,UCPauliRotGate\n",
    "from qiskit import QuantumCircuit, transpile\n",
    "from qiskit.quantum_info import Operator\n",
    "import sys\n",
    "sys.path.append('./src')\n",
    "##\n",
    "import utils_synth\n",
    "import oracle_synth\n",
    "import src.lcu as lcu\n",
    "import lchs\n",
    "import importlib\n",
    "importlib.reload(lcu)\n",
    "importlib.reload(lchs)\n",
    "importlib.reload(utils_synth)\n",
    "importlib.reload(oracle_synth)\n",
    "##\n",
    "from utils_synth import *\n",
    "from oracle_synth import *\n",
    "from lchs import *\n",
    "from src.lcu import *\n",
    "\n",
    "rng = numpy.random.default_rng(4290962056973923694427)\n",
    "np.set_printoptions(precision=8, suppress=True)"
   ]
  },
  {
   "cell_type": "code",
   "execution_count": 49,
   "metadata": {},
   "outputs": [
    {
     "name": "stdout",
     "output_type": "stream",
     "text": [
      "  LCU-Oracle: num_qubits_control= 2 num_qubits_op= 1\n",
      "Correct answer: [[ 0.4+0.j   0.2+0.4j]\n",
      " [ 0.2+0.4j -0.2+0.j ]]\n",
      "\n",
      "LCU Implementation: [[ 0.4+0.j   0.2+0.4j]\n",
      " [ 0.2+0.4j -0.2-0.j ]]\n",
      "\n",
      "Error: 4.94988483328197e-15\n"
     ]
    }
   ],
   "source": [
    "test_coefs = numpy.array([1,2,3,4])\n",
    "test_coefs_normed = test_coefs/numpy.linalg.norm(test_coefs, ord=1)\n",
    "test_unitaries = [numpy.array([[1,0],[0,1]]), numpy.array([[0,1],[1,0]]), numpy.array([[1,0],[0,-1]]), numpy.array([[0,1j],[1j,0]])]\n",
    "qiskit_api = True\n",
    "\n",
    "# test_coefs = numpy.array([1,2])\n",
    "# test_coefs_normed = test_coefs/numpy.linalg.norm(test_coefs, ord=1)\n",
    "# test_unitaries = [numpy.array([[1,0],[0,1]]), numpy.array([[0,1],[1,0]])]\n",
    "\n",
    "## -------------------\n",
    "if len(test_coefs) != len(test_unitaries):\n",
    "    raise ValueError(\"The number of coefficients and unitaries should be the same, but we have\", len(test_coefs), \"coefficients and\", len(test_unitaries), \"unitaries\")\n",
    "##\n",
    "correct_answer = numpy.zeros(test_unitaries[0].shape, dtype=complex)\n",
    "for i in range(len(test_coefs_normed)):\n",
    "    correct_answer += test_coefs_normed[i]*test_unitaries[i]\n",
    "\n",
    "## -------------------\n",
    "PREP = prep_oracle(test_coefs, qiskit_api=qiskit_api)\n",
    "SELE = select_oracle(test_unitaries, qiskit_api=qiskit_api)\n",
    "LCU = lcu_generator(test_coefs, test_unitaries, verbose=1, qiskit_api=qiskit_api)\n",
    "circ_op = qiskit.quantum_info.Operator(LCU.reverse_bits()).data\n",
    "lcu_sol = circ_op[:test_unitaries[0].shape[0],:test_unitaries[0].shape[1]]\n",
    "##\n",
    "print(\"Correct answer:\", correct_answer)\n",
    "print(\"\\nLCU Implementation:\", lcu_sol)\n",
    "print(\"\\nError:\", numpy.linalg.norm(correct_answer - lcu_sol, ord=2))"
   ]
  },
  {
   "cell_type": "code",
   "execution_count": 47,
   "metadata": {},
   "outputs": [
    {
     "data": {
      "text/plain": [
       "Instruction(name='PREP', num_qubits=2, num_clbits=0, params=[(0.31622776601683794+0j), (0.4472135954999579+0j), (0.5477225575051661+0j), (0.6324555320336759+0j)])"
      ]
     },
     "execution_count": 47,
     "metadata": {},
     "output_type": "execute_result"
    }
   ],
   "source": [
    "PREP"
   ]
  },
  {
   "cell_type": "code",
   "execution_count": null,
   "metadata": {},
   "outputs": [],
   "source": []
  },
  {
   "cell_type": "code",
   "execution_count": null,
   "metadata": {},
   "outputs": [],
   "source": []
  },
  {
   "cell_type": "code",
   "execution_count": null,
   "metadata": {},
   "outputs": [],
   "source": [
    "scipy.stats.unitary_group.random_state"
   ]
  },
  {
   "cell_type": "code",
   "execution_count": null,
   "metadata": {},
   "outputs": [],
   "source": []
  },
  {
   "cell_type": "code",
   "execution_count": 31,
   "metadata": {},
   "outputs": [
    {
     "ename": "QiskitError",
     "evalue": "'One or more instructions cannot be converted to a gate. \"reset\" is not a gate instruction'",
     "output_type": "error",
     "traceback": [
      "\u001b[0;31m---------------------------------------------------------------------------\u001b[0m",
      "\u001b[0;31mQiskitError\u001b[0m                               Traceback (most recent call last)",
      "Cell \u001b[0;32mIn[31], line 4\u001b[0m\n\u001b[1;32m      2\u001b[0m qiscirc\u001b[38;5;241m.\u001b[39minitialize(test_coefs_normed)\n\u001b[1;32m      3\u001b[0m qiscirc \u001b[38;5;241m=\u001b[39m qiscirc\u001b[38;5;241m.\u001b[39mreverse_bits()\n\u001b[0;32m----> 4\u001b[0m qis_oracle \u001b[38;5;241m=\u001b[39m \u001b[43mqiscirc\u001b[49m\u001b[38;5;241;43m.\u001b[39;49m\u001b[43mdecompose\u001b[49m\u001b[43m(\u001b[49m\u001b[43mreps\u001b[49m\u001b[38;5;241;43m=\u001b[39;49m\u001b[38;5;241;43m6\u001b[39;49m\u001b[43m)\u001b[49m\u001b[38;5;241;43m.\u001b[39;49m\u001b[43mto_gate\u001b[49m\u001b[43m(\u001b[49m\u001b[43m)\u001b[49m\n\u001b[1;32m      5\u001b[0m qis_oracle\u001b[38;5;241m.\u001b[39mname \u001b[38;5;241m=\u001b[39m \u001b[38;5;124m'\u001b[39m\u001b[38;5;124mPREP\u001b[39m\u001b[38;5;124m'\u001b[39m\n",
      "File \u001b[0;32m~/miniconda3/envs/qnew/lib/python3.12/site-packages/qiskit/circuit/quantumcircuit.py:3185\u001b[0m, in \u001b[0;36mQuantumCircuit.to_gate\u001b[0;34m(self, parameter_map, label)\u001b[0m\n\u001b[1;32m   3167\u001b[0m \u001b[38;5;250m\u001b[39m\u001b[38;5;124;03m\"\"\"Create a :class:`.Gate` out of this circuit.  The circuit must act only qubits and\u001b[39;00m\n\u001b[1;32m   3168\u001b[0m \u001b[38;5;124;03mcontain only unitary operations.\u001b[39;00m\n\u001b[1;32m   3169\u001b[0m \n\u001b[0;32m   (...)\u001b[0m\n\u001b[1;32m   3181\u001b[0m \u001b[38;5;124;03m    Gate: a composite gate encapsulating this circuit (can be decomposed back).\u001b[39;00m\n\u001b[1;32m   3182\u001b[0m \u001b[38;5;124;03m\"\"\"\u001b[39;00m\n\u001b[1;32m   3183\u001b[0m \u001b[38;5;28;01mfrom\u001b[39;00m \u001b[38;5;21;01mqiskit\u001b[39;00m\u001b[38;5;21;01m.\u001b[39;00m\u001b[38;5;21;01mconverters\u001b[39;00m\u001b[38;5;21;01m.\u001b[39;00m\u001b[38;5;21;01mcircuit_to_gate\u001b[39;00m \u001b[38;5;28;01mimport\u001b[39;00m circuit_to_gate\n\u001b[0;32m-> 3185\u001b[0m \u001b[38;5;28;01mreturn\u001b[39;00m \u001b[43mcircuit_to_gate\u001b[49m\u001b[43m(\u001b[49m\u001b[38;5;28;43mself\u001b[39;49m\u001b[43m,\u001b[49m\u001b[43m \u001b[49m\u001b[43mparameter_map\u001b[49m\u001b[43m,\u001b[49m\u001b[43m \u001b[49m\u001b[43mlabel\u001b[49m\u001b[38;5;241;43m=\u001b[39;49m\u001b[43mlabel\u001b[49m\u001b[43m)\u001b[49m\n",
      "File \u001b[0;32m~/miniconda3/envs/qnew/lib/python3.12/site-packages/qiskit/converters/circuit_to_gate.py:66\u001b[0m, in \u001b[0;36mcircuit_to_gate\u001b[0;34m(circuit, parameter_map, equivalence_library, label)\u001b[0m\n\u001b[1;32m     64\u001b[0m \u001b[38;5;28;01mfor\u001b[39;00m instruction \u001b[38;5;129;01min\u001b[39;00m circuit\u001b[38;5;241m.\u001b[39mdata:\n\u001b[1;32m     65\u001b[0m     \u001b[38;5;28;01mif\u001b[39;00m \u001b[38;5;129;01mnot\u001b[39;00m _check_is_gate(instruction\u001b[38;5;241m.\u001b[39moperation):\n\u001b[0;32m---> 66\u001b[0m         \u001b[38;5;28;01mraise\u001b[39;00m QiskitError(\n\u001b[1;32m     67\u001b[0m             \u001b[38;5;124m\"\u001b[39m\u001b[38;5;124mOne or more instructions cannot be converted to\u001b[39m\u001b[38;5;124m\"\u001b[39m\n\u001b[1;32m     68\u001b[0m             \u001b[38;5;124mf\u001b[39m\u001b[38;5;124m'\u001b[39m\u001b[38;5;124m a gate. \u001b[39m\u001b[38;5;124m\"\u001b[39m\u001b[38;5;132;01m{\u001b[39;00minstruction\u001b[38;5;241m.\u001b[39moperation\u001b[38;5;241m.\u001b[39mname\u001b[38;5;132;01m}\u001b[39;00m\u001b[38;5;124m\"\u001b[39m\u001b[38;5;124m is not a gate instruction\u001b[39m\u001b[38;5;124m'\u001b[39m\n\u001b[1;32m     69\u001b[0m         )\n\u001b[1;32m     71\u001b[0m \u001b[38;5;28;01mif\u001b[39;00m parameter_map \u001b[38;5;129;01mis\u001b[39;00m \u001b[38;5;28;01mNone\u001b[39;00m:\n\u001b[1;32m     72\u001b[0m     parameter_dict \u001b[38;5;241m=\u001b[39m {p: p \u001b[38;5;28;01mfor\u001b[39;00m p \u001b[38;5;129;01min\u001b[39;00m circuit\u001b[38;5;241m.\u001b[39mparameters}\n",
      "\u001b[0;31mQiskitError\u001b[0m: 'One or more instructions cannot be converted to a gate. \"reset\" is not a gate instruction'"
     ]
    }
   ],
   "source": [
    "from qiskit.transpiler.passes import RemoveResetInZeroState\n",
    "\n",
    "qiscirc = qiskit.QuantumCircuit(2)\n",
    "qiscirc.initialize(test_coefs_normed)\n",
    "qiscirc = qiscirc.reverse_bits()\n",
    "qiskit.transpiler.passes\n",
    "qis_oracle = qiscirc.decompose(reps=6).to_gate()\n",
    "qis_oracle.name = 'PREP'"
   ]
  },
  {
   "cell_type": "code",
   "execution_count": 39,
   "metadata": {},
   "outputs": [],
   "source": [
    "from qiskit.circuit.library import StatePreparation\n",
    "StatePreparation(test_coefs_normed).name = \"PREP\""
   ]
  },
  {
   "cell_type": "code",
   "execution_count": 41,
   "metadata": {},
   "outputs": [
    {
     "data": {
      "text/plain": [
       "array([[ 0.31622777-0.j        ,  0.        +0.4472136j ,\n",
       "        -0.48304589+0.j        , -0.        -0.68313005j],\n",
       "       [ 0.4472136 -0.j        , -0.        -0.31622777j,\n",
       "        -0.68313005+0.j        ,  0.        +0.48304589j],\n",
       "       [ 0.54772256+0.j        , -0.        -0.63245553j,\n",
       "         0.35856858+0.j        , -0.        -0.41403934j],\n",
       "       [ 0.63245553+0.j        , -0.        +0.54772256j,\n",
       "         0.41403934+0.j        , -0.        +0.35856858j]])"
      ]
     },
     "execution_count": 41,
     "metadata": {},
     "output_type": "execute_result"
    }
   ],
   "source": [
    "import qiskit.quantum_info\n",
    "\n",
    "\n",
    "qiskit.quantum_info.Operator(StatePreparation(test_coefs_normed)).data"
   ]
  },
  {
   "cell_type": "code",
   "execution_count": 58,
   "metadata": {},
   "outputs": [
    {
     "data": {
      "text/plain": [
       "[1, 2]"
      ]
     },
     "execution_count": 58,
     "metadata": {},
     "output_type": "execute_result"
    }
   ],
   "source": [
    "tmp = list(dict({'1':1, '2':2}).values())\n",
    "tmp"
   ]
  },
  {
   "cell_type": "code",
   "execution_count": null,
   "metadata": {},
   "outputs": [],
   "source": []
  }
 ],
 "metadata": {
  "kernelspec": {
   "display_name": "qnew",
   "language": "python",
   "name": "python3"
  },
  "language_info": {
   "codemirror_mode": {
    "name": "ipython",
    "version": 3
   },
   "file_extension": ".py",
   "mimetype": "text/x-python",
   "name": "python",
   "nbconvert_exporter": "python",
   "pygments_lexer": "ipython3",
   "version": "3.12.4"
  }
 },
 "nbformat": 4,
 "nbformat_minor": 2
}
