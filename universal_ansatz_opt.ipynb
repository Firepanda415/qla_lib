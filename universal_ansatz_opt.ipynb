{
  "cells": [
    {
      "cell_type": "markdown",
      "metadata": {
        "id": "GTuUo9-GBwrx"
      },
      "source": [
        "# Qubit-qumode circuit synthesis"
      ]
    },
    {
      "cell_type": "markdown",
      "metadata": {
        "id": "pkutZEHfHDm7"
      },
      "source": [
        "Using optimizers based on `NumPy` objects to present qubit-qumode or qmode circuit for a given qumode unitary operator."
      ]
    },
    {
      "cell_type": "markdown",
      "metadata": {
        "id": "J0tBc-IKGzVS"
      },
      "source": [
        "## Prerequisite"
      ]
    },
    {
      "cell_type": "markdown",
      "metadata": {
        "id": "v6PZ-ceICzov"
      },
      "source": [
        "Installation cells for Google Colab users."
      ]
    },
    {
      "cell_type": "code",
      "execution_count": 1,
      "metadata": {
        "colab": {
          "base_uri": "https://localhost:8080/"
        },
        "id": "WkHT4A_rYRr8",
        "outputId": "e4ffa254-d776-41d9-a671-52f3872af3c1"
      },
      "outputs": [
        {
          "name": "stdout",
          "output_type": "stream",
          "text": [
            "Collecting qutip\n",
            "  Downloading qutip-5.1.1-cp311-cp311-manylinux_2_17_x86_64.manylinux2014_x86_64.whl.metadata (9.2 kB)\n",
            "Requirement already satisfied: numpy>=1.22 in /usr/local/lib/python3.11/dist-packages (from qutip) (2.0.2)\n",
            "Requirement already satisfied: scipy>=1.9 in /usr/local/lib/python3.11/dist-packages (from qutip) (1.14.1)\n",
            "Requirement already satisfied: packaging in /usr/local/lib/python3.11/dist-packages (from qutip) (24.2)\n",
            "Downloading qutip-5.1.1-cp311-cp311-manylinux_2_17_x86_64.manylinux2014_x86_64.whl (30.1 MB)\n",
            "\u001b[2K   \u001b[90m━━━━━━━━━━━━━━━━━━━━━━━━━━━━━━━━━━━━━━━━\u001b[0m \u001b[32m30.1/30.1 MB\u001b[0m \u001b[31m31.4 MB/s\u001b[0m eta \u001b[36m0:00:00\u001b[0m\n",
            "\u001b[?25hInstalling collected packages: qutip\n",
            "Successfully installed qutip-5.1.1\n",
            "Requirement already satisfied: scipy in /usr/local/lib/python3.11/dist-packages (1.14.1)\n",
            "Requirement already satisfied: numpy<2.3,>=1.23.5 in /usr/local/lib/python3.11/dist-packages (from scipy) (2.0.2)\n"
          ]
        }
      ],
      "source": [
        "!pip install qutip\n",
        "!pip install scipy"
      ]
    },
    {
      "cell_type": "markdown",
      "metadata": {
        "id": "dW9_kkM5C6Ep"
      },
      "source": [
        "Import libaries."
      ]
    },
    {
      "cell_type": "code",
      "execution_count": 1,
      "metadata": {
        "id": "sCouQA6tC-gk"
      },
      "outputs": [],
      "source": [
        "import numpy as np\n",
        "import qutip as qt\n",
        "import scipy.optimize as sciopt\n",
        "\n",
        "from scipy.linalg import expm\n",
        "from functools import partial\n",
        "from itertools import combinations"
      ]
    },
    {
      "cell_type": "code",
      "execution_count": 2,
      "metadata": {
        "id": "fxiHaz2DcgFG"
      },
      "outputs": [],
      "source": [
        "import sys"
      ]
    },
    {
      "cell_type": "code",
      "execution_count": 3,
      "metadata": {
        "id": "WE47rXbx07pe"
      },
      "outputs": [],
      "source": [
        "import matplotlib.pyplot as plt"
      ]
    },
    {
      "cell_type": "markdown",
      "metadata": {
        "id": "Cc-yL5fkAx_g"
      },
      "source": [
        "## Ansatz circuits"
      ]
    },
    {
      "cell_type": "markdown",
      "metadata": {
        "id": "GxWqWlAcWjJK"
      },
      "source": [
        "We will using `QuTip` and follow ( qubit $\\otimes$ qumode ) notation where applicable."
      ]
    },
    {
      "cell_type": "markdown",
      "metadata": {
        "id": "rHmy8HRy58NU"
      },
      "source": [
        "### Basics"
      ]
    },
    {
      "cell_type": "code",
      "execution_count": 4,
      "metadata": {
        "id": "jmiGK2zs-7mq"
      },
      "outputs": [],
      "source": [
        "def get_cvec_np(r, theta):\n",
        "    r = np.array(r)\n",
        "    theta = np.array(theta)\n",
        "    return r * np.exp(1j * theta)"
      ]
    },
    {
      "cell_type": "code",
      "execution_count": 5,
      "metadata": {
        "id": "3w6-kliQ5b_m"
      },
      "outputs": [],
      "source": [
        "def qproj00():\n",
        "    return qt.basis(2, 0).proj()\n",
        "\n",
        "def qproj11():\n",
        "    return qt.basis(2, 1).proj()\n",
        "\n",
        "def qproj01():\n",
        "    op = np.array([[0, 1], [0, 0]])\n",
        "    return qt.Qobj(op)\n",
        "\n",
        "def qproj10():\n",
        "    op = np.array([[0, 0], [1, 0]])\n",
        "    return qt.Qobj(op)"
      ]
    },
    {
      "cell_type": "code",
      "execution_count": 6,
      "metadata": {
        "id": "M54lQuogW9Mj"
      },
      "outputs": [],
      "source": [
        "def qubit_rot(theta, phi):\n",
        "    \"\"\"\n",
        "    R (theta, phi) = exp[ −i (theta/2) ( X cos(phi) + Y sin(phi) ) ].\n",
        "\n",
        "    Arguments:\n",
        "    theta, phi: rotation parameters\n",
        "    \"\"\"\n",
        "    gen = ( qt.sigmax() * np.cos(phi) )\n",
        "    gen += ( qt.sigmay() * np.sin(phi) )\n",
        "\n",
        "    H = -1j * (theta / 2) * gen\n",
        "\n",
        "    return H.expm()"
      ]
    },
    {
      "cell_type": "markdown",
      "metadata": {
        "id": "ZLiRBOGL5-Lb"
      },
      "source": [
        "### ECD-rotation"
      ]
    },
    {
      "cell_type": "markdown",
      "metadata": {
        "id": "iCu0iHWIWntx"
      },
      "source": [
        "Qubit rotation with qumode echoed conditional displacement (ECD) operator ([reference](https://doi.org/10.1038/s41567-022-01776-9))\n",
        "\n",
        "\\begin{align*}\n",
        "U (\\beta, \\theta, \\phi)\n",
        "&= ECD (\\beta) \\: \\big[ R (\\theta, \\phi) \\otimes I \\big],\n",
        "\\\\\n",
        "R (\\theta, \\phi)\n",
        "&= e^{ - i (\\theta / 2) \\big[ \\cos(\\phi) X + \\sin(\\phi) Y \\big] },\n",
        "\\\\\n",
        "ECD (\\beta)\n",
        "&= |1 \\rangle \\langle 0| \\otimes D (\\beta / 2)  \n",
        "+ |0 \\rangle \\langle 1| \\otimes D (-\\beta / 2),\n",
        "\\\\\n",
        "D (\\beta)\n",
        "&= e^{ \\beta a^\\dagger - \\beta^* a }.\n",
        "\\end{align*}"
      ]
    },
    {
      "cell_type": "code",
      "execution_count": 7,
      "metadata": {
        "id": "5BRItvGPAmiM"
      },
      "outputs": [],
      "source": [
        "def ecd_rot_op(beta, theta, phi, nfock):\n",
        "    \"\"\"\n",
        "    ECD-rotation operator.\n",
        "\n",
        "    Arguments:\n",
        "    beta -- ECD parameter\n",
        "    theta, phi -- rotation parameters\n",
        "    nfock -- Fock cutoff\n",
        "    \"\"\"\n",
        "    # ECD\n",
        "    E2 = qt.tensor(qproj10(), qt.displace(nfock, beta/2))\n",
        "    E2 += qt.tensor(qproj01(), qt.displace(nfock, -beta/2))\n",
        "\n",
        "    # Rotation\n",
        "    R2 = qt.tensor(qubit_rot(theta, phi), qt.qeye(nfock))\n",
        "\n",
        "    return E2 * R2"
      ]
    },
    {
      "cell_type": "code",
      "execution_count": 36,
      "metadata": {},
      "outputs": [
        {
          "data": {
            "text/plain": [
              "array([[ 0.99875026+0.j, -0.04997917+0.j],\n",
              "       [ 0.04997917+0.j,  0.99875026+0.j]])"
            ]
          },
          "execution_count": 36,
          "metadata": {},
          "output_type": "execute_result"
        }
      ],
      "source": [
        "qt.displace(2, 0.1/2).full()"
      ]
    },
    {
      "cell_type": "markdown",
      "metadata": {
        "id": "F49AHGrSw_j2"
      },
      "source": [
        "Build the ansatz matrix of depth $N_d$\n",
        "\n",
        "$$ \\mathcal{U} (\\vec{\\beta}, \\vec{\\theta}, \\vec{\\phi})\n",
        "= U (\\beta_{N_d}, \\theta_{N_d}, \\phi_{N_d}) \\cdots\n",
        "U (\\beta_1, \\theta_1, \\phi_1),\n",
        "$$\n",
        "\n",
        "where $\\vec{\\beta}, \\vec{\\theta}$, and $\\vec{\\phi}$ are $N_d$-dimensional vectors."
      ]
    },
    {
      "cell_type": "code",
      "execution_count": 8,
      "metadata": {
        "id": "3bIn4JTvBNBY"
      },
      "outputs": [],
      "source": [
        "def ecd_rot_ansatz(bmagvec, bargvec, thetavec, phivec, nfock):\n",
        "    \"\"\"\n",
        "    ECD-rotation ansatz.\n",
        "\n",
        "    Arguments:\n",
        "    bmagvec, bargvec -- ECD parameters\n",
        "    thetavec, phivec -- rotation parameters\n",
        "    nfock -- Fock cutoff\n",
        "    \"\"\"\n",
        "    # Check\n",
        "    if bmagvec.shape != bargvec.shape:\n",
        "        raise ValueError(\"Dimensions of bmagvec and bargvec do not match.\")\n",
        "    betavec = get_cvec_np(bmagvec, bargvec)\n",
        "    if betavec.shape != thetavec.shape:\n",
        "        raise ValueError(\"Lengths of betavec and thetavec do not match.\")\n",
        "    if betavec.shape != phivec.shape:\n",
        "        raise ValueError(\"Lengths of betavec and phivec do not match.\")\n",
        "\n",
        "    # Initialize\n",
        "    ndepth = betavec.shape[0]\n",
        "    uni = ecd_rot_op(betavec[0], thetavec[0], phivec[0], nfock)\n",
        "\n",
        "    # Check\n",
        "    if ndepth == 1:\n",
        "        return uni\n",
        "\n",
        "    # Loop through blocks\n",
        "    for i in range(1, ndepth):\n",
        "        new_uni = ecd_rot_op(betavec[i], thetavec[i], phivec[i], nfock)\n",
        "        uni = ( new_uni * uni )\n",
        "\n",
        "    return uni.full()"
      ]
    },
    {
      "cell_type": "markdown",
      "metadata": {
        "id": "l510AKrwGiyl"
      },
      "source": [
        "### SQR-displacement"
      ]
    },
    {
      "cell_type": "markdown",
      "metadata": {
        "id": "ELFCXrU7Giyt"
      },
      "source": [
        "Photon-number selective qubit rotation (SQR) and displacement operator ([reference](https://arxiv.org/abs/2407.10381))\n",
        "\n",
        "\\begin{align*}\n",
        "U (\\beta, \\vec{\\theta}, \\vec{\\phi})\n",
        "&= SQR (\\vec{\\theta}, \\vec{\\phi}) \\:\n",
        "\\big[ I \\otimes D (\\beta) \\big],\n",
        "\\\\\n",
        "SQR (\\vec{\\theta}, \\vec{\\phi})\n",
        "&= \\sum_{n = 0}^{L - 1} \\: R ( \\theta_n, \\phi_n ) \\otimes\n",
        "|n \\rangle \\langle n|,\n",
        "\\\\\n",
        "R (\\theta, \\phi)\n",
        "&= e^{ - i (\\theta / 2) \\big[ \\cos(\\phi) X + \\sin(\\phi) Y \\big] },\n",
        "\\\\\n",
        "D (\\beta)\n",
        "&= e^{ \\beta a^\\dagger - \\beta^* a }.\n",
        "\\end{align*}"
      ]
    },
    {
      "cell_type": "code",
      "execution_count": 9,
      "metadata": {
        "id": "2bLoQdwgGiyt"
      },
      "outputs": [],
      "source": [
        "def sqr_disp_op(beta, thetavec, phivec):\n",
        "    \"\"\"\n",
        "    SQR-displacement operator.\n",
        "\n",
        "    Arguments:\n",
        "    beta -- displacement coefficient\n",
        "    thetavec, phivec -- SQR parameters\n",
        "    \"\"\"\n",
        "    # Check\n",
        "    if thetavec.shape != phivec.shape:\n",
        "        raise ValueError(\"Lengths of thetavec and phivec do not match.\")\n",
        "\n",
        "    # Initialize\n",
        "    nfock = thetavec.shape[0]\n",
        "\n",
        "    # SQR\n",
        "    S2 = qt.tensor( qubit_rot(thetavec[0], phivec[0]), qt.basis(nfock, 0).proj() )\n",
        "    for i in range(1, nfock):\n",
        "        S2 += qt.tensor( qubit_rot(thetavec[i], phivec[i]), qt.basis(nfock, i).proj() )\n",
        "\n",
        "    # Displacement\n",
        "    D2 = qt.tensor(qt.qeye(2), qt.displace(nfock, beta))\n",
        "\n",
        "    return S2 * D2"
      ]
    },
    {
      "cell_type": "markdown",
      "metadata": {
        "id": "gKc5Bvghyulr"
      },
      "source": [
        "Build the ansatz matrix of depth $N_d$\n",
        "\n",
        "$$ \\mathcal{U} (\\vec{\\beta}, \\bar{\\theta}, \\bar{\\phi})\n",
        "= U (\\beta_{N_d}, \\vec{\\theta}_{N_d}, \\vec{\\phi}_{N_d}) \\cdots\n",
        "U (\\beta_1, \\vec{\\theta}_1, \\vec{\\phi}_1),\n",
        "$$\n",
        "\n",
        "where $\\vec{\\beta}$ is an $N_d$-dimensional vector and\n",
        "$ \\bar{\\theta}_{N_d \\times L}, \\bar{\\phi}_{N_d \\times L} $ are matrices.\n"
      ]
    },
    {
      "cell_type": "code",
      "execution_count": 10,
      "metadata": {
        "id": "JBBtBMxzGiyu"
      },
      "outputs": [],
      "source": [
        "def sqr_disp_ansatz(bmagvec, bargvec, thetamat, phimat, nfock):\n",
        "    \"\"\"\n",
        "    SQR-displacement ansatz.\n",
        "\n",
        "    Arguments:\n",
        "    bmagvec, bargvec -- displacement parameters\n",
        "    thetamat, phimat -- SQR parameters\n",
        "    nfock -- Fock cutoff\n",
        "    \"\"\"\n",
        "    # Check\n",
        "    if bmagvec.shape != bargvec.shape:\n",
        "        raise ValueError(\"Dimensions of bmagvec and bargvec do not match.\")\n",
        "    betavec = get_cvec_np(bmagvec, bargvec)\n",
        "    if thetamat.shape != phimat.shape:\n",
        "        raise ValueError(\"Dimensions of thetamat and phimat do not match.\")\n",
        "    if thetamat.shape[0] != betavec.shape[0]:\n",
        "        raise ValueError(\"Lengths of theta and beta do not match.\")\n",
        "    if thetamat.shape[1] != nfock:\n",
        "        raise ValueError(\"Incorrect nfock chosen.\")\n",
        "\n",
        "    # Initialize\n",
        "    ndepth = thetamat.shape[0]\n",
        "    uni = sqr_disp_op(betavec[0], thetamat[0, :], phimat[0, :])\n",
        "\n",
        "    # Check\n",
        "    if ndepth == 1:\n",
        "        return uni\n",
        "\n",
        "    # Loop through blocks\n",
        "    for i in range(1, ndepth):\n",
        "        new_uni = sqr_disp_op(betavec[i], thetamat[i, :], phimat[i, :])\n",
        "        uni = ( new_uni * uni )\n",
        "\n",
        "    return uni.full()"
      ]
    },
    {
      "cell_type": "markdown",
      "metadata": {
        "id": "b4w1ncIQ_ko5"
      },
      "source": [
        "### SNAP-displacement"
      ]
    },
    {
      "cell_type": "markdown",
      "metadata": {
        "id": "po6Wa72B_wd_"
      },
      "source": [
        "Selective number-dependent arbitray phase (SNAP) and displacement operator ([reference](https://doi.org/10.1103/PhysRevA.92.040303))\n",
        "\n",
        "\\begin{align*}\n",
        "U (\\alpha, \\vec{\\theta})\n",
        "&= S (\\vec{\\theta}) \\: D (\\alpha),\n",
        "\\\\\n",
        "S (\\vec{\\theta})\n",
        "&= \\sum_{n = 0}^{L - 1} \\: \\exp ( i \\: \\theta_n ) \\: |n \\rangle \\langle n|,\n",
        "\\\\\n",
        "D (\\alpha)\n",
        "&= e^{ \\alpha \\: ( a^\\dagger - a ) }.\n",
        "\\end{align*}"
      ]
    },
    {
      "cell_type": "code",
      "execution_count": 11,
      "metadata": {
        "id": "IL4T2ewrCglY"
      },
      "outputs": [],
      "source": [
        "def snap_disp_op(alpha, thetavec):\n",
        "    \"\"\"\n",
        "    SNAP-displacement operator.\n",
        "\n",
        "    Arguments:\n",
        "    alpha -- displacement coefficient\n",
        "    thetavec -- SNAP parameters\n",
        "    \"\"\"\n",
        "    # Initialize\n",
        "    nfock = thetavec.shape[0]\n",
        "\n",
        "    # SNAP\n",
        "    S2 = np.exp(1j * thetavec[0]) * qt.basis(nfock, 0).proj()\n",
        "    for i in range(1, nfock):\n",
        "        S2 += np.exp(1j * thetavec[i]) * qt.basis(nfock, i).proj()\n",
        "\n",
        "    # Rotation\n",
        "    D2 = qt.displace(nfock, alpha)\n",
        "\n",
        "    return S2 * D2"
      ]
    },
    {
      "cell_type": "markdown",
      "metadata": {
        "id": "6cQsH0ev1LG6"
      },
      "source": [
        "Build the ansatz matrix of depth $N_d$\n",
        "\n",
        "$$ \\mathcal{U} (\\vec{\\alpha}, \\bar{\\theta})\n",
        "= U (\\alpha_{N_d}, \\vec{\\theta}_{N_d}) \\cdots\n",
        "U (\\alpha_1, \\vec{\\theta}_1),\n",
        "$$\n",
        "\n",
        "where $\\vec{\\alpha}$ is an $N_d$-dimensional vector and\n",
        "$ \\bar{\\theta}_{N_d \\times L} $ is a matrix.\n"
      ]
    },
    {
      "cell_type": "code",
      "execution_count": 12,
      "metadata": {
        "id": "wWyA_LuaDsI-"
      },
      "outputs": [],
      "source": [
        "def snap_disp_ansatz(alphavec, thetamat, nfock):\n",
        "    \"\"\"\n",
        "    SNAP-displacement ansatz.\n",
        "\n",
        "    Arguments:\n",
        "    alphavec -- displacement parameters\n",
        "    thetamat -- SNAP parameters\n",
        "    nfock -- Fock cutoff\n",
        "    \"\"\"\n",
        "    # Check\n",
        "    if thetamat.shape[0] != alphavec.shape[0]:\n",
        "        raise ValueError(\"Lengths of theta and alpha do not match.\")\n",
        "    if thetamat.shape[1] != nfock:\n",
        "        raise ValueError(\"Incorrect nfock chosen.\")\n",
        "\n",
        "    # Initialize\n",
        "    ndepth = thetamat.shape[0]\n",
        "    uni = snap_disp_op(alphavec[0], thetamat[0, :])\n",
        "\n",
        "    # Check\n",
        "    if ndepth == 1:\n",
        "        return uni\n",
        "\n",
        "    # Loop through blocks\n",
        "    for i in range(1, ndepth):\n",
        "        new_uni = snap_disp_op(alphavec[i], thetamat[i, :])\n",
        "        uni = ( new_uni * uni )\n",
        "\n",
        "    return uni.full()"
      ]
    },
    {
      "cell_type": "markdown",
      "metadata": {
        "id": "aK_grAZPaKwk"
      },
      "source": [
        "## Cost functions"
      ]
    },
    {
      "cell_type": "markdown",
      "metadata": {
        "id": "b4RqXOLNWmKg"
      },
      "source": [
        "Let us denote $V_T$ as our target qumode matrix and $U$ is the parametrized matrix.\n",
        "The cost functions are\n",
        "\n",
        "\\begin{align*}\n",
        "C_{diag}\n",
        "&= \\frac{1}{L} \\: \\sum_{n = 0}^{L - 1} \\:\n",
        "| V_{n, n} - U_{n, n} |^2,\n",
        "\\\\\n",
        "C_{full}\n",
        "&= \\frac{1}{L^2} \\: \\sum_{n, m = 0}^{L - 1} \\:\n",
        "| V_{n, m} - U_{n, m} |^2,\n",
        "\\end{align*}\n",
        "where $L$ is the qumode Fock cutoff.\n",
        "\n",
        "If $U$ is a qubit-qumode circuit then\n",
        "\n",
        "\\begin{align*}\n",
        "V_{n, m}\n",
        "&= \\langle 0, n| ( I \\otimes V_T ) | 0, m \\rangle,\n",
        "\\\\\n",
        "U_{n, m}\n",
        "&= \\langle 0, n| U | 0, m \\rangle,\n",
        "\\end{align*}\n",
        "and if $U$ is a qumode circuit then\n",
        "\n",
        "\\begin{align*}\n",
        "V_{n, m}\n",
        "&= \\langle n| V_T | m \\rangle,\n",
        "\\\\\n",
        "U_{n, m}\n",
        "&= \\langle n| U | m \\rangle.\n",
        "\\end{align*}"
      ]
    },
    {
      "cell_type": "markdown",
      "metadata": {
        "id": "39Dx0UXUQkSV"
      },
      "source": [
        "### Basics"
      ]
    },
    {
      "cell_type": "code",
      "execution_count": 13,
      "metadata": {
        "id": "T1jD70TpWa5R"
      },
      "outputs": [],
      "source": [
        "def tran_val_qubit_cavity(op, n, m):\n",
        "    \"\"\"\n",
        "    Compute <0, n| O |0, m>.\n",
        "\n",
        "    Arguments:\n",
        "    op -- Operator matrix\n",
        "    n -- Fock level\n",
        "    \"\"\"\n",
        "    # Check\n",
        "    L = op.shape[0] // 2\n",
        "    if n > L:\n",
        "        raise ValueError(\"n > L.\")\n",
        "    if m > L:\n",
        "        raise ValueError(\"m > L.\")\n",
        "\n",
        "    # |0, n> and |0, m>\n",
        "    state1 = qt.tensor(qt.basis(2, 0), qt.basis(L, n)).full()\n",
        "    state2 = qt.tensor(qt.basis(2, 0), qt.basis(L, m)).full()\n",
        "\n",
        "    # <0, n| O |0, m>\n",
        "    t1 = np.matmul(op, state2)\n",
        "    ov = np.dot(np.conj(state1).T, t1)\n",
        "\n",
        "    return np.squeeze(ov)"
      ]
    },
    {
      "cell_type": "code",
      "execution_count": 14,
      "metadata": {
        "id": "RPqmAerWQwww"
      },
      "outputs": [],
      "source": [
        "def tran_val_only_cavity(op, n, m):\n",
        "    \"\"\"\n",
        "    Compute <n| O |m>.\n",
        "\n",
        "    Arguments:\n",
        "    op -- Operator matrix\n",
        "    n -- Fock level\n",
        "    \"\"\"\n",
        "    # Check\n",
        "    L = op.shape[0]\n",
        "    if n > L:\n",
        "        raise ValueError(\"n > L.\")\n",
        "    if m > L:\n",
        "        raise ValueError(\"m > L.\")\n",
        "\n",
        "    # |n> and |m>\n",
        "    state1 = qt.basis(L, n).full()\n",
        "    state2 = qt.basis(L, m).full()\n",
        "\n",
        "    # <n| O |m>\n",
        "    t1 = np.matmul(op, state2)\n",
        "    ov = np.dot(np.conj(state1).T, t1)\n",
        "\n",
        "    return np.squeeze(ov)"
      ]
    },
    {
      "cell_type": "markdown",
      "metadata": {
        "id": "tlLBFJzxxr7f"
      },
      "source": [
        "### ECD-rotation"
      ]
    },
    {
      "cell_type": "code",
      "execution_count": 15,
      "metadata": {
        "id": "m3vwisVFxkI2"
      },
      "outputs": [],
      "source": [
        "def unpack_params_ecd_rot(X):\n",
        "    # Initialize\n",
        "    dim = X.shape[0] // 4\n",
        "\n",
        "    # Unpack\n",
        "    beta_mag = X[:dim].copy()\n",
        "    beta_arg = X[dim:2*dim].copy()\n",
        "    theta = X[2*dim:3*dim].copy()\n",
        "    phi = X[3*dim:4*dim].copy()\n",
        "\n",
        "    return beta_mag, beta_arg, theta, phi\n",
        "\n",
        "def pack_params_ecd_rot(beta_mag, beta_arg, theta, phi):\n",
        "    # Initialize\n",
        "    dim = beta_mag.shape[0]\n",
        "    X = np.zeros((4 * dim,))\n",
        "\n",
        "    # Pack\n",
        "    X[:dim] = beta_mag.copy()\n",
        "    X[dim:2*dim] = beta_arg.copy()\n",
        "    X[2*dim:3*dim] = theta.copy()\n",
        "    X[3*dim:4*dim] = phi.copy()\n",
        "\n",
        "    return X"
      ]
    },
    {
      "cell_type": "code",
      "execution_count": 16,
      "metadata": {
        "id": "4fwM7rfeXDIi"
      },
      "outputs": [],
      "source": [
        "def cost_fun_ecd_rot(Xvec, V, ctype='full'):\n",
        "    \"\"\"\n",
        "    Loss function.\n",
        "\n",
        "    Arguments:\n",
        "    Xvec -- ansatz parameters\n",
        "    V -- target qubit-qumode operator\n",
        "    ctype -- type of cost fucntion\n",
        "    \"\"\"\n",
        "    # Unpack\n",
        "    bmagvec, bargvec, thetavec, phivec = unpack_params_ecd_rot(Xvec)\n",
        "\n",
        "    # ECD unitary\n",
        "    nfock = V.shape[0] // 2\n",
        "    U = ecd_rot_ansatz(bmagvec, bargvec, thetavec, phivec, nfock)\n",
        "\n",
        "    # Initialize\n",
        "    ov = 0.0\n",
        "\n",
        "    # Diagonal\n",
        "    if ctype == 'diag':\n",
        "        for j in range(nfock):\n",
        "            t0 = tran_val_qubit_cavity(V, j, j)\n",
        "            t1 = tran_val_qubit_cavity(U, j, j)\n",
        "            ov += np.abs( t0 - t1 )**2\n",
        "        return ov / nfock\n",
        "\n",
        "    # Full\n",
        "    for j in range(nfock):\n",
        "        for k in range(nfock):\n",
        "            t0 = tran_val_qubit_cavity(V, j, k)\n",
        "            t1 = tran_val_qubit_cavity(U, j, k)\n",
        "            ov += np.abs( t0 - t1 )**2\n",
        "\n",
        "    return ov / (nfock**2)"
      ]
    },
    {
      "cell_type": "markdown",
      "metadata": {
        "id": "3kMcsaOuyAq3"
      },
      "source": [
        "### SQR-displacement"
      ]
    },
    {
      "cell_type": "code",
      "execution_count": 17,
      "metadata": {
        "id": "LNM34hfeyER4"
      },
      "outputs": [],
      "source": [
        "def unpack_params_sqr_disp(X, nfock):\n",
        "    # Initialize\n",
        "    ndepth = X.shape[0] // (2 * (nfock + 1))\n",
        "\n",
        "    # Unpack\n",
        "    beta_mag = X[:ndepth].copy()\n",
        "    beta_arg = X[ndepth:2*ndepth].copy()\n",
        "    d1 = 2 * ndepth\n",
        "    d2 = ndepth * nfock\n",
        "    theta = X[d1:d1+d2].reshape((ndepth, nfock))\n",
        "    phi = X[d1+d2:d1+2*d2].reshape((ndepth, nfock))\n",
        "\n",
        "    return beta_mag, beta_arg, theta, phi\n",
        "\n",
        "def pack_params_sqr_disp(beta_mag, beta_arg, theta, phi):\n",
        "    # Initialize\n",
        "    ndepth = beta_mag.shape[0]\n",
        "    nfock = theta.shape[1]\n",
        "    dim = 2 * (nfock + 1) * ndepth\n",
        "    X = np.zeros((dim,))\n",
        "\n",
        "    # Pack\n",
        "    X[:ndepth] = beta_mag.copy()\n",
        "    X[ndepth:2*ndepth] = beta_arg.copy()\n",
        "    d1 = 2 * ndepth\n",
        "    d2 = ndepth * nfock\n",
        "    X[d1:d1+d2] = theta.reshape(-1)\n",
        "    d3 = d1 + d2\n",
        "    X[d3:d3+d2] = phi.reshape(-1)\n",
        "\n",
        "    return X"
      ]
    },
    {
      "cell_type": "code",
      "execution_count": 18,
      "metadata": {
        "id": "d0Hpo6DFluar"
      },
      "outputs": [],
      "source": [
        "def cost_fun_sqr_disp(Xvec, V, ctype='full'):\n",
        "    \"\"\"\n",
        "    Loss function.\n",
        "\n",
        "    Arguments:\n",
        "    Xvec -- ansatz parameters\n",
        "    V -- target qubit-qumode operator\n",
        "    ctype -- type of cost fucntion\n",
        "    \"\"\"\n",
        "    # Unpack\n",
        "    nfock = V.shape[0] // 2\n",
        "    bmagvec, bargvec, thetamat, phimat = unpack_params_sqr_disp(Xvec, nfock)\n",
        "\n",
        "    # ECD unitary\n",
        "    U = sqr_disp_ansatz(bmagvec, bargvec, thetamat, phimat, nfock)\n",
        "\n",
        "    # Diagonal\n",
        "    if ctype == 'diag':\n",
        "        ov = 0.0\n",
        "        for j in range(nfock):\n",
        "            t0 = tran_val_qubit_cavity(V, j, j)\n",
        "            t1 = tran_val_qubit_cavity(U, j, j)\n",
        "            ov += np.abs( t0 - t1 )**2\n",
        "        return ov / nfock\n",
        "\n",
        "    # Full\n",
        "    ov = 0.0\n",
        "    for j in range(nfock):\n",
        "        for k in range(nfock):\n",
        "            t0 = tran_val_qubit_cavity(V, j, k)\n",
        "            t1 = tran_val_qubit_cavity(U, j, k)\n",
        "            ov += np.abs( t0 - t1 )**2\n",
        "    ov *= ( 1 / ( nfock**2 ) )\n",
        "\n",
        "    return ov"
      ]
    },
    {
      "cell_type": "markdown",
      "metadata": {
        "id": "3_JEZ2V5yfVM"
      },
      "source": [
        "### SNAP-displacement"
      ]
    },
    {
      "cell_type": "code",
      "execution_count": 19,
      "metadata": {
        "id": "2wFeWQf2yiSD"
      },
      "outputs": [],
      "source": [
        "def unpack_params_snap_disp(X, nfock):\n",
        "    # Initialize\n",
        "    ndepth = X.shape[0] // (nfock + 1)\n",
        "\n",
        "    # Unpack\n",
        "    alpha = X[:ndepth].copy()\n",
        "    d1 = ndepth * nfock\n",
        "    theta = X[ndepth:ndepth+d1].reshape((ndepth, nfock))\n",
        "\n",
        "    return alpha, theta\n",
        "\n",
        "def pack_params_snap_disp(alpha, theta):\n",
        "    # Initialize\n",
        "    ndepth = alpha.shape[0]\n",
        "    nfock = theta.shape[1]\n",
        "    dim = (nfock + 1) * ndepth\n",
        "    X = np.zeros((dim,))\n",
        "\n",
        "    # Pack\n",
        "    X[:ndepth] = alpha.copy()\n",
        "    d1 = ndepth * nfock\n",
        "    X[ndepth:ndepth+d1] = theta.reshape(-1)\n",
        "\n",
        "    return X"
      ]
    },
    {
      "cell_type": "code",
      "execution_count": 20,
      "metadata": {
        "id": "1jdupITZm3_P"
      },
      "outputs": [],
      "source": [
        "def cost_fun_snap_disp(Xvec, V, ctype='full'):\n",
        "    \"\"\"\n",
        "    Loss function.\n",
        "\n",
        "    Arguments:\n",
        "    Xvec -- ansatz parameters\n",
        "    V -- target qumode operator\n",
        "    ctype -- type of cost fucntion\n",
        "    \"\"\"\n",
        "    # Unpack\n",
        "    nfock = V.shape[0]\n",
        "    alphavec, thetamat = unpack_params_snap_disp(Xvec, nfock)\n",
        "\n",
        "    # ECD unitary\n",
        "    U = snap_disp_ansatz(alphavec, thetamat, nfock)\n",
        "\n",
        "    # Initialize\n",
        "    ov = 0.0\n",
        "\n",
        "    # Diagonal\n",
        "    if ctype == 'diag':\n",
        "        for j in range(nfock):\n",
        "            t0 = tran_val_only_cavity(V, j, j)\n",
        "            t1 = tran_val_only_cavity(U, j, j)\n",
        "            ov += np.abs( t0 - t1 )**2\n",
        "        return ov / nfock\n",
        "\n",
        "    # Full\n",
        "    for j in range(nfock):\n",
        "        for k in range(nfock):\n",
        "            t0 = tran_val_only_cavity(V, j, k)\n",
        "            t1 = tran_val_only_cavity(U, j, k)\n",
        "            ov += np.abs( t0 - t1 )**2\n",
        "    ov *= ( 1 / ( nfock**2 ) )\n",
        "\n",
        "    return ov"
      ]
    },
    {
      "cell_type": "markdown",
      "metadata": {
        "id": "QSqLTofg719y"
      },
      "source": [
        "## Optimizations"
      ]
    },
    {
      "cell_type": "markdown",
      "metadata": {
        "id": "La5RWboP0iB2"
      },
      "source": [
        "### Core"
      ]
    },
    {
      "cell_type": "code",
      "execution_count": null,
      "metadata": {
        "id": "Zkhw5ps6_hWh"
      },
      "outputs": [],
      "source": [
        "def opt_scipy_ecd_rot(V, ndepth, ctype, maxiter=100, method='COBYLA', verb=0, \\\n",
        "                      threshold=1e-08, Xvec=[]):\n",
        "    \"\"\"\n",
        "    Minimize the cost function using SciPy-based methods.\n",
        "\n",
        "    Arguments:\n",
        "    V -- target qumode matrix in QuTip\n",
        "    ndepth -- ansatz circuit depth\n",
        "    ctype -- cost function type\n",
        "    maxiter -- maximum number of iterations\n",
        "    method -- optimization method\n",
        "    verb -- print additional things or not\n",
        "    threshold -- error tolerance\n",
        "    beta_mag, beta_arg, theta, phi -- optional initial guesses\n",
        "    \"\"\"\n",
        "    # Qubit-qumode matrix\n",
        "    # FullV = qt.tensor(qt.qeye(2), V).full()\n",
        "    \n",
        "    print(FullV)\n",
        "\n",
        "    # Bound parameters\n",
        "    beta_mag_min = 0.0\n",
        "    beta_mag_max = 10.0\n",
        "    beta_arg_min = 0.0\n",
        "    beta_arg_max = 2 * np.pi\n",
        "    theta_min = 0.0\n",
        "    theta_max = np.pi\n",
        "    phi_min = 0.0\n",
        "    phi_max = 2 * np.pi\n",
        "\n",
        "    # Define bounds\n",
        "    bounds = []\n",
        "    for _ in range(ndepth):\n",
        "        bounds.append([beta_mag_min, beta_mag_max])\n",
        "    for _ in range(ndepth):\n",
        "        bounds.append([beta_arg_min, beta_arg_max])\n",
        "    for _ in range(ndepth):\n",
        "        bounds.append([theta_min, theta_max])\n",
        "    for _ in range(ndepth):\n",
        "        bounds.append([phi_min, phi_max])\n",
        "    bounds = np.array(bounds)\n",
        "\n",
        "    # Guess\n",
        "    if len(Xvec) == 0:\n",
        "        beta_mag = np.random.uniform(0, 3, size=ndepth)\n",
        "        beta_arg = np.random.uniform(0, np.pi, size=ndepth)\n",
        "        theta = np.random.uniform(0, np.pi, size=ndepth)\n",
        "        phi = np.random.uniform(0, np.pi, size=ndepth)\n",
        "        Xvec = pack_params_ecd_rot(beta_mag, beta_arg, theta, phi)\n",
        "\n",
        "    # Loss function\n",
        "    obj_fun = partial(cost_fun_ecd_rot, V=FullV, ctype=ctype)\n",
        "\n",
        "    # Intermediate values\n",
        "    iteration_step = 0\n",
        "    print_freq = 10\n",
        "    def callback(xk):\n",
        "        nonlocal iteration_step\n",
        "        iteration_step += 1\n",
        "        if verb == 1 and (iteration_step % print_freq == 0):\n",
        "            print(\"-------------------\")\n",
        "            print(f\"iter: {iteration_step}\")\n",
        "            print(f\"fval: {obj_fun(xk)}\")\n",
        "\n",
        "    # SciPy options\n",
        "    options = {'disp': True, 'maxiter': maxiter}\n",
        "\n",
        "    # Optimize\n",
        "    if method == 'COBYLA':\n",
        "        result = sciopt.minimize(obj_fun, Xvec, method=method, bounds=bounds, \\\n",
        "                                 tol=threshold, options=options, callback=callback)\n",
        "    elif method == 'Powell':\n",
        "        result = sciopt.minimize(obj_fun, Xvec, method=method, bounds=bounds, \\\n",
        "                                 tol=threshold, options=options, callback=callback)\n",
        "    elif method == 'CG':\n",
        "        result = sciopt.minimize(obj_fun, Xvec, method=method, \\\n",
        "                                 tol=threshold, options=options, callback=callback)\n",
        "    elif method == 'BFGS':\n",
        "        result = sciopt.minimize(obj_fun, Xvec, method=method, \\\n",
        "                                 tol=threshold, options=options, callback=callback)\n",
        "    elif method == 'L-BFGS-B':\n",
        "        result = sciopt.minimize(obj_fun, Xvec, method=method, bounds=bounds, \\\n",
        "                                 tol=threshold, options=options, callback=callback)\n",
        "    elif method == 'TNC':\n",
        "        result = sciopt.minimize(obj_fun, Xvec, method=method, \\\n",
        "                                 bounds=bounds, tol=threshold, callback=callback)\n",
        "    elif method == 'trust-constr':\n",
        "        result = sciopt.minimize(obj_fun, Xvec, method=method, bounds=bounds, \\\n",
        "                                 tol=threshold, options=options, callback=callback)\n",
        "    else:\n",
        "        result = sciopt.minimize(obj_fun, Xvec, method='COBYLA', bounds=bounds, \\\n",
        "                                 tol=threshold, options=options, callback=callback)\n",
        "\n",
        "    return result.fun, result.x"
      ]
    },
    {
      "cell_type": "code",
      "execution_count": 38,
      "metadata": {
        "id": "d5Q36u5ZTp9y"
      },
      "outputs": [],
      "source": [
        "def opt_scipy_sqr_disp(V, ndepth, ctype, maxiter=100, method='COBYLA', verb=0, \\\n",
        "                       threshold=1e-08, Xvec=[]):\n",
        "    \"\"\"\n",
        "    Minimize the cost function using SciPy-based methods.\n",
        "\n",
        "    Arguments:\n",
        "    V -- target qumode matrix in QuTip\n",
        "    ndepth -- ansatz circuit depth\n",
        "    ctype -- cost function type\n",
        "    maxiter -- maximum number of iterations\n",
        "    method -- optimization method\n",
        "    verb -- print additional things or not\n",
        "    threshold -- error tolerance\n",
        "    beta_mag, beta_arg, theta, phi -- optional initial guesses\n",
        "    \"\"\"\n",
        "    \"\"\"\n",
        "    Minimize the cost function using Scikit-based methods.\n",
        "\n",
        "    Arguments:\n",
        "    V -- target qumode matrix in QuTip\n",
        "    ndepth -- ansatz circuit depth\n",
        "    ctype -- cost function type\n",
        "    budget -- maximum number of iterations\n",
        "    method -- optimization method\n",
        "    Xvec -- optional initial guess\n",
        "    \"\"\"\n",
        "    # Qubit-qumode matrix\n",
        "    FullV = qt.tensor(qt.qeye(2), V).full()\n",
        "    nfock = FullV.shape[0] // 2\n",
        "\n",
        "    # Bound parameters\n",
        "    beta_mag_min = 0.0\n",
        "    beta_mag_max = 10.0\n",
        "    beta_arg_min = 0.0\n",
        "    beta_arg_max = 2 * np.pi\n",
        "    theta_min = 0.0\n",
        "    theta_max = np.pi\n",
        "    phi_min = 0.0\n",
        "    phi_max = 2 * np.pi\n",
        "\n",
        "    # Define bounds\n",
        "    bounds = []\n",
        "    for _ in range(ndepth):\n",
        "        bounds.append([beta_mag_min, beta_mag_max])\n",
        "    for _ in range(ndepth):\n",
        "        bounds.append([beta_arg_min, beta_arg_max])\n",
        "    for _ in range(ndepth * nfock):\n",
        "        bounds.append([theta_min, theta_max])\n",
        "    for _ in range(ndepth * nfock):\n",
        "        bounds.append([phi_min, phi_max])\n",
        "    bounds = np.array(bounds)\n",
        "\n",
        "    # Guess\n",
        "    if len(Xvec) == 0:\n",
        "        beta_mag = np.random.uniform(0, 3, size=ndepth)\n",
        "        beta_arg = np.random.uniform(0, np.pi, size=ndepth)\n",
        "        theta = np.random.uniform(0, np.pi, size=(ndepth, nfock))\n",
        "        phi = np.random.uniform(0, np.pi, size=(ndepth, nfock))\n",
        "        Xvec = pack_params_sqr_disp(beta_mag, beta_arg, theta, phi)\n",
        "\n",
        "    # Loss function\n",
        "    obj_fun = partial(cost_fun_sqr_disp, V=FullV, ctype=ctype)\n",
        "\n",
        "    # Intermediate values\n",
        "    iteration_step = 0\n",
        "    print_freq = 10\n",
        "    def callback(xk):\n",
        "        nonlocal iteration_step\n",
        "        iteration_step += 1\n",
        "        if verb == 1 and (iteration_step % print_freq == 0):\n",
        "            print(\"-------------------\")\n",
        "            print(f\"iter: {iteration_step}\")\n",
        "            print(f\"fval: {obj_fun(xk)}\")\n",
        "\n",
        "    # SciPy options\n",
        "    options = {'disp': True, 'maxiter': maxiter}\n",
        "\n",
        "    # Optimize\n",
        "    if method == 'COBYLA':\n",
        "        result = sciopt.minimize(obj_fun, Xvec, method=method, bounds=bounds, \\\n",
        "                                 tol=threshold, options=options, callback=callback)\n",
        "    elif method == 'Powell':\n",
        "        result = sciopt.minimize(obj_fun, Xvec, method=method, bounds=bounds, \\\n",
        "                                 tol=threshold, options=options, callback=callback)\n",
        "    elif method == 'CG':\n",
        "        result = sciopt.minimize(obj_fun, Xvec, method=method, \\\n",
        "                                 tol=threshold, options=options, callback=callback)\n",
        "    elif method == 'BFGS':\n",
        "        result = sciopt.minimize(obj_fun, Xvec, method=method, \\\n",
        "                                 tol=threshold, options=options, callback=callback)\n",
        "    elif method == 'L-BFGS-B':\n",
        "        result = sciopt.minimize(obj_fun, Xvec, method=method, bounds=bounds, \\\n",
        "                                 tol=threshold, options=options, callback=callback)\n",
        "    elif method == 'TNC':\n",
        "        result = sciopt.minimize(obj_fun, Xvec, method=method, \\\n",
        "                                 bounds=bounds, tol=threshold, callback=callback)\n",
        "    elif method == 'trust-constr':\n",
        "        result = sciopt.minimize(obj_fun, Xvec, method=method, bounds=bounds, \\\n",
        "                                 tol=threshold, options=options, callback=callback)\n",
        "    else:\n",
        "        result = sciopt.minimize(obj_fun, Xvec, method='COBYLA', bounds=bounds, \\\n",
        "                                 tol=threshold, options=options, callback=callback)\n",
        "\n",
        "    return result.fun, result.x"
      ]
    },
    {
      "cell_type": "code",
      "execution_count": 39,
      "metadata": {
        "id": "5-zOXS6RUwIK"
      },
      "outputs": [],
      "source": [
        "def opt_scipy_snap_disp(V, ndepth, ctype, maxiter=100, method='COBYLA', verb=0, \\\n",
        "                        threshold=1e-08, Xvec=[]):\n",
        "    \"\"\"\n",
        "    Minimize the cost function using SciPy-based methods.\n",
        "\n",
        "    Arguments:\n",
        "    V -- target qumode matrix in QuTip\n",
        "    ndepth -- ansatz circuit depth\n",
        "    ctype -- cost function type\n",
        "    maxiter -- maximum number of iterations\n",
        "    method -- optimization method\n",
        "    verb -- print additional things or not\n",
        "    threshold -- error tolerance\n",
        "    beta_mag, beta_arg, theta, phi -- optional initial guesses\n",
        "    \"\"\"\n",
        "    # Qumode matrix\n",
        "    FullV = V.full()\n",
        "    nfock = FullV.shape[0]\n",
        "\n",
        "    # Bound parameters\n",
        "    alpha_min = 0.0\n",
        "    alpha_max = 10.0\n",
        "    theta_min = 0.0\n",
        "    theta_max = np.pi\n",
        "\n",
        "    # Define bounds\n",
        "    bounds = []\n",
        "    for _ in range(ndepth):\n",
        "        bounds.append([alpha_min, alpha_max])\n",
        "    for _ in range(ndepth * nfock):\n",
        "        bounds.append([theta_min, theta_max])\n",
        "    bounds = np.array(bounds)\n",
        "\n",
        "    # Guess\n",
        "    if len(Xvec) == 0:\n",
        "        alpha = np.random.uniform(0, 3, size=ndepth)\n",
        "        theta = np.random.uniform(0, np.pi, size=(ndepth, nfock))\n",
        "        Xvec = pack_params_snap_disp(alpha, theta)\n",
        "\n",
        "    # Loss function\n",
        "    obj_fun = partial(cost_fun_snap_disp, V=FullV, ctype=ctype)\n",
        "\n",
        "    # Intermediate values\n",
        "    iteration_step = 0\n",
        "    print_freq = 10\n",
        "    def callback(xk):\n",
        "        nonlocal iteration_step\n",
        "        iteration_step += 1\n",
        "        if verb == 1 and (iteration_step % print_freq == 0):\n",
        "            print(\"-------------------\")\n",
        "            print(f\"iter: {iteration_step}\")\n",
        "            print(f\"fval: {obj_fun(xk)}\")\n",
        "\n",
        "    # SciPy options\n",
        "    options = {'disp': True, 'maxiter': maxiter}\n",
        "\n",
        "    # Optimize\n",
        "    if method == 'COBYLA':\n",
        "        result = sciopt.minimize(obj_fun, Xvec, method=method, bounds=bounds, \\\n",
        "                                 tol=threshold, options=options, callback=callback)\n",
        "    elif method == 'Powell':\n",
        "        result = sciopt.minimize(obj_fun, Xvec, method=method, bounds=bounds, \\\n",
        "                                 tol=threshold, options=options, callback=callback)\n",
        "    elif method == 'CG':\n",
        "        result = sciopt.minimize(obj_fun, Xvec, method=method, \\\n",
        "                                 tol=threshold, options=options, callback=callback)\n",
        "    elif method == 'BFGS':\n",
        "        result = sciopt.minimize(obj_fun, Xvec, method=method, \\\n",
        "                                 tol=threshold, options=options, callback=callback)\n",
        "    elif method == 'L-BFGS-B':\n",
        "        result = sciopt.minimize(obj_fun, Xvec, method=method, bounds=bounds, \\\n",
        "                                 tol=threshold, options=options, callback=callback)\n",
        "    elif method == 'TNC':\n",
        "        result = sciopt.minimize(obj_fun, Xvec, method=method, \\\n",
        "                                 bounds=bounds, tol=threshold, callback=callback)\n",
        "    elif method == 'trust-constr':\n",
        "        result = sciopt.minimize(obj_fun, Xvec, method=method, bounds=bounds, \\\n",
        "                                 tol=threshold, options=options, callback=callback)\n",
        "    else:\n",
        "        result = sciopt.minimize(obj_fun, Xvec, method='COBYLA', bounds=bounds, \\\n",
        "                                 tol=threshold, options=options, callback=callback)\n",
        "\n",
        "    return result.fun, result.x"
      ]
    },
    {
      "cell_type": "markdown",
      "metadata": {
        "id": "sf50tuHBTNfb"
      },
      "source": [
        "### Wrapper"
      ]
    },
    {
      "cell_type": "code",
      "execution_count": 40,
      "metadata": {
        "id": "21tQjptZ_98X"
      },
      "outputs": [],
      "source": [
        "def qumode_opt_regular(V, ndepth, ctype, atype='ecd-rot', budget=100, method='COBYLA', \\\n",
        "                    verb=0, threshold=1e-08, Xvec=[]):\n",
        "    \"\"\"\n",
        "    Minimize the cost function using various optimizers.\n",
        "\n",
        "    Arguments:\n",
        "    V -- target qumode matrix in QuTip\n",
        "    ctype -- type of cost function\n",
        "    atype -- type of ansatz\n",
        "    ndepth -- ansatz circuit depth\n",
        "    budget -- maximum number of iterations\n",
        "    method -- optimization method\n",
        "    threshold -- error tolerance\n",
        "    Xvec -- optional initial guess\n",
        "    \"\"\"\n",
        "    # Method library\n",
        "    sc_tuple = ('COBYLA', 'Powell', 'CG', 'BFGS', 'L-BFGS-B', 'TNC', 'trust-constr')\n",
        "\n",
        "    # Optimize\n",
        "    if atype == 'sqr-disp':\n",
        "        if method in sc_tuple:\n",
        "            loss, Xvec = opt_scipy_sqr_disp(V, ndepth, ctype=ctype, maxiter=budget, \\\n",
        "                                            method=method, verb=verb, \\\n",
        "                                            threshold=threshold, Xvec=Xvec)\n",
        "        else:\n",
        "            print(f\"Error: method not found\")\n",
        "            sys.exit(1)\n",
        "    elif atype == 'snap-disp':\n",
        "        if method in sc_tuple:\n",
        "            loss, Xvec = opt_scipy_snap_disp(V, ndepth, ctype=ctype, maxiter=budget, \\\n",
        "                                             method=method, verb=verb, \\\n",
        "                                             threshold=threshold, Xvec=Xvec)\n",
        "        else:\n",
        "            print(f\"Error: method not found\")\n",
        "            sys.exit(1)\n",
        "    else:\n",
        "        if method in sc_tuple:\n",
        "            loss, Xvec = opt_scipy_ecd_rot(V, ndepth, ctype=ctype, maxiter=budget, \\\n",
        "                                           method=method, verb=verb, \\\n",
        "                                           threshold=threshold, Xvec=Xvec)\n",
        "        else:\n",
        "            print(f\"Error: method not found\")\n",
        "            sys.exit(1)\n",
        "\n",
        "    return loss, Xvec"
      ]
    },
    {
      "cell_type": "markdown",
      "metadata": {
        "id": "CS760PksWxOr"
      },
      "source": [
        "## Explore"
      ]
    },
    {
      "cell_type": "code",
      "execution_count": 41,
      "metadata": {
        "id": "HdGKwmb7WyDj"
      },
      "outputs": [],
      "source": [
        "def test_opt_uni(ndepth, atype):\n",
        "    # Target\n",
        "    V = qt.tensor( qt.sigmax(), qt.sigmaz() )\n",
        "    print(V)\n",
        "\n",
        "    # Optimize\n",
        "    loss, Xvec = qumode_opt_regular(V, ndepth, ctype='full', atype=atype, budget=int(1e3), \\\n",
        "                                    method='BFGS', verb=0, threshold=1e-12)\n",
        "\n",
        "    return loss, Xvec"
      ]
    },
    {
      "cell_type": "code",
      "execution_count": 44,
      "metadata": {
        "colab": {
          "base_uri": "https://localhost:8080/"
        },
        "id": "WH2C7Qjr4BAP",
        "outputId": "79ad96fc-45d4-4689-82be-896ab9c24b68"
      },
      "outputs": [
        {
          "name": "stdout",
          "output_type": "stream",
          "text": [
            "Quantum object: dims=[[2, 2], [2, 2]], shape=(4, 4), type='oper', dtype=CSR, isherm=True\n",
            "Qobj data =\n",
            "[[ 0.  0.  1.  0.]\n",
            " [ 0.  0.  0. -1.]\n",
            " [ 1.  0.  0.  0.]\n",
            " [ 0. -1.  0.  0.]]\n",
            "[[ 0.+0.j  0.+0.j  1.+0.j  0.+0.j  0.+0.j  0.+0.j  0.+0.j  0.+0.j]\n",
            " [ 0.+0.j  0.+0.j  0.+0.j -1.+0.j  0.+0.j  0.+0.j  0.+0.j  0.+0.j]\n",
            " [ 1.+0.j  0.+0.j  0.+0.j  0.+0.j  0.+0.j  0.+0.j  0.+0.j  0.+0.j]\n",
            " [ 0.+0.j -1.+0.j  0.+0.j  0.+0.j  0.+0.j  0.+0.j  0.+0.j  0.+0.j]\n",
            " [ 0.+0.j  0.+0.j  0.+0.j  0.+0.j  0.+0.j  0.+0.j  1.+0.j  0.+0.j]\n",
            " [ 0.+0.j  0.+0.j  0.+0.j  0.+0.j  0.+0.j  0.+0.j  0.+0.j -1.+0.j]\n",
            " [ 0.+0.j  0.+0.j  0.+0.j  0.+0.j  1.+0.j  0.+0.j  0.+0.j  0.+0.j]\n",
            " [ 0.+0.j  0.+0.j  0.+0.j  0.+0.j  0.+0.j -1.+0.j  0.+0.j  0.+0.j]]\n",
            "         Current function value: 0.016360\n",
            "         Iterations: 153\n",
            "         Function evaluations: 3612\n",
            "         Gradient evaluations: 172\n"
          ]
        },
        {
          "name": "stderr",
          "output_type": "stream",
          "text": [
            "/Users/zhen002/miniconda3/envs/qbos/lib/python3.12/site-packages/scipy/optimize/_minimize.py:726: OptimizeWarning: Desired error not necessarily achieved due to precision loss.\n",
            "  res = _minimize_bfgs(fun, x0, args, jac, callback, **options)\n"
          ]
        },
        {
          "data": {
            "text/plain": [
              "0.016360263365860085"
            ]
          },
          "execution_count": 44,
          "metadata": {},
          "output_type": "execute_result"
        }
      ],
      "source": [
        "ndepth = 5\n",
        "atype = 'ecd-rot' #'ecd-rot' #'sqr-disp'\n",
        "\n",
        "loss, Xvec = test_opt_uni(ndepth, atype)\n",
        "loss"
      ]
    },
    {
      "cell_type": "code",
      "execution_count": 29,
      "metadata": {
        "colab": {
          "base_uri": "https://localhost:8080/"
        },
        "id": "usWhbTOLKi1b",
        "outputId": "2355da93-5382-42bb-9735-1250e279372d"
      },
      "outputs": [
        {
          "data": {
            "text/plain": [
              "array([ 0.83058848,  2.77807024,  0.89457258,  1.6245252 ,  0.38459129,\n",
              "        2.28563568,  2.83942265,  2.11735481,  2.46064887,  1.13332207,\n",
              "        2.04516356,  3.57978842,  1.43122665,  2.29743513,  3.42062083,\n",
              "        0.98779065,  1.66764103,  0.39671077,  4.88654179, -0.51796771])"
            ]
          },
          "execution_count": 29,
          "metadata": {},
          "output_type": "execute_result"
        }
      ],
      "source": [
        "Xvec"
      ]
    },
    {
      "cell_type": "markdown",
      "metadata": {
        "id": "vzCob72WUwm7"
      },
      "source": []
    },
    {
      "cell_type": "code",
      "execution_count": 30,
      "metadata": {
        "colab": {
          "base_uri": "https://localhost:8080/"
        },
        "id": "J5U5vzKoT9uL",
        "outputId": "401b9fb0-4ada-4bf9-938f-7ea38f986ade"
      },
      "outputs": [
        {
          "data": {
            "text/plain": [
              "array([[ 0.05107   -0.1207919j ,  0.01423356-0.07021634j,\n",
              "         0.86772826+0.j        ,  0.46459283-0.09417763j],\n",
              "       [-0.0404535 +0.05913072j,  0.05107   -0.1207919j ,\n",
              "        -0.46459283-0.09417763j,  0.86772826+0.j        ],\n",
              "       [ 0.86772826+0.j        , -0.46459283+0.09417763j,\n",
              "        -0.05107   -0.1207919j ,  0.0404535 +0.05913072j],\n",
              "       [ 0.46459283+0.09417763j,  0.86772826+0.j        ,\n",
              "        -0.01423356-0.07021634j, -0.05107   -0.1207919j ]])"
            ]
          },
          "execution_count": 30,
          "metadata": {},
          "output_type": "execute_result"
        }
      ],
      "source": [
        "np.set_printoptions(suppress=True)\n",
        "ecd_rot_ansatz(np.array([1]), np.array([0.2]), np.array([0.3]), np.array([0.4]), 2).data.as_ndarray()"
      ]
    },
    {
      "cell_type": "code",
      "execution_count": null,
      "metadata": {
        "id": "4jsNkaJtUcml"
      },
      "outputs": [],
      "source": []
    }
  ],
  "metadata": {
    "colab": {
      "collapsed_sections": [
        "J0tBc-IKGzVS",
        "aK_grAZPaKwk",
        "QSqLTofg719y"
      ],
      "machine_shape": "hm",
      "provenance": [],
      "toc_visible": true
    },
    "kernelspec": {
      "display_name": "qbos",
      "language": "python",
      "name": "python3"
    },
    "language_info": {
      "codemirror_mode": {
        "name": "ipython",
        "version": 3
      },
      "file_extension": ".py",
      "mimetype": "text/x-python",
      "name": "python",
      "nbconvert_exporter": "python",
      "pygments_lexer": "ipython3",
      "version": "3.12.8"
    }
  },
  "nbformat": 4,
  "nbformat_minor": 0
}
