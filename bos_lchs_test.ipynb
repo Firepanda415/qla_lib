{
 "cells": [
  {
   "cell_type": "code",
   "execution_count": 16,
   "metadata": {},
   "outputs": [],
   "source": [
    "import numpy as np\n",
    "import qiskit.quantum_info\n",
    "import scipy\n",
    "import qiskit\n",
    "import c2qa\n",
    "import sys\n",
    "from c2qa.operators import CVOperators\n",
    "sys.path.append('./src')\n",
    "\n",
    "import importlib\n",
    "import lchs_bos\n",
    "import lchs\n",
    "importlib.reload(lchs_bos)\n",
    "importlib.reload(lchs)\n",
    "from lchs_bos import *\n",
    "from lchs import *\n",
    "np.set_printoptions(suppress=True)"
   ]
  },
  {
   "cell_type": "code",
   "execution_count": 17,
   "metadata": {},
   "outputs": [
    {
     "name": "stdout",
     "output_type": "stream",
     "text": [
      "Norm of A: 0.3, Norm of L: 0.3, Norm of H: 0.0\n",
      "[[0.12222154+0.j]\n",
      " [0.5912622 +0.j]\n",
      " [0.22553724+0.j]\n",
      " [0.76459392+0.j]]\n"
     ]
    }
   ],
   "source": [
    "nq = 2 ### Problem Dimension\n",
    "a,b = 0.1, 0 ## Define A\n",
    "T = 0.1  ## Define the time interval [0,T]\n",
    "beta = 0.9 # 0< beta < 1\n",
    "epsilon = 0.001 #0.05  epsilon for LCHS parameters, epislon is the error tolerance\n",
    "debug = False\n",
    "trunc_multiplier = 3\n",
    "## automatic computation\n",
    "cv_ops = CVOperators()\n",
    "dim = 2**nq\n",
    "rng = numpy.random.Generator(numpy.random.PCG64(79489489))\n",
    "## Random numpy\n",
    "nhat = cv_ops.get_N(2**nq).todense()\n",
    "# nhat = qiskit_normal_order_switch(nhat)\n",
    "A = a*nhat + 1j*b*nhat\n",
    "L,H = cart_decomp(A)\n",
    "print(f\"Norm of A: {numpy.linalg.norm(A, ord=2)}, Norm of L: {numpy.linalg.norm(L, ord=2)}, Norm of H: {numpy.linalg.norm(H, ord=2)}\")\n",
    "## Random initial state\n",
    "# u0 = numpy.matrix( numpy.array([0]*dim,dtype=complex) ).reshape(-1,1)\n",
    "# u0[2,0] = 1\n",
    "u0 = numpy.matrix( rng.random((dim,1)) ,dtype=complex) ## dtype complex is necessary for scipy to compute complex integral\n",
    "u0 = u0/numpy.linalg.norm(u0, ord=2)\n",
    "print(u0)"
   ]
  },
  {
   "cell_type": "markdown",
   "metadata": {},
   "source": [
    "## Scipy Solution"
   ]
  },
  {
   "cell_type": "code",
   "execution_count": 18,
   "metadata": {},
   "outputs": [
    {
     "data": {
      "text/plain": [
       "(0.9782834101777667,\n",
       " array([0.12222154, 0.58537904, 0.2210713 , 0.74199676]),\n",
       " array([0.1249347 , 0.59837368, 0.22597879, 0.7584681 ]))"
      ]
     },
     "execution_count": 18,
     "metadata": {},
     "output_type": "execute_result"
    }
   ],
   "source": [
    "def ode_func_ho(t,u):\n",
    "    return numpy.array(-A.dot(u).reshape(-1))[0]\n",
    "spi_sol_ho = scipy.integrate.solve_ivp(ode_func_ho, [0,T],numpy.array(u0.reshape(-1))[0], method='RK45')\n",
    "if numpy.linalg.norm(spi_sol_ho.y[:,-1].imag,ord=2) < 1e-12:\n",
    "    spi_uT_ho = spi_sol_ho.y[:,-1].real\n",
    "else:\n",
    "    spi_uT_ho = spi_sol_ho.y[:,-1]\n",
    "spi_uT_ho_norm = spi_uT_ho/numpy.linalg.norm(spi_uT_ho,ord=2)\n",
    "numpy.linalg.norm(spi_uT_ho,ord=2), spi_uT_ho, spi_uT_ho_norm"
   ]
  },
  {
   "cell_type": "markdown",
   "metadata": {},
   "source": [
    "## LCHS Classical"
   ]
  },
  {
   "cell_type": "code",
   "execution_count": 19,
   "metadata": {},
   "outputs": [
    {
     "name": "stdout",
     "output_type": "stream",
     "text": [
      "  Preset parameters T =  0.1 beta =  0.9 epsilon =  0.001\n",
      "  Truncation range [-K,K] K = 36.78794411714423\n",
      "  Step size h1 = 12.262648039048075\n",
      "  Number of nodes in [mh_1, (m+1)h_1] Q = 9\n",
      "  Total number of nodes M = 54\n",
      "  Truncation error bound = 2.458009236028988\n",
      "  Quadrature error bound = 0.0003849254439855928\n",
      "  Total error bound = 2.4583941614729734\n",
      "  ||c||_1 = 2.00707157560424\n",
      "  Homogeneous u(T)= [0.12202213 0.58445011 0.22075455 0.74111291]   Norm= 0.9769607208712742\n",
      "  SciPy Sol   u(T)= [0.12222154 0.58537904 0.2210713  0.74199676]   Norm= 0.9782834101777667\n",
      "\n",
      "\n",
      "  Homogeneous solution error u(T)         : 0.0013357349305655227    Relative error: 0.001365386468449672\n",
      "  Homogeneous solution error u(T),normed  : 0.00019049065615785301    Relative error: 0.00019471929522267827\n",
      "  Homogeneous solution error u(T)(trotter): 0.0013357349305655227    Relative error: 0.001365386468449672\n",
      "  Homogeneous solution error u(T),normed  : 0.00019049065615785301    Relative error: 0.00019471929522267827\n"
     ]
    }
   ],
   "source": [
    "## Solve homogenous part\n",
    "exp_op, uT = class_lchs_tihs(A, u0, T, beta, epsilon, trunc_multiplier=trunc_multiplier, trotterLH=False, verbose=1)\n",
    "uT = numpy.array(uT).reshape(-1)\n",
    "if numpy.linalg.norm(uT.imag,ord=2) < 1e-12:\n",
    "    uT = uT.real\n",
    "uT_err = numpy.linalg.norm(uT - spi_uT_ho,ord=2)\n",
    "uTnormed_err = numpy.linalg.norm(uT/numpy.linalg.norm(uT,ord=2) - spi_uT_ho_norm,ord=2)\n",
    "print(\"  Homogeneous u(T)=\", uT, \"  Norm=\", numpy.linalg.norm(uT,ord=2))\n",
    "print(\"  SciPy Sol   u(T)=\", spi_uT_ho, \"  Norm=\", numpy.linalg.norm(spi_uT_ho,ord=2))\n",
    "print(\"\\n\")\n",
    "print(\"  Homogeneous solution error u(T)         :\", uT_err, \"   Relative error:\", uT_err/numpy.linalg.norm(spi_uT_ho,ord=2))\n",
    "print(\"  Homogeneous solution error u(T),normed  :\", uTnormed_err, \"   Relative error:\", uTnormed_err/numpy.linalg.norm(spi_uT_ho,ord=2))\n",
    "\n",
    "\n",
    "# print(\"\\n\\nTests with Classical Subroutine (Homogeneous, w/ trotter)\")\n",
    "## Solve homogenous part\n",
    "exp_op2, uT2 = class_lchs_tihs(A, u0, T, beta, epsilon, trunc_multiplier=trunc_multiplier, trotterLH=True,verbose=0)\n",
    "uT2 = numpy.array(uT2).reshape(-1)\n",
    "if numpy.linalg.norm(uT2.imag,ord=2) < 1e-12:\n",
    "    uT2 = uT2.real\n",
    "uT_err2 = numpy.linalg.norm(uT2 - spi_uT_ho,ord=2)\n",
    "uTnormed_err2 = numpy.linalg.norm(uT2/numpy.linalg.norm(uT2,ord=2) - spi_uT_ho_norm,ord=2)\n",
    "print(\"  Homogeneous solution error u(T)(trotter):\", uT_err2, \"   Relative error:\", uT_err2/numpy.linalg.norm(spi_uT_ho,ord=2))\n",
    "print(\"  Homogeneous solution error u(T),normed  :\", uTnormed_err2, \"   Relative error:\", uTnormed_err2/numpy.linalg.norm(spi_uT_ho,ord=2))"
   ]
  },
  {
   "cell_type": "markdown",
   "metadata": {},
   "source": [
    "##  Qubit"
   ]
  },
  {
   "cell_type": "code",
   "execution_count": 20,
   "metadata": {},
   "outputs": [
    {
     "name": "stdout",
     "output_type": "stream",
     "text": [
      "\n",
      "\n",
      "Tests with Quantum Subroutine (Qiskit API)\n",
      "  Preset parameters T =  0.1 beta =  0.9 epsilon =  0.001\n",
      "  Truncation range [-K,K] K = 36.78794411714423\n",
      "  Step size h1 = 12.262648039048075\n",
      "  Number of nodes in [mh_1, (m+1)h_1] Q = 9\n",
      "  Total number of nodes M = 54\n",
      "  Truncation error bound = 2.458009236028988\n",
      "  Quadrature error bound = 0.0003849254439855928\n",
      "  Total error bound = 2.4583941614729734\n",
      "  ||c||_1 = 2.00707157560424\n",
      "  LCU-Oracle: num_qubits_control= 6 num_qubits_op= 2\n"
     ]
    },
    {
     "name": "stderr",
     "output_type": "stream",
     "text": [
      "/Users/zhen002/miniconda3/envs/qbos/lib/python3.12/site-packages/numpy/linalg/linalg.py:2180: RuntimeWarning: divide by zero encountered in det\n",
      "  r = _umath_linalg.det(a, signature=signature)\n",
      "/Users/zhen002/miniconda3/envs/qbos/lib/python3.12/site-packages/numpy/linalg/linalg.py:2180: RuntimeWarning: invalid value encountered in det\n",
      "  r = _umath_linalg.det(a, signature=signature)\n",
      "/Users/zhen002/VirtualMachine/Ubuntu 24.04.1 LTS/qla_lib/src/oracle_synth.py:38: RuntimeWarning: invalid value encountered in scalar divide\n",
      "  tmp2 = matrix_su[1,0]/numpy.sin(theta/2)\n"
     ]
    },
    {
     "name": "stdout",
     "output_type": "stream",
     "text": [
      "  Number of Qubits: 8\n",
      "  Transpiled LCU Circ Stats (Opt 0): OrderedDict({'cx': 13830, 'u': 10922})\n",
      "    Circuit Depth (Opt 0): 22612\n",
      "  Transpiled LCU Circ Stats (Opt 2): OrderedDict({'cx': 11022, 'u': 10623})\n",
      "    Circuit Depth (Opt 2): 19846\n",
      "  - Homogeneous   u(T)= [0.12202213 0.58445011 0.22075455 0.74111291]   Norm= 0.9769607208713565\n",
      "  - SciPy Sol     u(T)= [0.12222154 0.58537904 0.2210713  0.74199676]   Norm= 0.9782834101777667\n",
      "  - Classical Sol u(T)= [0.12202213 0.58445011 0.22075455 0.74111291]   Norm= 0.9769607208712742\n",
      "  Compare to SciPy solution\n",
      "  - Homogeneous solution error u(T)         : 0.0013357349304845936    Relative error: 0.0013653864683669463\n",
      "  - Homogeneous solution error u(T),normed  : 0.0001904906561629568    Relative error: 0.00019471929522789534\n",
      "  Compare to LCHS Classical solution\n",
      "  - Homogeneous solution error u(T)         : 8.258888281857546e-14    Relative error: 8.453654384888775e-14\n",
      "  - Homogeneous solution error u(T),normed  : 5.336726713782377e-15    Relative error: 5.462580633766904e-15\n"
     ]
    }
   ],
   "source": [
    "print(\"\\n\\nTests with Quantum Subroutine (Qiskit API)\")\n",
    "quant_uT, lchs_circ_ho, circ_op_ho, quant_coeffs, quant_unitaries, quant_coeffs_unrot, quant_unitaries_unrot = quant_lchs_tihs(A, u0, T, beta, epsilon, \n",
    "                                            trunc_multiplier=trunc_multiplier, trotterLH=True,\n",
    "                                            qiskit_api=True, verbose=1, debug=False, rich_return=True)\n",
    "quant_uT = numpy.array(quant_uT).reshape(-1)\n",
    "if numpy.linalg.norm(quant_uT.imag,ord=2) < 1e-12:\n",
    "    quant_uT = quant_uT.real\n",
    "\n",
    "quant_uT_err = numpy.linalg.norm(quant_uT - spi_uT_ho,ord=2)\n",
    "quant_uTnormed_err = numpy.linalg.norm(quant_uT/numpy.linalg.norm(quant_uT,ord=2) - spi_uT_ho_norm,ord=2)\n",
    "quantclass_uT_err = numpy.linalg.norm(quant_uT - uT,ord=2)  \n",
    "quantclass_uTnormed_err = numpy.linalg.norm(quant_uT/numpy.linalg.norm(quant_uT,ord=2) - uT/numpy.linalg.norm(uT,ord=2),ord=2)\n",
    "print(\"  - Homogeneous   u(T)=\", quant_uT, \"  Norm=\", numpy.linalg.norm(quant_uT,ord=2))\n",
    "print(\"  - SciPy Sol     u(T)=\", spi_uT_ho, \"  Norm=\", numpy.linalg.norm(spi_uT_ho,ord=2))\n",
    "print(\"  - Classical Sol u(T)=\", uT, \"  Norm=\", numpy.linalg.norm(uT,ord=2))\n",
    "print(\"  Compare to SciPy solution\")\n",
    "print(\"  - Homogeneous solution error u(T)         :\", quant_uT_err, \"   Relative error:\", quant_uT_err/numpy.linalg.norm(spi_uT_ho,ord=2))\n",
    "print(\"  - Homogeneous solution error u(T),normed  :\", quant_uTnormed_err, \"   Relative error:\", quant_uTnormed_err/numpy.linalg.norm(spi_uT_ho,ord=2))\n",
    "print(\"  Compare to LCHS Classical solution\")\n",
    "print(\"  - Homogeneous solution error u(T)         :\", quantclass_uT_err, \"   Relative error:\", quantclass_uT_err/numpy.linalg.norm(uT,ord=2))\n",
    "print(\"  - Homogeneous solution error u(T),normed  :\", quantclass_uTnormed_err, \"   Relative error:\", quantclass_uTnormed_err/numpy.linalg.norm(uT,ord=2))\n"
   ]
  },
  {
   "cell_type": "markdown",
   "metadata": {},
   "source": [
    "## Qubit control Qumodes"
   ]
  },
  {
   "cell_type": "code",
   "execution_count": 21,
   "metadata": {},
   "outputs": [
    {
     "name": "stdout",
     "output_type": "stream",
     "text": [
      "\n",
      "\n",
      "Tests with Qumode Subroutine (Bosonic Qiskit)\n",
      "  Preset parameters T =  0.1 beta =  0.9 epsilon =  0.001\n",
      "  Truncation range [-K,K] K = 36.78794411714423\n",
      "  Step size h1 = 12.262648039048075\n",
      "  Number of nodes in [mh_1, (m+1)h_1] Q = 9\n",
      "  Total number of nodes M = 54\n",
      "  Truncation error bound = 2.458009236028988\n",
      "  Quadrature error bound = 0.0003849254439855928\n",
      "  Total error bound = 2.4583941614729734\n",
      "  ||c||_1 = 2.00707157560424\n",
      "LCU bos debug\n",
      "  Coeff Reconstruction error = 0.0\n"
     ]
    },
    {
     "ename": "AttributeError",
     "evalue": "'CVCircuit' object has no attribute 'Reset'",
     "output_type": "error",
     "traceback": [
      "\u001b[0;31m---------------------------------------------------------------------------\u001b[0m",
      "\u001b[0;31mAttributeError\u001b[0m                            Traceback (most recent call last)",
      "Cell \u001b[0;32mIn[21], line 2\u001b[0m\n\u001b[1;32m      1\u001b[0m \u001b[38;5;28mprint\u001b[39m(\u001b[38;5;124m\"\u001b[39m\u001b[38;5;130;01m\\n\u001b[39;00m\u001b[38;5;130;01m\\n\u001b[39;00m\u001b[38;5;124mTests with Qumode Subroutine (Bosonic Qiskit)\u001b[39m\u001b[38;5;124m\"\u001b[39m)\n\u001b[0;32m----> 2\u001b[0m bos_uT, bos_uT_array, lchs_circ_bosho_array, lchs_op_bosho, bos_coeffs, bos_thetas \u001b[38;5;241m=\u001b[39m \u001b[43mbos_pro_long_lchs_tihs\u001b[49m\u001b[43m(\u001b[49m\u001b[43m[\u001b[49m\u001b[43ma\u001b[49m\u001b[43m,\u001b[49m\u001b[43mb\u001b[49m\u001b[43m]\u001b[49m\u001b[43m,\u001b[49m\u001b[43m \u001b[49m\u001b[43mnq\u001b[49m\u001b[43m,\u001b[49m\u001b[43m \u001b[49m\u001b[43mu0\u001b[49m\u001b[43m,\u001b[49m\u001b[43m \u001b[49m\u001b[43mT\u001b[49m\u001b[43m,\u001b[49m\u001b[43m \u001b[49m\u001b[43mbeta\u001b[49m\u001b[43m,\u001b[49m\u001b[43m \u001b[49m\u001b[43mepsilon\u001b[49m\u001b[43m,\u001b[49m\u001b[43m \u001b[49m\n\u001b[1;32m      3\u001b[0m \u001b[43m                                            \u001b[49m\u001b[43mtrunc_multiplier\u001b[49m\u001b[38;5;241;43m=\u001b[39;49m\u001b[43mtrunc_multiplier\u001b[49m\u001b[43m,\u001b[49m\u001b[43m \u001b[49m\u001b[43mtrotterLH\u001b[49m\u001b[38;5;241;43m=\u001b[39;49m\u001b[38;5;28;43;01mTrue\u001b[39;49;00m\u001b[43m,\u001b[49m\n\u001b[1;32m      4\u001b[0m \u001b[43m                                            \u001b[49m\u001b[43mqiskit_api\u001b[49m\u001b[38;5;241;43m=\u001b[39;49m\u001b[38;5;28;43;01mTrue\u001b[39;49;00m\u001b[43m,\u001b[49m\u001b[43m \u001b[49m\u001b[43mverbose\u001b[49m\u001b[38;5;241;43m=\u001b[39;49m\u001b[38;5;241;43m1\u001b[39;49m\u001b[43m,\u001b[49m\u001b[43m \u001b[49m\u001b[43mdebug\u001b[49m\u001b[38;5;241;43m=\u001b[39;49m\u001b[38;5;28;43;01mTrue\u001b[39;49;00m\u001b[43m)\u001b[49m\n\u001b[1;32m      5\u001b[0m bos_uT \u001b[38;5;241m=\u001b[39m bos_uT\u001b[38;5;241m.\u001b[39mreshape(\u001b[38;5;241m-\u001b[39m\u001b[38;5;241m1\u001b[39m)\n\u001b[1;32m      6\u001b[0m \u001b[38;5;28;01mif\u001b[39;00m numpy\u001b[38;5;241m.\u001b[39mlinalg\u001b[38;5;241m.\u001b[39mnorm(bos_uT\u001b[38;5;241m.\u001b[39mimag,\u001b[38;5;28mord\u001b[39m\u001b[38;5;241m=\u001b[39m\u001b[38;5;241m2\u001b[39m) \u001b[38;5;241m<\u001b[39m \u001b[38;5;241m1e-12\u001b[39m:\n",
      "File \u001b[0;32m~/VirtualMachine/Ubuntu 24.04.1 LTS/qla_lib/src/lchs_bos.py:437\u001b[0m, in \u001b[0;36mbos_pro_long_lchs_tihs\u001b[0;34m(Acoef_list, num_qubits_per_qumode, u0, tT, beta, epsilon, trunc_multiplier, trotterLH, qiskit_api, verbose, debug)\u001b[0m\n\u001b[1;32m    434\u001b[0m L_coefs,H_coefs \u001b[38;5;241m=\u001b[39m bos_cart_decomp(Acoef_list)\n\u001b[1;32m    435\u001b[0m coeffs, thetas \u001b[38;5;241m=\u001b[39m lchs_coeffs_unitaries(Acoef_list, num_qubits_per_qumode, u0, tT, beta, epsilon, \n\u001b[1;32m    436\u001b[0m                 trunc_multiplier\u001b[38;5;241m=\u001b[39mtrunc_multiplier, trotterLH\u001b[38;5;241m=\u001b[39mtrotterLH, verbose\u001b[38;5;241m=\u001b[39mverbose, debug\u001b[38;5;241m=\u001b[39mdebug)\n\u001b[0;32m--> 437\u001b[0m lcu_circ_array, lcu_circ_norms \u001b[38;5;241m=\u001b[39m \u001b[43mbos_prolong_lcu\u001b[49m\u001b[43m(\u001b[49m\u001b[43mcoeffs\u001b[49m\u001b[43m,\u001b[49m\u001b[43m \u001b[49m\u001b[43mthetas\u001b[49m\u001b[43m,\u001b[49m\u001b[43m \u001b[49m\u001b[43mnum_qubits_per_qumode\u001b[49m\u001b[43m,\u001b[49m\u001b[43m \u001b[49m\u001b[43minitial_state_circ\u001b[49m\u001b[38;5;241;43m=\u001b[39;49m\u001b[38;5;28;43;01mNone\u001b[39;49;00m\u001b[43m,\u001b[49m\u001b[43m \u001b[49m\u001b[43mverbose\u001b[49m\u001b[38;5;241;43m=\u001b[39;49m\u001b[43mverbose\u001b[49m\u001b[43m,\u001b[49m\u001b[43m \u001b[49m\u001b[43mqiskit_api\u001b[49m\u001b[38;5;241;43m=\u001b[39;49m\u001b[43mqiskit_api\u001b[49m\u001b[43m,\u001b[49m\u001b[43m \u001b[49m\u001b[43mdebug\u001b[49m\u001b[38;5;241;43m=\u001b[39;49m\u001b[43mdebug\u001b[49m\u001b[43m)\u001b[49m\n\u001b[1;32m    438\u001b[0m \u001b[38;5;66;03m# return order is real nonnega, real neg, imag nonnega, imag neg\u001b[39;00m\n\u001b[1;32m    439\u001b[0m \u001b[38;5;28;01mif\u001b[39;00m trotterLH:\n",
      "File \u001b[0;32m~/VirtualMachine/Ubuntu 24.04.1 LTS/qla_lib/src/lchs_bos.py:315\u001b[0m, in \u001b[0;36mbos_prolong_lcu\u001b[0;34m(coeff_array, theta_array, num_qubits_per_qumode, initial_state_circ, verbose, qiskit_api, debug)\u001b[0m\n\u001b[1;32m    313\u001b[0m imag_neg_prep_circ \u001b[38;5;241m=\u001b[39m prep_oracle(imag_neg, qiskit_api\u001b[38;5;241m=\u001b[39mqiskit_api)\n\u001b[1;32m    314\u001b[0m \u001b[38;5;66;03m## select circuit for real and imag parts\u001b[39;00m\n\u001b[0;32m--> 315\u001b[0m select_circ \u001b[38;5;241m=\u001b[39m \u001b[43mbos_prolong_select_oracle\u001b[49m\u001b[43m(\u001b[49m\u001b[43mtheta_array\u001b[49m\u001b[43m,\u001b[49m\u001b[43m \u001b[49m\u001b[43mnum_qubits_per_qumode\u001b[49m\u001b[43m,\u001b[49m\u001b[43m \u001b[49m\u001b[43mdebug\u001b[49m\u001b[38;5;241;43m=\u001b[39;49m\u001b[43mdebug\u001b[49m\u001b[43m)\u001b[49m\n\u001b[1;32m    317\u001b[0m \u001b[38;5;66;03m## prolonged LCU circuit\u001b[39;00m\n\u001b[1;32m    318\u001b[0m \u001b[38;5;66;03m## use 1 extra ancilla qubit to take the result of multiple-control, \u001b[39;00m\n\u001b[1;32m    319\u001b[0m \u001b[38;5;66;03m## sanwitch the single-control bosonic gate with multiple-control qubit gate\u001b[39;00m\n\u001b[1;32m    320\u001b[0m qbr \u001b[38;5;241m=\u001b[39m qiskit\u001b[38;5;241m.\u001b[39mQuantumRegister(num_qubits_control)\n",
      "File \u001b[0;32m~/VirtualMachine/Ubuntu 24.04.1 LTS/qla_lib/src/lchs_bos.py:289\u001b[0m, in \u001b[0;36mbos_prolong_select_oracle\u001b[0;34m(theta_array, num_qubits_per_qumode, debug)\u001b[0m\n\u001b[1;32m    287\u001b[0m         \u001b[38;5;28;01mraise\u001b[39;00m\n\u001b[1;32m    288\u001b[0m     \u001b[38;5;66;03m## reset to undo the computation\u001b[39;00m\n\u001b[0;32m--> 289\u001b[0m     \u001b[43mselect_circ\u001b[49m\u001b[38;5;241;43m.\u001b[39;49m\u001b[43mReset\u001b[49m(qbr_ancilla[\u001b[38;5;241m0\u001b[39m])\n\u001b[1;32m    290\u001b[0m \u001b[38;5;66;03m##\u001b[39;00m\n\u001b[1;32m    291\u001b[0m select_circ\u001b[38;5;241m.\u001b[39mname \u001b[38;5;241m=\u001b[39m \u001b[38;5;124m'\u001b[39m\u001b[38;5;124mSELECT\u001b[39m\u001b[38;5;124m'\u001b[39m\n",
      "\u001b[0;31mAttributeError\u001b[0m: 'CVCircuit' object has no attribute 'Reset'"
     ]
    }
   ],
   "source": [
    "print(\"\\n\\nTests with Qumode Subroutine (Bosonic Qiskit)\")\n",
    "bos_uT, bos_uT_array, lchs_circ_bosho_array, lchs_op_bosho, bos_coeffs, bos_thetas = bos_pro_long_lchs_tihs([a,b], nq, u0, T, beta, epsilon, \n",
    "                                            trunc_multiplier=trunc_multiplier, trotterLH=True,\n",
    "                                            qiskit_api=True, verbose=1, debug=True)\n",
    "bos_uT = bos_uT.reshape(-1)\n",
    "if numpy.linalg.norm(bos_uT.imag,ord=2) < 1e-12:\n",
    "    bos_uT = bos_uT.real\n",
    "bos_uT_err = numpy.linalg.norm(bos_uT - spi_uT_ho,ord=2)\n",
    "bos_uTnormed_err = numpy.linalg.norm(bos_uT/numpy.linalg.norm(bos_uT,ord=2) - spi_uT_ho_norm,ord=2)\n",
    "print(\"  Homogeneous u(T)=\", bos_uT, \"  Norm=\", numpy.linalg.norm(bos_uT,ord=2))\n",
    "print(\"  SciPy Sol   u(T)=\", spi_uT_ho, \"  Norm=\", numpy.linalg.norm(spi_uT_ho,ord=2))\n",
    "print(\"  Homogeneous solution error u(T)        :\", bos_uT_err, \"   Relative error:\", bos_uT_err/numpy.linalg.norm(spi_uT_ho,ord=2))\n",
    "print(\"  Homogeneous solution error u(T),normed  :\", bos_uTnormed_err, \"   Relative error:\", bos_uTnormed_err/numpy.linalg.norm(spi_uT_ho,ord=2))"
   ]
  },
  {
   "cell_type": "code",
   "execution_count": null,
   "metadata": {},
   "outputs": [],
   "source": [
    "temp_uT = (bos_uT_array[0] - bos_uT_array[1]) + 1j*(bos_uT_array[2] - bos_uT_array[3])\n",
    "\n",
    "print(numpy.linalg.norm(temp_uT - spi_uT_ho,ord=2))"
   ]
  },
  {
   "cell_type": "code",
   "execution_count": null,
   "metadata": {},
   "outputs": [],
   "source": [
    "bos_coeffs"
   ]
  },
  {
   "cell_type": "code",
   "execution_count": null,
   "metadata": {},
   "outputs": [],
   "source": [
    "bos_thetas"
   ]
  },
  {
   "cell_type": "code",
   "execution_count": null,
   "metadata": {},
   "outputs": [],
   "source": [
    "lchs_circ_bosho_array[0].decompose().draw()"
   ]
  },
  {
   "cell_type": "code",
   "execution_count": null,
   "metadata": {},
   "outputs": [],
   "source": []
  }
 ],
 "metadata": {
  "kernelspec": {
   "display_name": "qbos",
   "language": "python",
   "name": "python3"
  },
  "language_info": {
   "codemirror_mode": {
    "name": "ipython",
    "version": 3
   },
   "file_extension": ".py",
   "mimetype": "text/x-python",
   "name": "python",
   "nbconvert_exporter": "python",
   "pygments_lexer": "ipython3",
   "version": "3.12.8"
  }
 },
 "nbformat": 4,
 "nbformat_minor": 2
}
