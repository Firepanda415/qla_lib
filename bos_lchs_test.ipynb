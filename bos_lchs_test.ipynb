{
 "cells": [
  {
   "cell_type": "code",
   "execution_count": 1,
   "metadata": {},
   "outputs": [],
   "source": [
    "import numpy as np\n",
    "import qiskit.quantum_info\n",
    "import scipy\n",
    "import qiskit\n",
    "import c2qa\n",
    "import sys\n",
    "from c2qa.operators import CVOperators\n",
    "sys.path.append('./src')\n",
    "\n",
    "import importlib\n",
    "import lchs_bos\n",
    "import lchs\n",
    "importlib.reload(lchs_bos)\n",
    "importlib.reload(lchs)\n",
    "from lchs_bos import *\n",
    "from lchs import *\n",
    "np.set_printoptions(suppress=True)"
   ]
  },
  {
   "cell_type": "code",
   "execution_count": 2,
   "metadata": {},
   "outputs": [
    {
     "name": "stdout",
     "output_type": "stream",
     "text": [
      "Norm of A: 0.3, Norm of L: 0.3, Norm of H: 0.0\n",
      "[[0.12222154+0.j]\n",
      " [0.5912622 +0.j]\n",
      " [0.22553724+0.j]\n",
      " [0.76459392+0.j]]\n"
     ]
    }
   ],
   "source": [
    "nq = 2 ### Problem Dimension\n",
    "a,b = 0.1, 0 ## Define A\n",
    "T = 0.1  ## Define the time interval [0,T]\n",
    "beta = 0.9 # 0< beta < 1\n",
    "epsilon = 0.001 #0.05  epsilon for LCHS parameters, epislon is the error tolerance\n",
    "debug = False\n",
    "trunc_multiplier = 3\n",
    "## automatic computation\n",
    "cv_ops = CVOperators()\n",
    "dim = 2**nq\n",
    "rng = numpy.random.Generator(numpy.random.PCG64(79489489))\n",
    "## Random numpy\n",
    "nhat = cv_ops.get_N(2**nq).todense()\n",
    "# nhat = qiskit_normal_order_switch(nhat)\n",
    "A = a*nhat + 1j*b*nhat\n",
    "L,H = cart_decomp(A)\n",
    "print(f\"Norm of A: {numpy.linalg.norm(A, ord=2)}, Norm of L: {numpy.linalg.norm(L, ord=2)}, Norm of H: {numpy.linalg.norm(H, ord=2)}\")\n",
    "## Random initial state\n",
    "# u0 = numpy.matrix( numpy.array([0]*dim,dtype=complex) ).reshape(-1,1)\n",
    "# u0[2,0] = 1\n",
    "u0 = numpy.matrix( rng.random((dim,1)) ,dtype=complex) ## dtype complex is necessary for scipy to compute complex integral\n",
    "u0 = u0/numpy.linalg.norm(u0, ord=2)\n",
    "print(u0)"
   ]
  },
  {
   "cell_type": "markdown",
   "metadata": {},
   "source": [
    "## Scipy Solution"
   ]
  },
  {
   "cell_type": "code",
   "execution_count": 3,
   "metadata": {},
   "outputs": [
    {
     "data": {
      "text/plain": [
       "(0.9782834101777667,\n",
       " array([0.12222154, 0.58537904, 0.2210713 , 0.74199676]),\n",
       " array([0.1249347 , 0.59837368, 0.22597879, 0.7584681 ]))"
      ]
     },
     "execution_count": 3,
     "metadata": {},
     "output_type": "execute_result"
    }
   ],
   "source": [
    "def ode_func_ho(t,u):\n",
    "    return numpy.array(-A.dot(u).reshape(-1))[0]\n",
    "spi_sol_ho = scipy.integrate.solve_ivp(ode_func_ho, [0,T],numpy.array(u0.reshape(-1))[0], method='RK45')\n",
    "if numpy.linalg.norm(spi_sol_ho.y[:,-1].imag,ord=2) < 1e-12:\n",
    "    spi_uT_ho = spi_sol_ho.y[:,-1].real\n",
    "else:\n",
    "    spi_uT_ho = spi_sol_ho.y[:,-1]\n",
    "spi_uT_ho_norm = spi_uT_ho/numpy.linalg.norm(spi_uT_ho,ord=2)\n",
    "numpy.linalg.norm(spi_uT_ho,ord=2), spi_uT_ho, spi_uT_ho_norm"
   ]
  },
  {
   "cell_type": "markdown",
   "metadata": {},
   "source": [
    "## LCHS Classical"
   ]
  },
  {
   "cell_type": "code",
   "execution_count": 4,
   "metadata": {},
   "outputs": [
    {
     "name": "stdout",
     "output_type": "stream",
     "text": [
      "  Preset parameters T =  0.1 beta =  0.9 epsilon =  0.001\n",
      "  Truncation range [-K,K] K = 36.78794411714423\n",
      "  Step size h1 = 12.262648039048075\n",
      "  Number of nodes in [mh_1, (m+1)h_1] Q = 9\n",
      "  Total number of nodes M = 54\n",
      "  Truncation error bound = 2.458009236028988\n",
      "  Quadrature error bound = 0.0003849254439855928\n",
      "  Total error bound = 2.4583941614729734\n",
      "  ||c||_1 = 2.00707157560424\n",
      "  Homogeneous u(T)= [0.12202213 0.58445011 0.22075455 0.74111291]   Norm= 0.9769607208712742\n",
      "  SciPy Sol   u(T)= [0.12222154 0.58537904 0.2210713  0.74199676]   Norm= 0.9782834101777667\n",
      "\n",
      "\n",
      "  Homogeneous solution error u(T)         : 0.0013357349305655227    Relative error: 0.001365386468449672\n",
      "  Homogeneous solution error u(T),normed  : 0.00019049065615785301    Relative error: 0.00019471929522267827\n",
      "  Homogeneous solution error u(T)(trotter): 0.0013357349305655227    Relative error: 0.001365386468449672\n",
      "  Homogeneous solution error u(T),normed  : 0.00019049065615785301    Relative error: 0.00019471929522267827\n"
     ]
    }
   ],
   "source": [
    "## Solve homogenous part\n",
    "exp_op, uT = class_lchs_tihs(A, u0, T, beta, epsilon, trunc_multiplier=trunc_multiplier, trotterLH=False, verbose=1)\n",
    "uT = numpy.array(uT).reshape(-1)\n",
    "if numpy.linalg.norm(uT.imag,ord=2) < 1e-12:\n",
    "    uT = uT.real\n",
    "uT_err = numpy.linalg.norm(uT - spi_uT_ho,ord=2)\n",
    "uTnormed_err = numpy.linalg.norm(uT/numpy.linalg.norm(uT,ord=2) - spi_uT_ho_norm,ord=2)\n",
    "print(\"  Homogeneous u(T)=\", uT, \"  Norm=\", numpy.linalg.norm(uT,ord=2))\n",
    "print(\"  SciPy Sol   u(T)=\", spi_uT_ho, \"  Norm=\", numpy.linalg.norm(spi_uT_ho,ord=2))\n",
    "print(\"\\n\")\n",
    "print(\"  Homogeneous solution error u(T)         :\", uT_err, \"   Relative error:\", uT_err/numpy.linalg.norm(spi_uT_ho,ord=2))\n",
    "print(\"  Homogeneous solution error u(T),normed  :\", uTnormed_err, \"   Relative error:\", uTnormed_err/numpy.linalg.norm(spi_uT_ho,ord=2))\n",
    "\n",
    "\n",
    "# print(\"\\n\\nTests with Classical Subroutine (Homogeneous, w/ trotter)\")\n",
    "## Solve homogenous part\n",
    "exp_op2, uT2 = class_lchs_tihs(A, u0, T, beta, epsilon, trunc_multiplier=trunc_multiplier, trotterLH=True,verbose=0)\n",
    "uT2 = numpy.array(uT2).reshape(-1)\n",
    "if numpy.linalg.norm(uT2.imag,ord=2) < 1e-12:\n",
    "    uT2 = uT2.real\n",
    "uT_err2 = numpy.linalg.norm(uT2 - spi_uT_ho,ord=2)\n",
    "uTnormed_err2 = numpy.linalg.norm(uT2/numpy.linalg.norm(uT2,ord=2) - spi_uT_ho_norm,ord=2)\n",
    "print(\"  Homogeneous solution error u(T)(trotter):\", uT_err2, \"   Relative error:\", uT_err2/numpy.linalg.norm(spi_uT_ho,ord=2))\n",
    "print(\"  Homogeneous solution error u(T),normed  :\", uTnormed_err2, \"   Relative error:\", uTnormed_err2/numpy.linalg.norm(spi_uT_ho,ord=2))"
   ]
  },
  {
   "cell_type": "markdown",
   "metadata": {},
   "source": [
    "##  Qubit"
   ]
  },
  {
   "cell_type": "code",
   "execution_count": 5,
   "metadata": {},
   "outputs": [
    {
     "name": "stdout",
     "output_type": "stream",
     "text": [
      "\n",
      "\n",
      "Tests with Quantum Subroutine (Qiskit API)\n",
      "  Preset parameters T =  0.1 beta =  0.9 epsilon =  0.001\n",
      "  Truncation range [-K,K] K = 36.78794411714423\n",
      "  Step size h1 = 12.262648039048075\n",
      "  Number of nodes in [mh_1, (m+1)h_1] Q = 9\n",
      "  Total number of nodes M = 54\n",
      "  Truncation error bound = 2.458009236028988\n",
      "  Quadrature error bound = 0.0003849254439855928\n",
      "  Total error bound = 2.4583941614729734\n",
      "  ||c||_1 = 2.00707157560424\n",
      "  LCU-Oracle: num_qubits_control= 6 num_qubits_op= 2\n"
     ]
    },
    {
     "name": "stderr",
     "output_type": "stream",
     "text": [
      "/Users/zhen002/miniconda3/envs/qbos/lib/python3.12/site-packages/numpy/linalg/linalg.py:2180: RuntimeWarning: divide by zero encountered in det\n",
      "  r = _umath_linalg.det(a, signature=signature)\n",
      "/Users/zhen002/miniconda3/envs/qbos/lib/python3.12/site-packages/numpy/linalg/linalg.py:2180: RuntimeWarning: invalid value encountered in det\n",
      "  r = _umath_linalg.det(a, signature=signature)\n",
      "/Users/zhen002/VirtualMachine/Ubuntu 24.04.1 LTS/qla_lib/src/oracle_synth.py:38: RuntimeWarning: invalid value encountered in scalar divide\n",
      "  tmp2 = matrix_su[1,0]/numpy.sin(theta/2)\n"
     ]
    },
    {
     "name": "stdout",
     "output_type": "stream",
     "text": [
      "  Number of Qubits: 8\n",
      "  Transpiled LCU Circ Stats (Opt 0): OrderedDict({'cx': 13830, 'u': 10922})\n",
      "    Circuit Depth (Opt 0): 22612\n",
      "  Transpiled LCU Circ Stats (Opt 2): OrderedDict({'cx': 11022, 'u': 10623})\n",
      "    Circuit Depth (Opt 2): 19846\n",
      "  - Homogeneous   u(T)= [0.12202213 0.58445011 0.22075455 0.74111291]   Norm= 0.9769607208713578\n",
      "  - SciPy Sol     u(T)= [0.12222154 0.58537904 0.2210713  0.74199676]   Norm= 0.9782834101777667\n",
      "  - Classical Sol u(T)= [0.12202213 0.58445011 0.22075455 0.74111291]   Norm= 0.9769607208712742\n",
      "  Compare to SciPy solution\n",
      "  - Homogeneous solution error u(T)         : 0.0013357349304826377    Relative error: 0.001365386468364947\n",
      "  - Homogeneous solution error u(T),normed  : 0.00019049065615726798    Relative error: 0.00019471929522208025\n",
      "  Compare to LCHS Classical solution\n",
      "  - Homogeneous solution error u(T)         : 8.36307550236137e-14    Relative error: 8.560298611496892e-14\n",
      "  - Homogeneous solution error u(T),normed  : 1.7271574597764355e-15    Relative error: 1.767888332538201e-15\n"
     ]
    }
   ],
   "source": [
    "print(\"\\n\\nTests with Quantum Subroutine (Qiskit API)\")\n",
    "quant_uT, lchs_circ_ho, quant_full_sv_ho, quant_coeffs, quant_unitaries, quant_coeffs_unrot, quant_unitaries_unrot = quant_lchs_tihs(A, u0, T, beta, epsilon, \n",
    "                                            trunc_multiplier=trunc_multiplier, trotterLH=True, no_state_prep=False,\n",
    "                                            qiskit_api=True, verbose=1, debug=False, rich_return=True)\n",
    "quant_uT = numpy.array(quant_uT).reshape(-1)\n",
    "if numpy.linalg.norm(quant_uT.imag,ord=2) < 1e-12:\n",
    "    quant_uT = quant_uT.real\n",
    "\n",
    "quant_uT_err = numpy.linalg.norm(quant_uT - spi_uT_ho,ord=2)\n",
    "quant_uTnormed_err = numpy.linalg.norm(quant_uT/numpy.linalg.norm(quant_uT,ord=2) - spi_uT_ho_norm,ord=2)\n",
    "quantclass_uT_err = numpy.linalg.norm(quant_uT - uT,ord=2)  \n",
    "quantclass_uTnormed_err = numpy.linalg.norm(quant_uT/numpy.linalg.norm(quant_uT,ord=2) - uT/numpy.linalg.norm(uT,ord=2),ord=2)\n",
    "print(\"  - Homogeneous   u(T)=\", quant_uT, \"  Norm=\", numpy.linalg.norm(quant_uT,ord=2))\n",
    "print(\"  - SciPy Sol     u(T)=\", spi_uT_ho, \"  Norm=\", numpy.linalg.norm(spi_uT_ho,ord=2))\n",
    "print(\"  - Classical Sol u(T)=\", uT, \"  Norm=\", numpy.linalg.norm(uT,ord=2))\n",
    "print(\"  Compare to SciPy solution\")\n",
    "print(\"  - Homogeneous solution error u(T)         :\", quant_uT_err, \"   Relative error:\", quant_uT_err/numpy.linalg.norm(spi_uT_ho,ord=2))\n",
    "print(\"  - Homogeneous solution error u(T),normed  :\", quant_uTnormed_err, \"   Relative error:\", quant_uTnormed_err/numpy.linalg.norm(spi_uT_ho,ord=2))\n",
    "print(\"  Compare to LCHS Classical solution\")\n",
    "print(\"  - Homogeneous solution error u(T)         :\", quantclass_uT_err, \"   Relative error:\", quantclass_uT_err/numpy.linalg.norm(uT,ord=2))\n",
    "print(\"  - Homogeneous solution error u(T),normed  :\", quantclass_uTnormed_err, \"   Relative error:\", quantclass_uTnormed_err/numpy.linalg.norm(uT,ord=2))\n"
   ]
  },
  {
   "cell_type": "code",
   "execution_count": null,
   "metadata": {},
   "outputs": [],
   "source": []
  },
  {
   "cell_type": "markdown",
   "metadata": {},
   "source": [
    "## Qubit control Qumodes"
   ]
  },
  {
   "cell_type": "code",
   "execution_count": null,
   "metadata": {},
   "outputs": [],
   "source": [
    "print(\"\\n\\nTests with Qumode Subroutine (Bosonic Qiskit)\")\n",
    "bos_uT, bos_uT_array, lchs_circ_bosho_array, lchs_op_bosho, bos_coeffs, bos_thetas = bos_pro_long_lchs_tihs([a,b], nq, u0, T, beta, epsilon, \n",
    "                                            trunc_multiplier=trunc_multiplier, trotterLH=True\n",
    "                                            qiskit_api=True, verbose=1, debug=True)\n",
    "bos_uT = bos_uT.reshape(-1)\n",
    "if numpy.linalg.norm(bos_uT.imag,ord=2) < 1e-12:\n",
    "    bos_uT = bos_uT.real\n",
    "bos_uT_err = numpy.linalg.norm(bos_uT - spi_uT_ho,ord=2)\n",
    "bos_uTnormed_err = numpy.linalg.norm(bos_uT/numpy.linalg.norm(bos_uT,ord=2) - spi_uT_ho_norm,ord=2)\n",
    "print(\"  Homogeneous u(T)=\", bos_uT, \"  Norm=\", numpy.linalg.norm(bos_uT,ord=2))\n",
    "print(\"  SciPy Sol   u(T)=\", spi_uT_ho, \"  Norm=\", numpy.linalg.norm(spi_uT_ho,ord=2))\n",
    "print(\"  Homogeneous solution error u(T)        :\", bos_uT_err, \"   Relative error:\", bos_uT_err/numpy.linalg.norm(spi_uT_ho,ord=2))\n",
    "print(\"  Homogeneous solution error u(T),normed  :\", bos_uTnormed_err, \"   Relative error:\", bos_uTnormed_err/numpy.linalg.norm(spi_uT_ho,ord=2))"
   ]
  },
  {
   "cell_type": "code",
   "execution_count": null,
   "metadata": {},
   "outputs": [],
   "source": [
    "temp_uT = (bos_uT_array[0] - bos_uT_array[1]) + 1j*(bos_uT_array[2] - bos_uT_array[3])\n",
    "\n",
    "print(numpy.linalg.norm(temp_uT - spi_uT_ho,ord=2))"
   ]
  },
  {
   "cell_type": "code",
   "execution_count": null,
   "metadata": {},
   "outputs": [],
   "source": [
    "bos_coeffs"
   ]
  },
  {
   "cell_type": "code",
   "execution_count": null,
   "metadata": {},
   "outputs": [],
   "source": [
    "bos_thetas"
   ]
  },
  {
   "cell_type": "code",
   "execution_count": null,
   "metadata": {},
   "outputs": [],
   "source": [
    "lchs_circ_bosho_array[0].decompose().draw()"
   ]
  },
  {
   "cell_type": "code",
   "execution_count": null,
   "metadata": {},
   "outputs": [],
   "source": [
    "import qiskit\n",
    "\n",
    "ts = numpy.array([0.12222154+0.j, 0.5912622 +0.j, 0.22553724+0.j, 0.76459392+0.j])\n",
    "ts = ts/numpy.linalg.norm(ts, ord=2)\n",
    "circ = qiskit.QuantumCircuit(2)\n",
    "circ.initialize(ts)\n",
    "qiskit.quantum_info.Statevector(circ).data"
   ]
  },
  {
   "cell_type": "code",
   "execution_count": null,
   "metadata": {},
   "outputs": [],
   "source": [
    "ts[0]"
   ]
  },
  {
   "cell_type": "code",
   "execution_count": null,
   "metadata": {},
   "outputs": [],
   "source": []
  }
 ],
 "metadata": {
  "kernelspec": {
   "display_name": "qbos",
   "language": "python",
   "name": "python3"
  },
  "language_info": {
   "codemirror_mode": {
    "name": "ipython",
    "version": 3
   },
   "file_extension": ".py",
   "mimetype": "text/x-python",
   "name": "python",
   "nbconvert_exporter": "python",
   "pygments_lexer": "ipython3",
   "version": "3.12.8"
  }
 },
 "nbformat": 4,
 "nbformat_minor": 2
}
