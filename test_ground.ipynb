{
 "cells": [
  {
   "cell_type": "code",
   "execution_count": 1,
   "metadata": {},
   "outputs": [],
   "source": [
    "import numpy as np\n",
    "from numpy import pi\n",
    "import numpy\n",
    "import scipy\n",
    "import qiskit\n",
    "from scipy.stats import unitary_group\n",
    "from qiskit import transpile\n",
    "import scipy.linalg as sl\n",
    "import numpy.linalg as nl\n",
    "from scipy.linalg import cossin\n",
    "from qiskit.quantum_info import Operator, Statevector\n",
    "from qiskit import QuantumCircuit\n",
    "from qiskit.circuit.library import UGate,UCPauliRotGate\n",
    "from qiskit import QuantumCircuit, transpile\n",
    "from qiskit.quantum_info import Operator\n",
    "import sys\n",
    "sys.path.append('./src')\n",
    "##\n",
    "import utils_synth\n",
    "import oracle_synth\n",
    "import lcu\n",
    "import lchs\n",
    "import _quick_test\n",
    "import importlib\n",
    "importlib.reload(lcu)\n",
    "importlib.reload(lchs)\n",
    "importlib.reload(utils_synth)\n",
    "importlib.reload(oracle_synth)\n",
    "importlib.reload(_quick_test)\n",
    "##\n",
    "from utils_synth import *\n",
    "from oracle_synth import *\n",
    "from lchs import *\n",
    "from src.lcu import *\n",
    "from _quick_test import *\n",
    "\n",
    "rng = numpy.random.default_rng(4290962056973923694427)\n",
    "np.set_printoptions(precision=8, suppress=True)\n",
    "\n",
    "XX = numpy.kron(X(), X())\n",
    "YY = numpy.kron(Y(), Y())\n",
    "ZZ = numpy.kron(Z(), Z())"
   ]
  },
  {
   "cell_type": "code",
   "execution_count": 2,
   "metadata": {},
   "outputs": [
    {
     "data": {
      "text/plain": [
       "OrderedDict([('u', 69), ('cx', 44)])"
      ]
     },
     "execution_count": 2,
     "metadata": {},
     "output_type": "execute_result"
    }
   ],
   "source": [
    "num_qubits = 5\n",
    "num_controls = num_qubits-1\n",
    "anc_list = list(range(num_controls, num_qubits-1))\n",
    "angle = rng.random(1)[0]*2*numpy.pi\n",
    "\n",
    "my_circ = qiskit.QuantumCircuit(num_qubits)\n",
    "mc_p(my_circ, angle, list(range(num_controls)), num_qubits-1)\n",
    "mc_op = Operator(my_circ)\n",
    "my_circ = transpile(my_circ, basis_gates=['cx','u'], optimization_level=0)\n",
    "\n",
    "my_circ.count_ops() "
   ]
  },
  {
   "cell_type": "code",
   "execution_count": 3,
   "metadata": {},
   "outputs": [
    {
     "data": {
      "text/plain": [
       "OrderedDict([('u', 45), ('cx', 44)])"
      ]
     },
     "execution_count": 3,
     "metadata": {},
     "output_type": "execute_result"
    }
   ],
   "source": [
    "# my_circ2 = qiskit.QuantumCircuit(num_qubits)\n",
    "# mc_p(my_circ2, numpy.pi, list(range(num_controls)), num_qubits-1)\n",
    "# mp_op = Operator(my_circ2)\n",
    "# my_circ2 = transpile(my_circ2, basis_gates=['cx','u'], optimization_level=0)\n",
    "\n",
    "# my_circ2.count_ops() \n",
    "\n",
    "from qiskit.circuit.library import MCPhaseGate, MCU1Gate\n",
    "\n",
    "qis_p = MCPhaseGate(angle, num_controls).definition\n",
    "qis_op = Operator(qis_p)\n",
    "transpile(qis_p, basis_gates=['cx','u'], optimization_level=0).count_ops()"
   ]
  },
  {
   "cell_type": "code",
   "execution_count": 4,
   "metadata": {},
   "outputs": [
    {
     "data": {
      "text/plain": [
       "1.9588917658147393e-14"
      ]
     },
     "execution_count": 4,
     "metadata": {},
     "output_type": "execute_result"
    }
   ],
   "source": [
    "nl.norm(mc_op.data - qis_op.data)"
   ]
  },
  {
   "cell_type": "code",
   "execution_count": null,
   "metadata": {},
   "outputs": [],
   "source": []
  }
 ],
 "metadata": {
  "kernelspec": {
   "display_name": "qnew",
   "language": "python",
   "name": "python3"
  },
  "language_info": {
   "codemirror_mode": {
    "name": "ipython",
    "version": 3
   },
   "file_extension": ".py",
   "mimetype": "text/x-python",
   "name": "python",
   "nbconvert_exporter": "python",
   "pygments_lexer": "ipython3",
   "version": "3.12.4"
  }
 },
 "nbformat": 4,
 "nbformat_minor": 2
}
