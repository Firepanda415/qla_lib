{
 "cells": [
  {
   "cell_type": "code",
   "execution_count": 43,
   "metadata": {},
   "outputs": [],
   "source": [
    "import numpy as np\n",
    "from numpy import pi\n",
    "import numpy\n",
    "import scipy\n",
    "import qiskit\n",
    "from scipy.stats import unitary_group\n",
    "from qiskit import transpile\n",
    "import scipy.linalg as sl\n",
    "import numpy.linalg as nl\n",
    "from scipy.linalg import cossin\n",
    "from qiskit.quantum_info import Operator, Statevector\n",
    "from qiskit import QuantumCircuit\n",
    "from qiskit.circuit.library import UGate,UCPauliRotGate\n",
    "from qiskit import QuantumCircuit, transpile\n",
    "from qiskit.quantum_info import Operator\n",
    "import sys\n",
    "sys.path.append('./src')\n",
    "##\n",
    "import utils_synth\n",
    "import oracle_synth\n",
    "import lcu\n",
    "import lchs\n",
    "import _quick_test\n",
    "import importlib\n",
    "importlib.reload(lcu)\n",
    "importlib.reload(lchs)\n",
    "importlib.reload(utils_synth)\n",
    "importlib.reload(oracle_synth)\n",
    "importlib.reload(_quick_test)\n",
    "##\n",
    "from utils_synth import *\n",
    "from oracle_synth import *\n",
    "from lchs import *\n",
    "from src.lcu import *\n",
    "from _quick_test import *\n",
    "\n",
    "rng = numpy.random.default_rng(4290962056973923694427)\n",
    "np.set_printoptions(precision=8, suppress=True)\n",
    "\n",
    "XX = numpy.kron(X(), X())\n",
    "YY = numpy.kron(Y(), Y())\n",
    "ZZ = numpy.kron(Z(), Z())"
   ]
  },
  {
   "cell_type": "code",
   "execution_count": 53,
   "metadata": {},
   "outputs": [
    {
     "name": "stdout",
     "output_type": "stream",
     "text": [
      "  Ham. Sim. Error Upper Bound= 0.0001666666666666667\n"
     ]
    },
    {
     "data": {
      "text/plain": [
       "0.14124482249637726"
      ]
     },
     "execution_count": 53,
     "metadata": {},
     "output_type": "execute_result"
    }
   ],
   "source": [
    "lam = 0.5\n",
    "gamma = 0.1\n",
    "n = 2\n",
    "time_tau = 1\n",
    "ham = hams_fullmat(gamma, lam, n)\n",
    "\n",
    "scipy_sol = scipy.linalg.expm(-1j * time_tau * ham)\n",
    "my_sol_circ = expmiht_approx(n, time_tau, gamma, lam, order=2, verbose=1)\n",
    "my_sol = Operator(my_sol_circ).data\n",
    "\n",
    "error = np.linalg.norm( scipy_sol - Operator(my_sol).data )\n",
    "error"
   ]
  },
  {
   "cell_type": "code",
   "execution_count": 54,
   "metadata": {},
   "outputs": [
    {
     "data": {
      "text/plain": [
       "array([[ 0.99500417+0.j        ,  0.04786269-0.08761207j,\n",
       "         0.        +0.j        ,  0.        +0.j        ],\n",
       "       [-0.04786269-0.08761207j,  0.99500417-0.j        ,\n",
       "         0.        +0.j        ,  0.        +0.j        ],\n",
       "       [ 0.        +0.j        ,  0.        +0.j        ,\n",
       "         0.99500417+0.j        ,  0.04786269-0.08761207j],\n",
       "       [ 0.        +0.j        ,  0.        +0.j        ,\n",
       "        -0.04786269-0.08761207j,  0.99500417-0.j        ]])"
      ]
     },
     "execution_count": 54,
     "metadata": {},
     "output_type": "execute_result"
    }
   ],
   "source": [
    "my_sol"
   ]
  },
  {
   "cell_type": "code",
   "execution_count": 55,
   "metadata": {},
   "outputs": [
    {
     "data": {
      "text/plain": [
       "array([[ 0.99500833-0.j        ,  0.04778294-0.08746609j,\n",
       "        -0.00269476-0.00419685j, -0.000166  +0.00001177j],\n",
       "       [-0.04778294-0.08746609j,  0.99002082+0.j        ,\n",
       "         0.04770316-0.08732005j, -0.00269476-0.00419685j],\n",
       "       [-0.00269476+0.00419685j, -0.04770316-0.08732005j,\n",
       "         0.99002082+0.j        ,  0.04778294-0.08746609j],\n",
       "       [ 0.000166  +0.00001177j, -0.00269476+0.00419685j,\n",
       "        -0.04778294-0.08746609j,  0.99500833+0.j        ]])"
      ]
     },
     "execution_count": 55,
     "metadata": {},
     "output_type": "execute_result"
    }
   ],
   "source": [
    "scipy_sol"
   ]
  },
  {
   "cell_type": "code",
   "execution_count": 31,
   "metadata": {},
   "outputs": [
    {
     "data": {
      "text/plain": [
       "array([[1., 0., 0., 0., 0., 0., 0., 0.],\n",
       "       [0., 1., 0., 0., 0., 0., 0., 0.],\n",
       "       [0., 0., 1., 0., 0., 0., 0., 0.],\n",
       "       [0., 0., 0., 1., 0., 0., 0., 0.],\n",
       "       [0., 0., 0., 0., 1., 0., 0., 0.],\n",
       "       [0., 0., 0., 0., 0., 1., 0., 0.],\n",
       "       [0., 0., 0., 0., 0., 0., 1., 0.],\n",
       "       [0., 0., 0., 0., 0., 0., 0., 1.]])"
      ]
     },
     "execution_count": 31,
     "metadata": {},
     "output_type": "execute_result"
    }
   ],
   "source": [
    "\n",
    "def tensor_power(mat:numpy.ndarray, power:int):\n",
    "    if power == 0:\n",
    "        return numpy.eye(mat.shape[0])\n",
    "    if power == 1:\n",
    "        return mat\n",
    "    return numpy.kron(mat, tensor_power(mat, power-1))\n",
    "\n",
    "tensor_power(np.identity(2), 3)"
   ]
  },
  {
   "cell_type": "code",
   "execution_count": 28,
   "metadata": {},
   "outputs": [
    {
     "data": {
      "text/plain": [
       "array([[-0.        +0.j        ,  0.87758256+0.47942554j],\n",
       "       [ 0.87758256-0.47942554j,  0.        -0.j        ]])"
      ]
     },
     "execution_count": 28,
     "metadata": {},
     "output_type": "execute_result"
    }
   ],
   "source": [
    "P(-lam) @ H() @ Z() @ H() @ P(lam)"
   ]
  },
  {
   "cell_type": "code",
   "execution_count": null,
   "metadata": {},
   "outputs": [],
   "source": []
  }
 ],
 "metadata": {
  "kernelspec": {
   "display_name": "qnew",
   "language": "python",
   "name": "python3"
  },
  "language_info": {
   "codemirror_mode": {
    "name": "ipython",
    "version": 3
   },
   "file_extension": ".py",
   "mimetype": "text/x-python",
   "name": "python",
   "nbconvert_exporter": "python",
   "pygments_lexer": "ipython3",
   "version": "3.12.4"
  }
 },
 "nbformat": 4,
 "nbformat_minor": 2
}
