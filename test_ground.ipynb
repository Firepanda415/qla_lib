{
 "cells": [
  {
   "cell_type": "code",
   "execution_count": 12,
   "metadata": {},
   "outputs": [],
   "source": [
    "import numpy as np\n",
    "from numpy import pi\n",
    "import numpy\n",
    "import scipy\n",
    "import qiskit\n",
    "from scipy.stats import unitary_group\n",
    "from qiskit import transpile\n",
    "import scipy.linalg as sl\n",
    "import numpy.linalg as nl\n",
    "from scipy.linalg import cossin\n",
    "from qiskit.quantum_info import Operator, Statevector\n",
    "from qiskit import QuantumCircuit\n",
    "from qiskit.circuit.library import UGate,UCPauliRotGate\n",
    "from qiskit import QuantumCircuit, transpile\n",
    "from qiskit.quantum_info import Operator\n",
    "import sys\n",
    "sys.path.append('./src')\n",
    "##\n",
    "import utils_synth\n",
    "import oracle_synth\n",
    "import lcu\n",
    "import lchs\n",
    "import _quick_test\n",
    "import importlib\n",
    "importlib.reload(lcu)\n",
    "importlib.reload(lchs)\n",
    "importlib.reload(utils_synth)\n",
    "importlib.reload(oracle_synth)\n",
    "importlib.reload(_quick_test)\n",
    "##\n",
    "from utils_synth import *\n",
    "from oracle_synth import *\n",
    "from lchs import *\n",
    "from src.lcu import *\n",
    "from _quick_test import *\n",
    "\n",
    "rng = numpy.random.default_rng(4290962056973923694427)\n",
    "np.set_printoptions(precision=8, suppress=True)\n",
    "\n",
    "XX = numpy.kron(X(), X())\n",
    "YY = numpy.kron(Y(), Y())\n",
    "ZZ = numpy.kron(Z(), Z())"
   ]
  },
  {
   "cell_type": "code",
   "execution_count": 16,
   "metadata": {},
   "outputs": [
    {
     "data": {
      "text/plain": [
       "4.058511531260178e-16"
      ]
     },
     "execution_count": 16,
     "metadata": {},
     "output_type": "execute_result"
    }
   ],
   "source": [
    "def XXYYZZ_mat(c0,c1,c2):\n",
    "    return scipy.linalg.expm(1j*(c0*XX+c1*YY+c2*ZZ))\n",
    "\n",
    "def XXYYZZ_circ(c0,c1,c2):\n",
    "    prod = np.kron(I(), RZ(-pi/2))\n",
    "    prod = CNOTINV() @ prod\n",
    "    prod = np.kron(RZ(pi/2 - 2*c2), RY(2*c0 - pi/2)) @ prod\n",
    "    prod = CNOT() @ prod\n",
    "    prod = np.kron(I(), RY(pi/2 - 2*c1)) @ prod\n",
    "    prod = CNOTINV() @ prod\n",
    "    prod = np.kron(RZ(pi/2), I()) @ prod\n",
    "    return prod*numpy.exp(1j*pi/4)\n",
    "\n",
    "c0,c1,c2 = rng.uniform(-pi,pi,3)\n",
    "ans = XXYYZZ_mat(c0,c1,c2)\n",
    "circ_op = XXYYZZ_circ(c0,c1,c2)\n",
    "numpy.linalg.norm(ans - circ_op)"
   ]
  },
  {
   "cell_type": "code",
   "execution_count": 18,
   "metadata": {},
   "outputs": [
    {
     "data": {
      "text/plain": [
       "array([[0.70710678+0.70710678j, 1.41421356+1.41421356j],\n",
       "       [2.12132034-2.12132034j, 2.82842712-2.82842712j]])"
      ]
     },
     "execution_count": 18,
     "metadata": {},
     "output_type": "execute_result"
    }
   ],
   "source": [
    "RZ(-pi/2) @ np.array([[1,2],[3,4]])"
   ]
  },
  {
   "cell_type": "code",
   "execution_count": 24,
   "metadata": {},
   "outputs": [
    {
     "data": {
      "text/plain": [
       "array([[0.70710678-0.70710678j, 1.41421356+1.41421356j],\n",
       "       [2.12132034-2.12132034j, 2.82842712+2.82842712j]])"
      ]
     },
     "execution_count": 24,
     "metadata": {},
     "output_type": "execute_result"
    }
   ],
   "source": [
    "np.array([[1,2],[3,4]]) @ RZ(pi/2)"
   ]
  },
  {
   "cell_type": "code",
   "execution_count": 25,
   "metadata": {},
   "outputs": [
    {
     "data": {
      "text/plain": [
       "array([[0.70710678-0.70710678j, 0.        +0.j        ],\n",
       "       [0.        +0.j        , 0.70710678+0.70710678j]])"
      ]
     },
     "execution_count": 25,
     "metadata": {},
     "output_type": "execute_result"
    }
   ],
   "source": [
    "RZ(pi/2)"
   ]
  },
  {
   "cell_type": "code",
   "execution_count": 27,
   "metadata": {},
   "outputs": [
    {
     "data": {
      "text/plain": [
       "((0.7071067811865476+1.4142135623730951j),\n",
       " (1.4142135623730951-1.4142135623730951j))"
      ]
     },
     "execution_count": 27,
     "metadata": {},
     "output_type": "execute_result"
    }
   ],
   "source": [
    "rz11 = numpy.sqrt(1/2)+1j*numpy.sqrt(2)\n",
    "rz00 = numpy.sqrt(2)-1j*numpy.sqrt(2)\n",
    "rz11,rz00"
   ]
  },
  {
   "cell_type": "code",
   "execution_count": 28,
   "metadata": {},
   "outputs": [
    {
     "data": {
      "text/plain": [
       "0.0"
      ]
     },
     "execution_count": 28,
     "metadata": {},
     "output_type": "execute_result"
    }
   ],
   "source": [
    "circ = QuantumCircuit(2)\n",
    "circ.global_phase"
   ]
  },
  {
   "cell_type": "code",
   "execution_count": null,
   "metadata": {},
   "outputs": [],
   "source": []
  }
 ],
 "metadata": {
  "kernelspec": {
   "display_name": "qnew",
   "language": "python",
   "name": "python3"
  },
  "language_info": {
   "codemirror_mode": {
    "name": "ipython",
    "version": 3
   },
   "file_extension": ".py",
   "mimetype": "text/x-python",
   "name": "python",
   "nbconvert_exporter": "python",
   "pygments_lexer": "ipython3",
   "version": "3.12.4"
  }
 },
 "nbformat": 4,
 "nbformat_minor": 2
}
