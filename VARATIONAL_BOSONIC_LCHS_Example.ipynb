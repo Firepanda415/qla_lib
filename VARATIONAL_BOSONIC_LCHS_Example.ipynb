{
 "cells": [
  {
   "cell_type": "code",
   "execution_count": 1,
   "metadata": {},
   "outputs": [],
   "source": [
    "import numpy as np\n",
    "import numpy.linalg as nl\n",
    "import scipy\n",
    "import scipy.linalg as sl\n",
    "import matplotlib.pyplot as plt\n",
    "import sys\n",
    "sys.path.append('./src')\n",
    "\n",
    "np.set_printoptions(suppress=True)\n",
    "\n",
    "import warnings\n",
    "warnings.filterwarnings('ignore')"
   ]
  },
  {
   "cell_type": "markdown",
   "metadata": {},
   "source": [
    "## Set problem parameters\n",
    "\n",
    "Solve homogeneous IVP\n",
    "$$\n",
    "\\frac{\\mathrm{d} u(t)}{\\mathrm{d} t} = -A u(t),\\quad u(0) = \\vec{u}_0\n",
    "$$"
   ]
  },
  {
   "cell_type": "code",
   "execution_count": 2,
   "metadata": {},
   "outputs": [
    {
     "data": {
      "text/plain": [
       "(matrix([[ 0.98729963, -0.0262057 ],\n",
       "         [ 0.0278113 ,  1.00247044]]),\n",
       " matrix([[0.68870611],\n",
       "         [0.72504062]]))"
      ]
     },
     "execution_count": 2,
     "metadata": {},
     "output_type": "execute_result"
    }
   ],
   "source": [
    "nq = 1 #2\n",
    "dim = 2**nq\n",
    "rng = np.random.Generator(np.random.PCG64(178983489))\n",
    "T = 0.1 ## Define the time interval [0,T]\n",
    "\n",
    "## Define random A and u0\n",
    "u0 = np.matrix( rng.random((dim,1)) ,dtype=float) ## dtype complex is necessary for scipy to compute complex integral\n",
    "u0 = u0/np.linalg.norm(u0, ord=2)\n",
    "A = np.matrix(rng.random((dim,dim)),dtype=float)\n",
    "A = 0.1*(A-0.5) + 1*np.identity(dim)\n",
    "\n",
    "A,u0"
   ]
  },
  {
   "cell_type": "markdown",
   "metadata": {},
   "source": []
  },
  {
   "cell_type": "code",
   "execution_count": 3,
   "metadata": {},
   "outputs": [],
   "source": [
    "## beta and epsilon for LCHS parameters, epislon is the error tolerance\n",
    "beta = 0.8 # 0< beta < 1\n",
    "epsilon = 0.1 #0.05"
   ]
  },
  {
   "cell_type": "markdown",
   "metadata": {},
   "source": [
    "## SciPy solution"
   ]
  },
  {
   "cell_type": "code",
   "execution_count": 4,
   "metadata": {},
   "outputs": [
    {
     "data": {
      "text/plain": [
       "array([0.69120677, 0.72265704])"
      ]
     },
     "execution_count": 4,
     "metadata": {},
     "output_type": "execute_result"
    }
   ],
   "source": [
    "### Scipy Homogenous solution\n",
    "def ode_func_ho(t,u):\n",
    "        return np.array(-A.dot(u).reshape(-1))[0]\n",
    "\n",
    "spi_sol_ho = scipy.integrate.solve_ivp(ode_func_ho, [0,T],np.array(u0.reshape(-1))[0], method='RK45')\n",
    "spi_uT_ho = spi_sol_ho.y[:,-1]\n",
    "if np.linalg.norm(spi_uT_ho.imag,ord=2) < 1e-12:\n",
    "    spi_uT_ho = spi_uT_ho.real\n",
    "spi_uT_ho_norm = spi_uT_ho/np.linalg.norm(spi_uT_ho,ord=2)\n",
    "spi_uT_ho_norm"
   ]
  },
  {
   "cell_type": "markdown",
   "metadata": {},
   "source": [
    "## LCHS in classical computation"
   ]
  },
  {
   "cell_type": "code",
   "execution_count": 5,
   "metadata": {},
   "outputs": [
    {
     "name": "stdout",
     "output_type": "stream",
     "text": [
      "  Preset parameters T =  0.1 beta =  0.8 epsilon =  0.1\n",
      "  Truncation range [-K,K] K = 3.669573487133956\n",
      "  Step size h1 = 3.669573487133956\n",
      "  Number of nodes in [mh_1, (m+1)h_1] Q = 4\n",
      "  Total number of nodes M = 8\n",
      "  Truncation error bound = 26.770242137166786\n",
      "  Quadrature error bound = 0.034698851449614716\n",
      "  Total error bound = 26.8049409886164\n",
      "  ||c||_1 = 1.1816978425668454\n",
      "  ||u0||_2 = 1.0\n",
      "\n",
      "  Normalized Homogeneous u(T)=            [0.68715488 0.72651096]\n",
      "  Normalized SciPy Sol   u(T)=            [0.69120677 0.72265704]\n",
      "  Normalized Homogeneous solution error u(T)           : 0.005592000606936343\n"
     ]
    }
   ],
   "source": [
    "from lchs import class_lchs_tihs\n",
    "\n",
    "exp_op, uT = class_lchs_tihs(A, u0, T, beta, epsilon, trunc_multiplier=1, trotterLH=True, verbose=1)\n",
    "uT = np.array(uT).reshape(-1)\n",
    "if np.linalg.norm(uT.imag,ord=2) < 1e-12:\n",
    "    uT = uT.real\n",
    "uT_norm = uT/np.linalg.norm(uT,ord=2)\n",
    "\n",
    "print()\n",
    "print(\"  Normalized Homogeneous u(T)=           \", uT_norm)\n",
    "print(\"  Normalized SciPy Sol   u(T)=           \", spi_uT_ho_norm)\n",
    "print(\"  Normalized Homogeneous solution error u(T)           :\", np.linalg.norm(uT_norm - spi_uT_ho_norm,ord=2))"
   ]
  },
  {
   "cell_type": "markdown",
   "metadata": {},
   "source": [
    "## DV LCHS"
   ]
  },
  {
   "cell_type": "code",
   "execution_count": 8,
   "metadata": {},
   "outputs": [
    {
     "name": "stdout",
     "output_type": "stream",
     "text": [
      "  Preset parameters T =  0.1 beta =  0.8 epsilon =  0.1\n",
      "  Truncation range [-K,K] K = 3.669573487133956\n",
      "  Step size h1 = 3.669573487133956\n",
      "  Number of nodes in [mh_1, (m+1)h_1] Q = 4\n",
      "  Total number of nodes M = 8\n",
      "  Truncation error bound = 26.770242137166786\n",
      "  Quadrature error bound = 0.034698851449614716\n",
      "  Total error bound = 26.8049409886164\n",
      "  ||c||_1 = 1.1816978425668454\n",
      "  LCU-Oracle: num_qubits_control= 3 num_qubits_op= 1\n",
      "  Number of Qubits: 4\n",
      "\n",
      "  Normalized Quantum LCHS u(T)=           [0.68911474 0.72465224]\n",
      "  Normalized SciPy Sol   u(T)=            [0.69120677 0.72265704]\n",
      "  Normalized Quantum LCHS solution error u(T)           : 0.002890914791927233\n"
     ]
    }
   ],
   "source": [
    "from lchs import quant_lchs_tihs\n",
    "\n",
    "uT, lchs_circ_dv, full_state_dv, coeffs_dv, unitaries_dv, coeffs_unrot_dv, unitaries_unrot_dv = quant_lchs_tihs(A, u0, T, beta, epsilon, trunc_multiplier=1, trotterLH=True, verbose=1, rich_return=True)\n",
    "uT = np.array(uT).reshape(-1)\n",
    "if np.linalg.norm(uT.imag,ord=2) < 1e-12:\n",
    "    uT = uT.real\n",
    "uT_norm = uT/np.linalg.norm(uT,ord=2)\n",
    "\n",
    "print()\n",
    "print(\"  Normalized Quantum LCHS u(T)=          \", uT_norm)\n",
    "print(\"  Normalized SciPy Sol   u(T)=           \", spi_uT_ho_norm)\n",
    "print(\"  Normalized Quantum LCHS solution error u(T)           :\", np.linalg.norm(uT_norm - spi_uT_ho_norm,ord=2) )"
   ]
  },
  {
   "cell_type": "markdown",
   "metadata": {},
   "source": [
    "## CV-DV LCHS with varational qubit-qumode ansatzes for Hamiltonian evolution"
   ]
  },
  {
   "cell_type": "code",
   "execution_count": null,
   "metadata": {},
   "outputs": [
    {
     "name": "stdout",
     "output_type": "stream",
     "text": [
      "  Preset parameters T =  0.1 beta =  0.8 epsilon =  0.1\n",
      "  Truncation range [-K,K] K = 3.669573487133956\n",
      "  Step size h1 = 3.669573487133956\n",
      "  Number of nodes in [mh_1, (m+1)h_1] Q = 4\n",
      "  Total number of nodes M = 8\n",
      "  Truncation error bound = 26.770242137166786\n",
      "  Quadrature error bound = 0.034698851449614716\n",
      "  Total error bound = 26.8049409886164\n",
      "  ||c||_1 = 1.1816978425668454\n",
      "  LCU-Oracle: num_qubits_control= 3 num_qubits_op= 1\n",
      "  Number of Qubits: 5\n",
      ">> State preparation for initial condition is DISABLED <<\n",
      "\n",
      "  Normalized Variational Bosonic LCHS u(T)=            [0.68786645-0.00047234j 0.72583695+0.00049559j]\n",
      "  Normalized SciPy Sol                u(T)=            [0.69120677 0.72265704]\n",
      "  Normalized Variational Bosonic LCHS solution error u(T)           : 0.004662431994972372\n"
     ]
    }
   ],
   "source": [
    "from vbos_lchs import bos_var_lchs_tihs\n",
    "\n",
    "uT, lchs_circ_cd, circ_op_cd, coeffs_cd, unitaries_cd, coeffs_unrot_cd, unitaries_unrot_cd = bos_var_lchs_tihs(A, u0, T, beta, epsilon, trunc_multiplier=1, trotterLH=True, verbose=1)\n",
    "uT = np.array(uT).reshape(-1)\n",
    "if np.linalg.norm(uT.imag,ord=2) < 1e-12:\n",
    "    uT = uT.real\n",
    "uT_norm = uT/np.linalg.norm(uT,ord=2)\n",
    "\n",
    "print()\n",
    "print(\"  Normalized Variational Bosonic LCHS u(T)=           \", uT_norm)\n",
    "print(\"  Normalized SciPy Sol                u(T)=           \", spi_uT_ho_norm)\n",
    "print(\"  Normalized Variational Bosonic LCHS solution error u(T)           :\", np.linalg.norm(uT_norm - spi_uT_ho_norm,ord=2) )"
   ]
  },
  {
   "cell_type": "markdown",
   "metadata": {},
   "source": [
    "Looks like there are some errors due to optimization"
   ]
  }
 ],
 "metadata": {
  "kernelspec": {
   "display_name": "qbos",
   "language": "python",
   "name": "python3"
  },
  "language_info": {
   "codemirror_mode": {
    "name": "ipython",
    "version": 3
   },
   "file_extension": ".py",
   "mimetype": "text/x-python",
   "name": "python",
   "nbconvert_exporter": "python",
   "pygments_lexer": "ipython3",
   "version": "3.12.8"
  }
 },
 "nbformat": 4,
 "nbformat_minor": 2
}
