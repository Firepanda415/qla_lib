{
 "cells": [
  {
   "cell_type": "code",
   "execution_count": 1,
   "metadata": {},
   "outputs": [],
   "source": [
    "import qiskit\n",
    "import numpy\n",
    "import scipy\n",
    "# from qiskit.circuit import (\n",
    "#     ClassicalRegister,\n",
    "#     Gate,\n",
    "#     Instruction,\n",
    "#     Parameter,\n",
    "#     ParameterExpression,\n",
    "#     QuantumCircuit,\n",
    "#     QuantumRegister,\n",
    "# )\n",
    "\n",
    "# from qiskit.circuit.library.standard_gates import (\n",
    "#     CXGate,\n",
    "#     CYGate,\n",
    "#     CZGate,\n",
    "#     RXGate,\n",
    "#     RXXGate,\n",
    "#     RYGate,\n",
    "#     RYYGate,\n",
    "#     RZGate,\n",
    "#     RZXGate,\n",
    "#     RZZGate,\n",
    "#     XGate,\n",
    "# )\n",
    "\n",
    "numpy.set_printoptions(suppress=True)"
   ]
  },
  {
   "cell_type": "code",
   "execution_count": 106,
   "metadata": {},
   "outputs": [],
   "source": [
    "def nearest_num_qubit(x):\n",
    "    return int(numpy.ceil(numpy.log2(x)))\n",
    "\n",
    "def prep_oracle(coeff_array):\n",
    "    ## See (7.58) in https://arxiv.org/pdf/2201.08309\n",
    "    ## LCU Oracle for PREPARE for T = \\sum_i=0^{K-1} a_i U_i\n",
    "    ## V|0000...0> = 1/\\sqrt(||a||_1) \\sum_i=0^{K-1} \\sqrt(|a_i|)|i>\n",
    "    ## where ||a||_1 = \\sum_i |a_i|, a_i>0 (WLOG by absorbing the phase into U_i)\n",
    "    ##                        \\sqrt(a_0)    *   *  ...  *\n",
    "    ## V = 1/\\sqrt(||a||_1)   \\sqrt(a_1)    *   *  ...  *\n",
    "    ##                          ....        *   *  ...  *\n",
    "    ##                        \\sqrt(a_{K-1} *   *  ...  *\n",
    "    \n",
    "    l1norm = numpy.linalg.norm(coeff_array, ord=1)\n",
    "    coeff_array_normedsqrt = numpy.sqrt(numpy.abs(coeff_array)/l1norm)\n",
    "    num_terms = len(coeff_array)\n",
    "    num_qubits = nearest_num_qubit(num_terms)\n",
    "    v = numpy.identity(2**num_qubits, dtype=float)\n",
    "    for row in range(num_terms):\n",
    "        v[row,0] =  coeff_array_normedsqrt[row]\n",
    "    ## orthgonoalize v to make it unitary\n",
    "    q,r = numpy.linalg.qr(v)\n",
    "    if q[0,0] < 0:\n",
    "        q = -q\n",
    "    if numpy.linalg.norm(q[:,0] - v[:,0]) > 1e-12:\n",
    "        raise ValueError(\"QR decomposition failed to make V a unitary matrix\", \"we get\", q[:,0], \"but suppose to get\", v[:,0])\n",
    "    return q\n",
    "\n",
    "def select_oracle(unitary_array):\n",
    "    ## See (7.55) in https://arxiv.org/pdf/2201.08309\n",
    "    num_terms = len(unitary_array)\n",
    "    num_qubits_control = nearest_num_qubit(num_terms)\n",
    "    num_qubits_op = int(numpy.log2(unitary_array[0].shape[0]))\n",
    "    bin_string = '{0:0'+str(num_qubits_control)+'b}'\n",
    "    ##\n",
    "    select_circ = qiskit.QuantumCircuit(num_qubits_control+num_qubits_op)\n",
    "    for i in range(num_terms):\n",
    "        ibin = bin_string.format(i)[::-1]\n",
    "        # ibin = bin_string.format(i)\n",
    "        control_u = qiskit.quantum_info.Operator(unitary_array[i]).to_instruction().control(num_qubits_control)\n",
    "        ## For 0 control\n",
    "        for q in range(len(ibin)):\n",
    "            qbit = ibin[q]\n",
    "            if qbit == '0':\n",
    "                select_circ.x(q)\n",
    "        ## Apply the controlled-U gate\n",
    "        select_circ.append( control_u, list(range(num_qubits_control+num_qubits_op)) )\n",
    "        ## UNDO the X gate\n",
    "        for q in range(len(ibin)):\n",
    "            qbit = ibin[q]\n",
    "            if qbit == '0':\n",
    "                select_circ.x(q)\n",
    "    ##\n",
    "    select_circ.name = 'SELECT'\n",
    "    return select_circ\n",
    "\n",
    "def lcu_generator(coeff_array, unitary_array):\n",
    "    prep_mat = prep_oracle(coeff_array)\n",
    "    select_circ = select_oracle(unitary_array)\n",
    "    num_terms = len(unitary_array)\n",
    "    num_qubits_control = nearest_num_qubit(num_terms)\n",
    "    num_qubits_op = int(numpy.log2(unitary_array[0].shape[0]))\n",
    "    ##\n",
    "    lcu_circ = qiskit.QuantumCircuit(num_qubits_control+num_qubits_op)\n",
    "    ## Apply the preparation oracle\n",
    "    lcu_circ.unitary(prep_mat, list(range(num_qubits_control)), label='PREP')\n",
    "    ## Apply the selection oracle\n",
    "    lcu_circ.append(select_circ, list(range(num_qubits_control+num_qubits_op)))\n",
    "    ## Apply the preparation oracle dagger\n",
    "    lcu_circ.unitary(prep_mat.conj().T, list(range(num_qubits_control)), label='PREP_DAG')\n",
    "    ##\n",
    "    lcu_circ.reverse_bits() ## stupid qiskit measurement\n",
    "    return lcu_circ"
   ]
  },
  {
   "cell_type": "code",
   "execution_count": 107,
   "metadata": {},
   "outputs": [
    {
     "data": {
      "text/plain": [
       "array([[ 0.4+0.j ,  0.2+0.4j],\n",
       "       [ 0.2+0.4j, -0.2+0.j ]])"
      ]
     },
     "execution_count": 107,
     "metadata": {},
     "output_type": "execute_result"
    }
   ],
   "source": [
    "test_coefs = numpy.array([1,2,3,4])\n",
    "test_coefs_normed = test_coefs/numpy.linalg.norm(test_coefs, ord=1)\n",
    "test_unitaries = [numpy.array([[1,0],[0,1]]), numpy.array([[0,1],[1,0]]), numpy.array([[1,0],[0,-1]]), numpy.array([[0,1j],[1j,0]])]\n",
    "\n",
    "# test_coefs = numpy.array([1,2])\n",
    "# test_coefs_normed = test_coefs/numpy.linalg.norm(test_coefs, ord=1)\n",
    "# test_unitaries = [numpy.array([[1,0],[0,1]]), numpy.array([[0,1],[1,0]])]\n",
    "\n",
    "## -------------------\n",
    "if len(test_coefs) != len(test_unitaries):\n",
    "    raise ValueError(\"The number of coefficients and unitaries should be the same, but we have\", len(test_coefs), \"coefficients and\", len(test_unitaries), \"unitaries\")\n",
    "##\n",
    "correct_answer = numpy.zeros(test_unitaries[0].shape, dtype=complex)\n",
    "for i in range(len(test_coefs_normed)):\n",
    "    correct_answer += test_coefs_normed[i]*test_unitaries[i]\n",
    "\n",
    "## -------------------\n",
    "PREP = prep_oracle(test_coefs)\n",
    "SELE = select_oracle(test_unitaries)\n",
    "LCU = lcu_generator(test_coefs, test_unitaries)\n",
    "##\n",
    "correct_answer"
   ]
  },
  {
   "cell_type": "code",
   "execution_count": 108,
   "metadata": {},
   "outputs": [
    {
     "data": {
      "text/plain": [
       "(array([[ 0.31622777, -0.15811388, -0.27386128,  0.89442719],\n",
       "        [ 0.4472136 ,  0.89442719, -0.        ,  0.        ],\n",
       "        [ 0.54772256, -0.27386128,  0.79056942,  0.        ],\n",
       "        [ 0.63245553, -0.31622777, -0.54772256, -0.4472136 ]]),\n",
       " array([[ 1.,  0., -0.,  0.],\n",
       "        [ 0.,  1.,  0.,  0.],\n",
       "        [-0.,  0.,  1., -0.],\n",
       "        [ 0.,  0., -0.,  1.]]))"
      ]
     },
     "execution_count": 108,
     "metadata": {},
     "output_type": "execute_result"
    }
   ],
   "source": [
    "PREP, PREP.conj().T@PREP"
   ]
  },
  {
   "cell_type": "code",
   "execution_count": 109,
   "metadata": {},
   "outputs": [
    {
     "data": {
      "text/html": [
       "<pre style=\"word-wrap: normal;white-space: pre;background: #fff0;line-height: 1.1;font-family: &quot;Courier New&quot;,Courier,monospace\">     ┌───┐           ┌───┐                ┌───┐           ┌───┐           \n",
       "q_0: ┤ X ├─────■─────┤ X ├──────────■─────┤ X ├─────■─────┤ X ├─────■─────\n",
       "     ├───┤     │     ├───┤┌───┐     │     ├───┤     │     └───┘     │     \n",
       "q_1: ┤ X ├─────■─────┤ X ├┤ X ├─────■─────┤ X ├─────■───────────────■─────\n",
       "     └───┘┌────┴────┐└───┘└───┘┌────┴────┐└───┘┌────┴────┐     ┌────┴────┐\n",
       "q_2: ─────┤ Unitary ├──────────┤ Unitary ├─────┤ Unitary ├─────┤ Unitary ├\n",
       "          └─────────┘          └─────────┘     └─────────┘     └─────────┘</pre>"
      ],
      "text/plain": [
       "     ┌───┐           ┌───┐                ┌───┐           ┌───┐           \n",
       "q_0: ┤ X ├─────■─────┤ X ├──────────■─────┤ X ├─────■─────┤ X ├─────■─────\n",
       "     ├───┤     │     ├───┤┌───┐     │     ├───┤     │     └───┘     │     \n",
       "q_1: ┤ X ├─────■─────┤ X ├┤ X ├─────■─────┤ X ├─────■───────────────■─────\n",
       "     └───┘┌────┴────┐└───┘└───┘┌────┴────┐└───┘┌────┴────┐     ┌────┴────┐\n",
       "q_2: ─────┤ Unitary ├──────────┤ Unitary ├─────┤ Unitary ├─────┤ Unitary ├\n",
       "          └─────────┘          └─────────┘     └─────────┘     └─────────┘"
      ]
     },
     "execution_count": 109,
     "metadata": {},
     "output_type": "execute_result"
    }
   ],
   "source": [
    "SELE.draw()"
   ]
  },
  {
   "cell_type": "code",
   "execution_count": 110,
   "metadata": {},
   "outputs": [
    {
     "data": {
      "text/html": [
       "<pre style=\"word-wrap: normal;white-space: pre;background: #fff0;line-height: 1.1;font-family: &quot;Courier New&quot;,Courier,monospace\">     ┌───────┐┌─────────┐┌───────────┐\n",
       "q_0: ┤0      ├┤0        ├┤0          ├\n",
       "     │  PREP ││         ││  PREP_DAG │\n",
       "q_1: ┤1      ├┤1 SELECT ├┤1          ├\n",
       "     └───────┘│         │└───────────┘\n",
       "q_2: ─────────┤2        ├─────────────\n",
       "              └─────────┘             </pre>"
      ],
      "text/plain": [
       "     ┌───────┐┌─────────┐┌───────────┐\n",
       "q_0: ┤0      ├┤0        ├┤0          ├\n",
       "     │  PREP ││         ││  PREP_DAG │\n",
       "q_1: ┤1      ├┤1 SELECT ├┤1          ├\n",
       "     └───────┘│         │└───────────┘\n",
       "q_2: ─────────┤2        ├─────────────\n",
       "              └─────────┘             "
      ]
     },
     "execution_count": 110,
     "metadata": {},
     "output_type": "execute_result"
    }
   ],
   "source": [
    "LCU.draw()"
   ]
  },
  {
   "cell_type": "code",
   "execution_count": 111,
   "metadata": {},
   "outputs": [
    {
     "data": {
      "text/plain": [
       "array([[ 0.4       +0.j        ,  0.2       +0.4j       ,\n",
       "         0.34641016+0.j        , -0.        -0.34641016j,\n",
       "        -0.2       -0.j        ,  0.4       -0.2j       ,\n",
       "         0.28284271+0.j        , -0.        -0.28284271j],\n",
       "       [ 0.2       +0.4j       , -0.2       -0.j        ,\n",
       "        -0.        -0.34641016j, -0.51961524-0.j        ,\n",
       "         0.4       -0.2j       ,  0.1       +0.j        ,\n",
       "        -0.        -0.28284271j,  0.28284271+0.j        ],\n",
       "       [ 0.34641016+0.j        , -0.        -0.34641016j,\n",
       "         0.7       +0.j        ,  0.        +0.3j       ,\n",
       "        -0.17320508-0.j        ,  0.        +0.17320508j,\n",
       "        -0.24494897-0.j        ,  0.        +0.24494897j],\n",
       "       [-0.        -0.34641016j, -0.51961524-0.j        ,\n",
       "         0.        +0.3j       , -0.55      -0.j        ,\n",
       "         0.        +0.17320508j,  0.25980762+0.j        ,\n",
       "         0.        +0.24494897j, -0.24494897+0.j        ],\n",
       "       [-0.2       -0.j        ,  0.4       -0.2j       ,\n",
       "        -0.17320508-0.j        ,  0.        +0.17320508j,\n",
       "         0.1       -0.j        ,  0.8       +0.1j       ,\n",
       "        -0.14142136-0.j        ,  0.        +0.14142136j],\n",
       "       [ 0.4       -0.2j       ,  0.1       +0.j        ,\n",
       "         0.        +0.17320508j,  0.25980762+0.j        ,\n",
       "         0.8       +0.1j       , -0.05      +0.j        ,\n",
       "         0.        +0.14142136j, -0.14142136-0.j        ],\n",
       "       [ 0.28284271+0.j        , -0.        -0.28284271j,\n",
       "        -0.24494897-0.j        ,  0.        +0.24494897j,\n",
       "        -0.14142136-0.j        ,  0.        +0.14142136j,\n",
       "         0.8       +0.j        ,  0.        +0.2j       ],\n",
       "       [-0.        -0.28284271j,  0.28284271+0.j        ,\n",
       "         0.        +0.24494897j, -0.24494897-0.j        ,\n",
       "         0.        +0.14142136j, -0.14142136-0.j        ,\n",
       "         0.        +0.2j       ,  0.8       +0.j        ]])"
      ]
     },
     "execution_count": 111,
     "metadata": {},
     "output_type": "execute_result"
    }
   ],
   "source": [
    "def qiskit_to_normal_order(qiskit_matrix):\n",
    "    num_qubits = int(numpy.log2(qiskit_matrix.shape[0]))\n",
    "    bin_str = '{0:0'+str(num_qubits)+'b}'\n",
    "    new_matrix = numpy.zeros(qiskit_matrix.shape, dtype=complex)\n",
    "    for i in range(qiskit_matrix.shape[0]):\n",
    "        for j in range(qiskit_matrix.shape[1]):\n",
    "            normal_i = int(bin_str.format(i)[::-1],2)\n",
    "            normal_j = int(bin_str.format(j)[::-1],2)\n",
    "            new_matrix[normal_i,normal_j] = qiskit_matrix[i,j]\n",
    "    return new_matrix\n",
    "\n",
    "circ_op = qiskit_to_normal_order(qiskit.quantum_info.Operator(LCU).data)\n",
    "circ_op"
   ]
  },
  {
   "cell_type": "code",
   "execution_count": 112,
   "metadata": {},
   "outputs": [
    {
     "data": {
      "text/plain": [
       "array([[ 0.4       +0.j        , -0.2       -0.j        ,\n",
       "         0.34641016+0.j        ,  0.28284271+0.j        ,\n",
       "         0.2       +0.4j       ,  0.4       -0.2j       ,\n",
       "        -0.        -0.34641016j, -0.        -0.28284271j],\n",
       "       [-0.2       -0.j        ,  0.1       -0.j        ,\n",
       "        -0.17320508-0.j        , -0.14142136-0.j        ,\n",
       "         0.4       -0.2j       ,  0.8       +0.1j       ,\n",
       "         0.        +0.17320508j,  0.        +0.14142136j],\n",
       "       [ 0.34641016+0.j        , -0.17320508-0.j        ,\n",
       "         0.7       +0.j        , -0.24494897-0.j        ,\n",
       "        -0.        -0.34641016j,  0.        +0.17320508j,\n",
       "         0.        +0.3j       ,  0.        +0.24494897j],\n",
       "       [ 0.28284271+0.j        , -0.14142136-0.j        ,\n",
       "        -0.24494897-0.j        ,  0.8       +0.j        ,\n",
       "        -0.        -0.28284271j,  0.        +0.14142136j,\n",
       "         0.        +0.24494897j,  0.        +0.2j       ],\n",
       "       [ 0.2       +0.4j       ,  0.4       -0.2j       ,\n",
       "        -0.        -0.34641016j, -0.        -0.28284271j,\n",
       "        -0.2       -0.j        ,  0.1       +0.j        ,\n",
       "        -0.51961524-0.j        ,  0.28284271+0.j        ],\n",
       "       [ 0.4       -0.2j       ,  0.8       +0.1j       ,\n",
       "         0.        +0.17320508j,  0.        +0.14142136j,\n",
       "         0.1       +0.j        , -0.05      +0.j        ,\n",
       "         0.25980762+0.j        , -0.14142136-0.j        ],\n",
       "       [-0.        -0.34641016j,  0.        +0.17320508j,\n",
       "         0.        +0.3j       ,  0.        +0.24494897j,\n",
       "        -0.51961524-0.j        ,  0.25980762+0.j        ,\n",
       "        -0.55      -0.j        , -0.24494897+0.j        ],\n",
       "       [-0.        -0.28284271j,  0.        +0.14142136j,\n",
       "         0.        +0.24494897j,  0.        +0.2j       ,\n",
       "         0.28284271+0.j        , -0.14142136-0.j        ,\n",
       "        -0.24494897-0.j        ,  0.8       +0.j        ]])"
      ]
     },
     "execution_count": 112,
     "metadata": {},
     "output_type": "execute_result"
    }
   ],
   "source": [
    "qiskit.quantum_info.Operator(LCU).data"
   ]
  },
  {
   "cell_type": "code",
   "execution_count": 113,
   "metadata": {},
   "outputs": [
    {
     "data": {
      "text/plain": [
       "array([[ 0.4+0.j ,  0.2+0.4j],\n",
       "       [ 0.2+0.4j, -0.2-0.j ]])"
      ]
     },
     "execution_count": 113,
     "metadata": {},
     "output_type": "execute_result"
    }
   ],
   "source": [
    "circ_op[:2,:2]"
   ]
  },
  {
   "cell_type": "code",
   "execution_count": 114,
   "metadata": {},
   "outputs": [
    {
     "data": {
      "text/plain": [
       "array([[ 0.4+0.j ,  0.2+0.4j],\n",
       "       [ 0.2+0.4j, -0.2+0.j ]])"
      ]
     },
     "execution_count": 114,
     "metadata": {},
     "output_type": "execute_result"
    }
   ],
   "source": [
    "correct_answer"
   ]
  },
  {
   "cell_type": "code",
   "execution_count": null,
   "metadata": {},
   "outputs": [],
   "source": []
  }
 ],
 "metadata": {
  "kernelspec": {
   "display_name": "qnew",
   "language": "python",
   "name": "python3"
  },
  "language_info": {
   "codemirror_mode": {
    "name": "ipython",
    "version": 3
   },
   "file_extension": ".py",
   "mimetype": "text/x-python",
   "name": "python",
   "nbconvert_exporter": "python",
   "pygments_lexer": "ipython3",
   "version": "3.12.4"
  }
 },
 "nbformat": 4,
 "nbformat_minor": 2
}
